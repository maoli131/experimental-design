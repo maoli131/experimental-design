{
 "cells": [
  {
   "cell_type": "code",
   "execution_count": 3,
   "id": "671b0404-5636-4cb5-8dc5-a1a55493709c",
   "metadata": {},
   "outputs": [],
   "source": [
    "import pandas as pd\n",
    "import numpy as np\n",
    "import math\n",
    "import matplotlib.pyplot as plt\n",
    "import seaborn as sns"
   ]
  },
  {
   "cell_type": "markdown",
   "id": "bec86abb-5a79-4469-8db1-f75d6185801e",
   "metadata": {
    "tags": []
   },
   "source": [
    "# Capacity Requirements\n",
    "\n",
    "This notebook predicts the maximum memory capacity and expected capacity requirement of Fashion MNIST dataset. "
   ]
  },
  {
   "cell_type": "code",
   "execution_count": 4,
   "id": "8c2e5ec4-3767-4215-b781-106affd12f4c",
   "metadata": {},
   "outputs": [
    {
     "data": {
      "text/html": [
       "<div>\n",
       "<style scoped>\n",
       "    .dataframe tbody tr th:only-of-type {\n",
       "        vertical-align: middle;\n",
       "    }\n",
       "\n",
       "    .dataframe tbody tr th {\n",
       "        vertical-align: top;\n",
       "    }\n",
       "\n",
       "    .dataframe thead th {\n",
       "        text-align: right;\n",
       "    }\n",
       "</style>\n",
       "<table border=\"1\" class=\"dataframe\">\n",
       "  <thead>\n",
       "    <tr style=\"text-align: right;\">\n",
       "      <th></th>\n",
       "      <th>label</th>\n",
       "      <th>pixel1</th>\n",
       "      <th>pixel2</th>\n",
       "      <th>pixel3</th>\n",
       "      <th>pixel4</th>\n",
       "      <th>pixel5</th>\n",
       "      <th>pixel6</th>\n",
       "      <th>pixel7</th>\n",
       "      <th>pixel8</th>\n",
       "      <th>pixel9</th>\n",
       "      <th>...</th>\n",
       "      <th>pixel775</th>\n",
       "      <th>pixel776</th>\n",
       "      <th>pixel777</th>\n",
       "      <th>pixel778</th>\n",
       "      <th>pixel779</th>\n",
       "      <th>pixel780</th>\n",
       "      <th>pixel781</th>\n",
       "      <th>pixel782</th>\n",
       "      <th>pixel783</th>\n",
       "      <th>pixel784</th>\n",
       "    </tr>\n",
       "  </thead>\n",
       "  <tbody>\n",
       "    <tr>\n",
       "      <th>0</th>\n",
       "      <td>2</td>\n",
       "      <td>0</td>\n",
       "      <td>0</td>\n",
       "      <td>0</td>\n",
       "      <td>0</td>\n",
       "      <td>0</td>\n",
       "      <td>0</td>\n",
       "      <td>0</td>\n",
       "      <td>0</td>\n",
       "      <td>0</td>\n",
       "      <td>...</td>\n",
       "      <td>0</td>\n",
       "      <td>0</td>\n",
       "      <td>0</td>\n",
       "      <td>0</td>\n",
       "      <td>0</td>\n",
       "      <td>0</td>\n",
       "      <td>0</td>\n",
       "      <td>0</td>\n",
       "      <td>0</td>\n",
       "      <td>0</td>\n",
       "    </tr>\n",
       "    <tr>\n",
       "      <th>1</th>\n",
       "      <td>9</td>\n",
       "      <td>0</td>\n",
       "      <td>0</td>\n",
       "      <td>0</td>\n",
       "      <td>0</td>\n",
       "      <td>0</td>\n",
       "      <td>0</td>\n",
       "      <td>0</td>\n",
       "      <td>0</td>\n",
       "      <td>0</td>\n",
       "      <td>...</td>\n",
       "      <td>0</td>\n",
       "      <td>0</td>\n",
       "      <td>0</td>\n",
       "      <td>0</td>\n",
       "      <td>0</td>\n",
       "      <td>0</td>\n",
       "      <td>0</td>\n",
       "      <td>0</td>\n",
       "      <td>0</td>\n",
       "      <td>0</td>\n",
       "    </tr>\n",
       "    <tr>\n",
       "      <th>2</th>\n",
       "      <td>6</td>\n",
       "      <td>0</td>\n",
       "      <td>0</td>\n",
       "      <td>0</td>\n",
       "      <td>0</td>\n",
       "      <td>0</td>\n",
       "      <td>0</td>\n",
       "      <td>0</td>\n",
       "      <td>5</td>\n",
       "      <td>0</td>\n",
       "      <td>...</td>\n",
       "      <td>0</td>\n",
       "      <td>0</td>\n",
       "      <td>0</td>\n",
       "      <td>30</td>\n",
       "      <td>43</td>\n",
       "      <td>0</td>\n",
       "      <td>0</td>\n",
       "      <td>0</td>\n",
       "      <td>0</td>\n",
       "      <td>0</td>\n",
       "    </tr>\n",
       "    <tr>\n",
       "      <th>3</th>\n",
       "      <td>0</td>\n",
       "      <td>0</td>\n",
       "      <td>0</td>\n",
       "      <td>0</td>\n",
       "      <td>1</td>\n",
       "      <td>2</td>\n",
       "      <td>0</td>\n",
       "      <td>0</td>\n",
       "      <td>0</td>\n",
       "      <td>0</td>\n",
       "      <td>...</td>\n",
       "      <td>3</td>\n",
       "      <td>0</td>\n",
       "      <td>0</td>\n",
       "      <td>0</td>\n",
       "      <td>0</td>\n",
       "      <td>1</td>\n",
       "      <td>0</td>\n",
       "      <td>0</td>\n",
       "      <td>0</td>\n",
       "      <td>0</td>\n",
       "    </tr>\n",
       "    <tr>\n",
       "      <th>4</th>\n",
       "      <td>3</td>\n",
       "      <td>0</td>\n",
       "      <td>0</td>\n",
       "      <td>0</td>\n",
       "      <td>0</td>\n",
       "      <td>0</td>\n",
       "      <td>0</td>\n",
       "      <td>0</td>\n",
       "      <td>0</td>\n",
       "      <td>0</td>\n",
       "      <td>...</td>\n",
       "      <td>0</td>\n",
       "      <td>0</td>\n",
       "      <td>0</td>\n",
       "      <td>0</td>\n",
       "      <td>0</td>\n",
       "      <td>0</td>\n",
       "      <td>0</td>\n",
       "      <td>0</td>\n",
       "      <td>0</td>\n",
       "      <td>0</td>\n",
       "    </tr>\n",
       "  </tbody>\n",
       "</table>\n",
       "<p>5 rows × 785 columns</p>\n",
       "</div>"
      ],
      "text/plain": [
       "   label  pixel1  pixel2  pixel3  pixel4  pixel5  pixel6  pixel7  pixel8  \\\n",
       "0      2       0       0       0       0       0       0       0       0   \n",
       "1      9       0       0       0       0       0       0       0       0   \n",
       "2      6       0       0       0       0       0       0       0       5   \n",
       "3      0       0       0       0       1       2       0       0       0   \n",
       "4      3       0       0       0       0       0       0       0       0   \n",
       "\n",
       "   pixel9  ...  pixel775  pixel776  pixel777  pixel778  pixel779  pixel780  \\\n",
       "0       0  ...         0         0         0         0         0         0   \n",
       "1       0  ...         0         0         0         0         0         0   \n",
       "2       0  ...         0         0         0        30        43         0   \n",
       "3       0  ...         3         0         0         0         0         1   \n",
       "4       0  ...         0         0         0         0         0         0   \n",
       "\n",
       "   pixel781  pixel782  pixel783  pixel784  \n",
       "0         0         0         0         0  \n",
       "1         0         0         0         0  \n",
       "2         0         0         0         0  \n",
       "3         0         0         0         0  \n",
       "4         0         0         0         0  \n",
       "\n",
       "[5 rows x 785 columns]"
      ]
     },
     "execution_count": 4,
     "metadata": {},
     "output_type": "execute_result"
    }
   ],
   "source": [
    "# Loading Fashion MNIST dataset\n",
    "fashion_mnist = pd.read_csv('data/train.csv')\n",
    "fashion_mnist.head()"
   ]
  },
  {
   "cell_type": "markdown",
   "id": "99d71956-63c1-413a-a630-f0d5fdc48cb3",
   "metadata": {},
   "source": [
    "In Fashion MNIST dataset, the first column is the label [0 - 9], and the rest 784 columns refer to the 784 pixels in a 28 x 28 grayscale image. We have in total 600,000 training samples.  "
   ]
  },
  {
   "cell_type": "markdown",
   "id": "1279287e-2909-4d5b-975f-67bf5ece7293",
   "metadata": {
    "tags": []
   },
   "source": [
    "## Algorithm 1\n",
    "\n",
    "The algorithm implements the pseudo code in Chapter 9 of prof. Gerald's textbook. It is similar to what's presented in [nntailoring capacity requirement](https://github.com/fractor/nntailoring/blob/master/capacityreq/capacityreq.py). This algorithm assumes that all d dimensions are in equilibrium and can be modeled with equal weights in the dot product. In other wrods, we can fix the weights to 1 and train only the biases. To train the bias, we create a two-column table containing the 1-weighted sums of the feature vector adn the corresponding label. Then we sort the table by the first column (sums). Finally, we iterate through the sorted table and count the need for a threshold every time a class change occurs between two neighboring rows. This is equivalent of adding a neuron with input weights 1 and given threshold as bias to a hidden layer of a 3-layer neural network. \n",
    "\n",
    "To compute Memory Equivalent Capacity, we then assume the machine learner is ideal and therefore training the weights is maximally effective. The perfect training can cut down the number of threshold comparisons exponentially to at least $log_2(t)$\n",
    "\n",
    "![algorithm 1](images/mec-algorithm.png)\n",
    "\n",
    "In our case, we extends it to multiclass setting using:\n",
    "$$\n",
    "mec = \\sum_{i}(\\frac{1}{p_i} * log_2(\\#\\ threshold \\ due \\ to \\ class \\ i+1) * dimensions)\n",
    "$$"
   ]
  },
  {
   "cell_type": "code",
   "execution_count": 5,
   "id": "ca8fff6b-4138-4775-9405-978f06d5ef49",
   "metadata": {},
   "outputs": [],
   "source": [
    "from collections import defaultdict\n",
    "def capacity_req(df, debug=False):\n",
    "    '''\n",
    "    This uses an equilibrium machine leaner (dummny nn) to compute capacity requirement of a datasets.\n",
    "    Input: df - pandas dataframe\n",
    "        Dataframe df has the first column as labels and the rest columns as features. \n",
    "        Each row in the dataframe is a data point. \n",
    "    '''\n",
    "    \n",
    "    # Input dimensions, number of points, and number of classes\n",
    "    input_dims = len(df.columns) - 1  # the first column is label\n",
    "    num_rows = len(df)                # number of data points\n",
    "    classes = df['label'].unique()    # list of all labels / classes\n",
    "    num_classes = len(classes)\n",
    "    prob_class_i = 1 / num_classes    # Assumed balanced multiclass\n",
    "    \n",
    "    # Step 1\n",
    "    # for every data point x[i] in the dataframe, sum all of its features\n",
    "    # for instance, for x[1], sum(x[1][d]) for all d.\n",
    "    df['dim_sum'] = df.iloc[:,1:].sum(axis=1)\n",
    "    \n",
    "    # Step 2: sort the table by each data point's dimension sum\n",
    "    sorted_df = df.sort_values(by='dim_sum')\n",
    "    \n",
    "    # Step 3: loop over the table and count number of thresholds for each class\n",
    "    c = -1 \n",
    "    class_threshold = defaultdict(int)\n",
    "    for label in sorted_df['label']:\n",
    "        if label != c:\n",
    "            c = label\n",
    "            class_threshold[c] += 1\n",
    "            \n",
    "    # Memory Equivalent Capacity\n",
    "    mec = np.round(sum([math.log(class_threshold[i] + 1, 2) * input_dims / prob_class_i for i in classes]), 2)\n",
    "    \n",
    "    # Debug Output\n",
    "    stats = {\n",
    "        \"Input dimensions\": input_dims,\n",
    "        \"# of data points\": num_rows,\n",
    "        \"# of classes\": num_classes,\n",
    "        \"prob of class i\": prob_class_i,\n",
    "        \"# of thresholds per class\": str(class_threshold),\n",
    "        \"mec\": mec\n",
    "    }\n",
    "    if debug:\n",
    "        display(stats)\n",
    "    \n",
    "    return mec"
   ]
  },
  {
   "cell_type": "code",
   "execution_count": 6,
   "id": "40e8d1ec-7be5-4d57-b022-404de6a64d4f",
   "metadata": {},
   "outputs": [
    {
     "data": {
      "text/plain": [
       "{'Input dimensions': 784,\n",
       " '# of data points': 60000,\n",
       " '# of classes': 10,\n",
       " 'prob of class i': 0.1,\n",
       " '# of thresholds per class': \"defaultdict(<class 'int'>, {5: 3826, 3: 5220, 0: 5316, 6: 5311, 7: 4598, 4: 4922, 2: 5011, 8: 5187, 9: 5004, 1: 4838})\",\n",
       " 'mec': 961166.38}"
      ]
     },
     "metadata": {},
     "output_type": "display_data"
    },
    {
     "name": "stdout",
     "output_type": "stream",
     "text": [
      "\n",
      "Memory Equivalent Capacity for Fashion-MNIST: 961166.38\n"
     ]
    }
   ],
   "source": [
    "print(\"\\nMemory Equivalent Capacity for Fashion-MNIST:\", capacity_req(fashion_mnist, True))"
   ]
  },
  {
   "cell_type": "code",
   "execution_count": 8,
   "id": "fa9f2338-0c0b-4e08-a0d4-b2e4eb35fa50",
   "metadata": {},
   "outputs": [
    {
     "data": {
      "image/png": "[encoded data removed]",
      "text/plain": [
       "<Figure size 432x288 with 1 Axes>"
      ]
     },
     "metadata": {
      "needs_background": "light"
     },
     "output_type": "display_data"
    }
   ],
   "source": [
    "proportions = np.arange(0.1, 1, 0.1)\n",
    "mec_list = []\n",
    "for i in proportions:\n",
    "    mec_list.append(capacity_req(fashion_mnist.sample(frac=i, axis=0)))\n",
    "plt.title(\"Dataset Expected MEC vs. % of Training Data\")\n",
    "plt.xlabel(\"% Training Data\")\n",
    "plt.ylabel(\"Dataset Expected MEC\")\n",
    "sns.lineplot(x=proportions * 100, y=mec_list)\n",
    "sns.scatterplot(x=proportions * 100, y=mec_list);"
   ]
  },
  {
   "cell_type": "markdown",
   "id": "f9a1fe1d-a1c7-4abe-b217-231bb75e0dee",
   "metadata": {},
   "source": [
    "## Algorithm 2\n",
    "\n",
    "We tabularize the dataset as a dictionary with 60000 rows. Each row has 1 out of 10 labels. Then at worst case memorization, our machine leaner need to memorize $10^{60000}$ labeling functions and thus need $log_2(10^{60000})$ bits"
   ]
  },
  {
   "cell_type": "code",
   "execution_count": 7,
   "id": "fe799290-0185-4803-b6d3-5890d3c6c263",
   "metadata": {},
   "outputs": [],
   "source": [
    "def max_capacity_req_dict(df):\n",
    "    num_rows = len(df)                # number of data points\n",
    "    num_classes = len(df['label'].unique())\n",
    "    max_cap_req = num_rows * math.log(num_classes, 2)\n",
    "    print(\"Max Capacity Requirement (dict):\", max_cap_req)"
   ]
  },
  {
   "cell_type": "code",
   "execution_count": 8,
   "id": "c6975fbd-cc83-4b48-ba64-184d63477739",
   "metadata": {},
   "outputs": [
    {
     "name": "stdout",
     "output_type": "stream",
     "text": [
      "Max Capacity Requirement (dict): 199315.68569324174\n"
     ]
    }
   ],
   "source": [
    "max_capacity_req_dict(fashion_mnist)"
   ]
  }
 ],
 "metadata": {
  "kernelspec": {
   "display_name": "Python 3",
   "language": "python",
   "name": "python3"
  },
  "language_info": {
   "codemirror_mode": {
    "name": "ipython",
    "version": 3
   },
   "file_extension": ".py",
   "mimetype": "text/x-python",
   "name": "python",
   "nbconvert_exporter": "python",
   "pygments_lexer": "ipython3",
   "version": "3.8.8"
  }
 },
 "nbformat": 4,
 "nbformat_minor": 5
}
