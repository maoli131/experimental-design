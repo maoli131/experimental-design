{
 "cells": [
  {
   "cell_type": "markdown",
   "id": "370789f1-a728-41c8-982b-efbb0ef3aa91",
   "metadata": {
    "tags": []
   },
   "source": [
    "# Experimental Design on Multilayer Preceptron\n",
    "\n",
    "This notebook performs the analysis and experimental design on the Multilayer Preceptron trained on Fashion-MNIST dataset. Please refer to our writeup for more details.\n",
    "\n",
    "## Introduction\n",
    "\n",
    "- Model: a multilayer preceptron that consists of four linear layer with ReLU activation functions. \n",
    "![MLP](images/MLP.png)\n",
    "- Dataset: Fashion MNIST dataset, with 60,000 training samples and 10,000 testing samples. Each sample is a 28 x 28 grayscale image, that is out of the 10 classes: {\"T-Shirt\", \"Trouser\", \"Pullover\", \"Dress\", \"Coat\", \"Sandal\", \"Shirt\", \"Sneaker\", \"Bag\", \"Ankle Boot\"}\n",
    "\n",
    "\n",
    "**Note**: This notebook uses `wandb` to automatically track the model specification, hyperparameters and performance for every run. Before running this notebook, make sure\n",
    "```\n",
    "pip install wandb\n",
    "```\n",
    "We can then simply edit the `config` dictionary and run the pipeline. All experiments and results will be automatically logged. "
   ]
  },
  {
   "cell_type": "code",
   "execution_count": 1,
   "id": "5410fa56-b306-4f7f-8eeb-9a25eeb98654",
   "metadata": {},
   "outputs": [
    {
     "name": "stdout",
     "output_type": "stream",
     "text": [
      "Using cuda device\n"
     ]
    }
   ],
   "source": [
    "import os\n",
    "import random\n",
    "\n",
    "import numpy as np\n",
    "import matplotlib.pyplot as plt\n",
    "import pandas as pd\n",
    "\n",
    "import torch\n",
    "from torch import nn\n",
    "from torch.utils.data import DataLoader, Subset\n",
    "from torchvision import datasets\n",
    "from torchvision.transforms import ToTensor, Lambda, Compose\n",
    "\n",
    "import seaborn as sns\n",
    "import math\n",
    "\n",
    "# from tqdm.notebook import tqdm # progress bar\n",
    "\n",
    "# Ensure deterministic behavior\n",
    "torch.backends.cudnn.deterministic = True\n",
    "random.seed(hash(\"setting random seeds\") % 2**32 - 1)\n",
    "np.random.seed(hash(\"improves reproducibility\") % 2**32 - 1)\n",
    "torch.manual_seed(hash(\"by removing stochasticity\") % 2**32 - 1)\n",
    "torch.cuda.manual_seed_all(hash(\"so runs are repeatable\") % 2**32 - 1)\n",
    "\n",
    "# Device Configuration\n",
    "device = \"cuda\" if torch.cuda.is_available() else \"cpu\"\n",
    "print(f\"Using {device} device\")"
   ]
  },
  {
   "cell_type": "markdown",
   "id": "75fcfe39-130a-400e-984d-14d8f86864eb",
   "metadata": {},
   "source": [
    "## Preliminaries\n",
    "We must login to wandb account, in order to record our training on the platform's dashborad. Make sure to install wandb library in our virtual conda environment. "
   ]
  },
  {
   "cell_type": "code",
   "execution_count": 16,
   "id": "b16c1cb6-7c0e-4d3f-98c3-7774894a5684",
   "metadata": {},
   "outputs": [
    {
     "data": {
      "text/plain": [
       "True"
      ]
     },
     "execution_count": 16,
     "metadata": {},
     "output_type": "execute_result"
    }
   ],
   "source": [
    "import wandb\n",
    "wandb.login()"
   ]
  },
  {
   "cell_type": "markdown",
   "id": "7f5dfd76-8c30-41d9-a1f3-1cb7a3611434",
   "metadata": {
    "tags": []
   },
   "source": [
    "## Define Data Loading and Model"
   ]
  },
  {
   "cell_type": "code",
   "execution_count": 3,
   "id": "cf031035-ef1f-4b1a-951b-ffa71fbb7f96",
   "metadata": {},
   "outputs": [],
   "source": [
    "# Get training and testing data with config (slice)\n",
    "def get_data(sls=5, train=True):\n",
    "    \n",
    "    full_dataset = datasets.FashionMNIST(\n",
    "        root=\"data\",\n",
    "        train=train,\n",
    "        download=True,\n",
    "        transform=ToTensor(),\n",
    "    )\n",
    "    # equiv to slicing iwth [::slice]\n",
    "    sub_dataset = Subset(full_dataset, indices=range(0, int(sls * len(full_dataset)), 1))\n",
    "    \n",
    "    return sub_dataset\n",
    "\n",
    "# Make the dataloader with config (dataset, batch_size\n",
    "def make_loader(dataset, batch_size):\n",
    "    \n",
    "    loader = DataLoader(dataset=dataset, batch_size=batch_size)\n",
    "    return loader"
   ]
  },
  {
   "cell_type": "code",
   "execution_count": 4,
   "id": "ea3c73e9-98b7-4148-89cb-ab234868e5ee",
   "metadata": {},
   "outputs": [],
   "source": [
    "# Define model: a simple multilayer preceptron\n",
    "class MLP(nn.Module):\n",
    "    def __init__(self, kernels, classes=10):\n",
    "        super(MLP, self).__init__()\n",
    "        self.flatten = nn.Flatten()\n",
    "        self.linear_relu_stack = nn.Sequential(\n",
    "            nn.Linear(28*28, kernels[0]),\n",
    "            nn.ReLU(),\n",
    "            nn.Linear(kernels[0], kernels[1]),\n",
    "            nn.ReLU(),\n",
    "            nn.Linear(kernels[1], kernels[2]),\n",
    "            nn.ReLU(),\n",
    "            nn.Linear(kernels[2], classes)\n",
    "        )\n",
    "\n",
    "    def forward(self, x):\n",
    "        x = self.flatten(x)\n",
    "        logits = self.linear_relu_stack(x)\n",
    "        return logits"
   ]
  },
  {
   "cell_type": "markdown",
   "id": "2ef19a84-30ca-4a33-8471-df001c214058",
   "metadata": {
    "tags": []
   },
   "source": [
    "## Define Training Logic\n",
    "\n",
    "`wandb.watch` will log the gradients and the parameters of your model, every `log_freq` steps of training."
   ]
  },
  {
   "cell_type": "code",
   "execution_count": 5,
   "id": "250de5a2-92f2-45c1-867c-73cda9d88aa1",
   "metadata": {},
   "outputs": [],
   "source": [
    "def train(model, loader, criterion, optimizer, config):\n",
    "    \n",
    "    # Tell wandb to watch what the model gets up to: gradients, weights, and more!\n",
    "    wandb.watch(model, criterion, log=\"all\", log_freq=10)\n",
    "    \n",
    "    # Run training and track with wandb\n",
    "    total_batches = len(loader) * config.epochs\n",
    "    example_ct = 0  # number of examples seen\n",
    "    batch_ct = 0\n",
    "    for epoch in range(config.epochs):\n",
    "        for _, (images, labels) in enumerate(loader):\n",
    "\n",
    "            loss = train_batch(images, labels, model, optimizer, criterion)\n",
    "            example_ct +=  len(images)\n",
    "            batch_ct += 1\n",
    "\n",
    "            # Report metrics every 25th batch\n",
    "            if ((batch_ct + 1) % 100) == 0:\n",
    "                train_log(loss, example_ct, epoch)\n",
    "\n",
    "def train_batch(images, labels, model, optimizer, criterion):\n",
    "    images, labels = images.to(device), labels.to(device)\n",
    "    \n",
    "    # Forward pass \n",
    "    outputs = model(images)\n",
    "    loss = criterion(outputs, labels)\n",
    "    \n",
    "    # Backward pass \n",
    "    optimizer.zero_grad()\n",
    "    loss.backward()\n",
    "\n",
    "    # Step with optimizer\n",
    "    optimizer.step()\n",
    "\n",
    "    return loss"
   ]
  },
  {
   "cell_type": "markdown",
   "id": "e830e783-cf52-460a-a79d-c397c5dfd495",
   "metadata": {},
   "source": [
    "`wandb.log` records the reported metrics to their server. "
   ]
  },
  {
   "cell_type": "code",
   "execution_count": 6,
   "id": "c5b3fcf0-aa02-42d9-b89c-b2df66930304",
   "metadata": {},
   "outputs": [],
   "source": [
    "def train_log(loss, example_ct, epoch):\n",
    "    # Where the magic happens\n",
    "    wandb.log({\"epoch\": epoch, \"loss\": loss}, step=example_ct)\n",
    "    #print(f\"Loss after \" + str(example_ct).zfill(5) + f\" examples: {loss:.3f}\")"
   ]
  },
  {
   "cell_type": "markdown",
   "id": "ee64fd46-8b17-40ae-936b-aa54269518b7",
   "metadata": {},
   "source": [
    "## Define Testing Logic\n",
    "\n",
    "Once the model is done training, we want to test it: run it against some fresh data from production.\n",
    "\n",
    "We can save the model's architecture and final parameters to disk. We'll `export` our model in the\n",
    "[Open Neural Network eXchange (ONNX) format](https://onnx.ai/).\n",
    "\n",
    "Passing that filename to `wandb.save` ensures that the model parameters are saved to W&B's servers: no more losing track of which `.h5` or `.pb` corresponds to which training runs!"
   ]
  },
  {
   "cell_type": "code",
   "execution_count": 7,
   "id": "1689ebf9-54fd-47ff-8deb-2382d27248ca",
   "metadata": {},
   "outputs": [],
   "source": [
    "def test(model, test_loader):\n",
    "    \n",
    "    model.eval()\n",
    "\n",
    "    # Run the model on some test examples\n",
    "    with torch.no_grad():\n",
    "        correct, total = 0, 0\n",
    "        for images, labels in test_loader: #TODO\n",
    "            images, labels = images.to(device), labels.to(device)\n",
    "            outputs = model(images)\n",
    "            _, predicted = torch.max(outputs.data, 1)\n",
    "            total += labels.size(0)\n",
    "            correct += (predicted == labels).sum().item()\n",
    "\n",
    "        print(f\"Accuracy of the model on the {total} \" +\n",
    "              f\"images: {100 * correct / total}%\")\n",
    "        \n",
    "        wandb.log({\"train_accuracy\": correct / total})\n",
    "\n",
    "    # Save the model in the exchangeable ONNX format\n",
    "    torch.onnx.export(model, images, \"model.onnx\")\n",
    "    wandb.save(\"model.onnx\")\n",
    "    \n",
    "    return correct / total"
   ]
  },
  {
   "cell_type": "markdown",
   "id": "fcd5b072-4ee7-4f3d-bfa4-b536b06f950d",
   "metadata": {
    "tags": []
   },
   "source": [
    "## Define the experiment and pipeline"
   ]
  },
  {
   "cell_type": "markdown",
   "id": "94a7683e-17cc-4496-b719-706c85f913b2",
   "metadata": {
    "tags": []
   },
   "source": [
    "### Make\n",
    "\n",
    "To ensure the values we chose and logged are always the ones that get used\n",
    "in our model, we use the `wandb.config` copy of your object."
   ]
  },
  {
   "cell_type": "code",
   "execution_count": 8,
   "id": "24e6405e-cc87-4b22-b8e5-30c764db93f3",
   "metadata": {},
   "outputs": [],
   "source": [
    "def make(config):\n",
    "    # Make the data, TODO: both data are training 6000 data\n",
    "    train, test = get_data(train=True, sls = config.sls), get_data(train=False, sls= config.sls)\n",
    "    train_loader = make_loader(train, batch_size=config.batch_size)\n",
    "    test_loader_train = make_loader(train, batch_size=config.batch_size)\n",
    "    test_loader_test = make_loader(test, batch_size=config.batch_size)\n",
    "\n",
    "    # Make the model\n",
    "    model = MLP(config.kernels, config.classes).to(device)\n",
    "\n",
    "    # Make the loss and optimizer\n",
    "    criterion = nn.CrossEntropyLoss()\n",
    "    optimizer = torch.optim.Adam(\n",
    "        model.parameters(), lr=config.learning_rate)\n",
    "    \n",
    "    return model, train_loader, test_loader_train, test_loader_test, criterion, optimizer"
   ]
  },
  {
   "cell_type": "markdown",
   "id": "dbc2c5c1-3a59-4153-b6ac-ee9a6a18c59c",
   "metadata": {},
   "source": [
    "### Pipeline\n",
    "\n",
    "The overall pipeline is structured as the following:\n",
    "1. we first `make` a model, plus associated data and optimizer, then\n",
    "2. we `train` the model accordingly and finally\n",
    "3. `test` it to see how training went."
   ]
  },
  {
   "cell_type": "code",
   "execution_count": 9,
   "id": "e77c575b-60ec-40f5-ab8b-fceaa2912636",
   "metadata": {},
   "outputs": [],
   "source": [
    "def model_pipeline(hyperparameters):\n",
    "\n",
    "    # tell wandb to get started\n",
    "    with wandb.init(project=\"cs294-082-final\", config=hyperparameters):\n",
    "      \n",
    "        # access all HPs through wandb.config, so logging matches execution!\n",
    "        config = wandb.config\n",
    "\n",
    "        # make the model, data, and optimization problem\n",
    "        model, train_loader, test_loader_train, test_loader_test, criterion, optimizer = make(config)\n",
    "        #print(model)\n",
    "\n",
    "        # and use them to train the model\n",
    "        train(model, train_loader, criterion, optimizer, config)\n",
    "\n",
    "        # and test its final performance\n",
    "        tr_acc = test(model, test_loader_train)\n",
    "        te_acc = test(model, test_loader_test)\n",
    "\n",
    "    return model, tr_acc, te_acc"
   ]
  },
  {
   "cell_type": "markdown",
   "id": "8f7cb1b2-48b0-45f0-a0f4-e4f2684fe270",
   "metadata": {
    "tags": []
   },
   "source": [
    "### Run the Model \n",
    "\n",
    "- Config: Hyperparameters and metadata for our model is stored in a dictionary `config`.\n",
    "- Pipeline: build, train and analyze the model with pipline"
   ]
  },
  {
   "cell_type": "markdown",
   "id": "f3e8aa5d-8e9e-4122-acf6-f238c3b0dbf1",
   "metadata": {},
   "source": [
    "### Model Accuracy vs. Percentage of Training Data Used\n",
    "\n",
    "We vary the `sls` in `config` to train the model with 10%, 30%, 50%, 70% and 100% of our data. "
   ]
  },
  {
   "cell_type": "code",
   "execution_count": 10,
   "id": "3a5f400d-ae44-413f-8cdd-f3181a6f43da",
   "metadata": {},
   "outputs": [
    {
     "data": {
      "text/html": [
       "\n",
       "                    Syncing run <strong><a href=\"https://wandb.ai/maoli131/cs294-082-final/runs/3iqk74cm\" target=\"_blank\">deep-brook-1</a></strong> to <a href=\"https://wandb.ai/maoli131/cs294-082-final\" target=\"_blank\">Weights & Biases</a> (<a href=\"https://docs.wandb.com/integrations/jupyter.html\" target=\"_blank\">docs</a>).<br/>\n",
       "\n",
       "                "
      ],
      "text/plain": [
       "<IPython.core.display.HTML object>"
      ]
     },
     "metadata": {},
     "output_type": "display_data"
    },
    {
     "name": "stdout",
     "output_type": "stream",
     "text": [
      "Accuracy of the model on the 6000 images: 90.0%\n",
      "Accuracy of the model on the 1000 images: 85.0%\n"
     ]
    },
    {
     "data": {
      "text/html": [
       "<br/>Waiting for W&B process to finish, PID 68103... <strong style=\"color:green\">(success).</strong>"
      ],
      "text/plain": [
       "<IPython.core.display.HTML object>"
      ]
     },
     "metadata": {},
     "output_type": "display_data"
    },
    {
     "data": {
      "application/vnd.jupyter.widget-view+json": {
       "model_id": "",
       "version_major": 2,
       "version_minor": 0
      },
      "text/plain": [
       "VBox(children=(Label(value=' 0.96MB of 0.96MB uploaded (0.00MB deduped)\\r'), FloatProgress(value=1.0, max=1.0)…"
      ]
     },
     "metadata": {},
     "output_type": "display_data"
    },
    {
     "data": {
      "text/html": [
       "<style>\n",
       "    table.wandb td:nth-child(1) { padding: 0 10px; text-align: right }\n",
       "    .wandb-row { display: flex; flex-direction: row; flex-wrap: wrap; width: 100% }\n",
       "    .wandb-col { display: flex; flex-direction: column; flex-basis: 100%; flex: 1; padding: 10px; }\n",
       "    </style>\n",
       "<div class=\"wandb-row\"><div class=\"wandb-col\">\n",
       "<h3>Run history:</h3><br/><table class=\"wandb\"><tr><td>epoch</td><td>▁▂▃▄▅▅▆▇█</td></tr><tr><td>loss</td><td>█▂▂▁▃▃▁▂▁</td></tr><tr><td>train_accuracy</td><td>█▁</td></tr></table><br/></div><div class=\"wandb-col\">\n",
       "<h3>Run summary:</h3><br/><table class=\"wandb\"><tr><td>epoch</td><td>9</td></tr><tr><td>loss</td><td>0.36193</td></tr><tr><td>train_accuracy</td><td>0.85</td></tr></table>\n",
       "</div></div>\n",
       "Synced 5 W&B file(s), 0 media file(s), 0 artifact file(s) and 1 other file(s)\n",
       "<br/>Synced <strong style=\"color:#cdcd00\">deep-brook-1</strong>: <a href=\"https://wandb.ai/maoli131/cs294-082-final/runs/3iqk74cm\" target=\"_blank\">https://wandb.ai/maoli131/cs294-082-final/runs/3iqk74cm</a><br/>\n",
       "Find logs at: <code>./wandb/run-20211214_005612-3iqk74cm/logs</code><br/>\n"
      ],
      "text/plain": [
       "<IPython.core.display.HTML object>"
      ]
     },
     "metadata": {},
     "output_type": "display_data"
    },
    {
     "data": {
      "text/html": [
       "\n",
       "                    Syncing run <strong><a href=\"https://wandb.ai/maoli131/cs294-082-final/runs/3iur37cl\" target=\"_blank\">vital-water-2</a></strong> to <a href=\"https://wandb.ai/maoli131/cs294-082-final\" target=\"_blank\">Weights & Biases</a> (<a href=\"https://docs.wandb.com/integrations/jupyter.html\" target=\"_blank\">docs</a>).<br/>\n",
       "\n",
       "                "
      ],
      "text/plain": [
       "<IPython.core.display.HTML object>"
      ]
     },
     "metadata": {},
     "output_type": "display_data"
    },
    {
     "name": "stdout",
     "output_type": "stream",
     "text": [
      "Accuracy of the model on the 18000 images: 88.17777777777778%\n",
      "Accuracy of the model on the 3000 images: 85.06666666666666%\n"
     ]
    },
    {
     "data": {
      "text/html": [
       "<br/>Waiting for W&B process to finish, PID 68336... <strong style=\"color:green\">(success).</strong>"
      ],
      "text/plain": [
       "<IPython.core.display.HTML object>"
      ]
     },
     "metadata": {},
     "output_type": "display_data"
    },
    {
     "data": {
      "application/vnd.jupyter.widget-view+json": {
       "model_id": "",
       "version_major": 2,
       "version_minor": 0
      },
      "text/plain": [
       "VBox(children=(Label(value=' 0.08MB of 0.96MB uploaded (0.00MB deduped)\\r'), FloatProgress(value=0.08210979701…"
      ]
     },
     "metadata": {},
     "output_type": "display_data"
    },
    {
     "data": {
      "text/html": [
       "<style>\n",
       "    table.wandb td:nth-child(1) { padding: 0 10px; text-align: right }\n",
       "    .wandb-row { display: flex; flex-direction: row; flex-wrap: wrap; width: 100% }\n",
       "    .wandb-col { display: flex; flex-direction: column; flex-basis: 100%; flex: 1; padding: 10px; }\n",
       "    </style>\n",
       "<div class=\"wandb-row\"><div class=\"wandb-col\">\n",
       "<h3>Run history:</h3><br/><table class=\"wandb\"><tr><td>epoch</td><td>▁▁▂▂▂▃▃▃▃▃▃▄▄▄▅▅▆▆▆▆▆▆▇▇▇███</td></tr><tr><td>loss</td><td>█▅▄▄▄▅▃▃▄▃▂▂▃▃▃▂▂▁▂▃▃▂▁▁▁▅▂▁</td></tr><tr><td>train_accuracy</td><td>█▁</td></tr></table><br/></div><div class=\"wandb-col\">\n",
       "<h3>Run summary:</h3><br/><table class=\"wandb\"><tr><td>epoch</td><td>9</td></tr><tr><td>loss</td><td>0.22168</td></tr><tr><td>train_accuracy</td><td>0.85067</td></tr></table>\n",
       "</div></div>\n",
       "Synced 5 W&B file(s), 0 media file(s), 0 artifact file(s) and 1 other file(s)\n",
       "<br/>Synced <strong style=\"color:#cdcd00\">vital-water-2</strong>: <a href=\"https://wandb.ai/maoli131/cs294-082-final/runs/3iur37cl\" target=\"_blank\">https://wandb.ai/maoli131/cs294-082-final/runs/3iur37cl</a><br/>\n",
       "Find logs at: <code>./wandb/run-20211214_005633-3iur37cl/logs</code><br/>\n"
      ],
      "text/plain": [
       "<IPython.core.display.HTML object>"
      ]
     },
     "metadata": {},
     "output_type": "display_data"
    },
    {
     "data": {
      "text/html": [
       "\n",
       "                    Syncing run <strong><a href=\"https://wandb.ai/maoli131/cs294-082-final/runs/3i8r6ba8\" target=\"_blank\">radiant-pine-3</a></strong> to <a href=\"https://wandb.ai/maoli131/cs294-082-final\" target=\"_blank\">Weights & Biases</a> (<a href=\"https://docs.wandb.com/integrations/jupyter.html\" target=\"_blank\">docs</a>).<br/>\n",
       "\n",
       "                "
      ],
      "text/plain": [
       "<IPython.core.display.HTML object>"
      ]
     },
     "metadata": {},
     "output_type": "display_data"
    },
    {
     "name": "stdout",
     "output_type": "stream",
     "text": [
      "Accuracy of the model on the 30000 images: 90.28%\n"
     ]
    },
    {
     "name": "stderr",
     "output_type": "stream",
     "text": [
      "/global/homes/m/maoli/.conda/envs/tutorial/lib/python3.8/site-packages/wandb/wandb_torch.py:222: TracerWarning: Converting a tensor to a Python boolean might cause the trace to be incorrect. We can't record the data flow of Python values, so this value will be treated as a constant in the future. This means that the trace might not generalize to other inputs!\n",
      "  if flat.shape == torch.Size([0]):\n",
      "/global/homes/m/maoli/.conda/envs/tutorial/lib/python3.8/site-packages/wandb/wandb_torch.py:225: TracerWarning: Converting a tensor to a Python number might cause the trace to be incorrect. We can't record the data flow of Python values, so this value will be treated as a constant in the future. This means that the trace might not generalize to other inputs!\n",
      "  tmin = flat.min().item()\n",
      "/global/homes/m/maoli/.conda/envs/tutorial/lib/python3.8/site-packages/wandb/wandb_torch.py:226: TracerWarning: Converting a tensor to a Python number might cause the trace to be incorrect. We can't record the data flow of Python values, so this value will be treated as a constant in the future. This means that the trace might not generalize to other inputs!\n",
      "  tmax = flat.max().item()\n",
      "/global/homes/m/maoli/.conda/envs/tutorial/lib/python3.8/site-packages/wandb/wandb_torch.py:261: TracerWarning: Converting a tensor to a Python list might cause the trace to be incorrect. We can't record the data flow of Python values, so this value will be treated as a constant in the future. This means that the trace might not generalize to other inputs!\n",
      "  {name: wandb.Histogram(np_histogram=(tensor.tolist(), bins.tolist()))}\n"
     ]
    },
    {
     "name": "stdout",
     "output_type": "stream",
     "text": [
      "Accuracy of the model on the 5000 images: 85.56%\n"
     ]
    },
    {
     "data": {
      "text/html": [
       "<br/>Waiting for W&B process to finish, PID 68960... <strong style=\"color:green\">(success).</strong>"
      ],
      "text/plain": [
       "<IPython.core.display.HTML object>"
      ]
     },
     "metadata": {},
     "output_type": "display_data"
    },
    {
     "data": {
      "application/vnd.jupyter.widget-view+json": {
       "model_id": "",
       "version_major": 2,
       "version_minor": 0
      },
      "text/plain": [
       "VBox(children=(Label(value=' 0.00MB of 0.96MB uploaded (0.00MB deduped)\\r'), FloatProgress(value=0.00088443630…"
      ]
     },
     "metadata": {},
     "output_type": "display_data"
    },
    {
     "data": {
      "text/html": [
       "<style>\n",
       "    table.wandb td:nth-child(1) { padding: 0 10px; text-align: right }\n",
       "    .wandb-row { display: flex; flex-direction: row; flex-wrap: wrap; width: 100% }\n",
       "    .wandb-col { display: flex; flex-direction: column; flex-basis: 100%; flex: 1; padding: 10px; }\n",
       "    </style>\n",
       "<div class=\"wandb-row\"><div class=\"wandb-col\">\n",
       "<h3>Run history:</h3><br/><table class=\"wandb\"><tr><td>epoch</td><td>▁▁▁▁▂▂▂▂▃▃▃▃▃▃▃▃▄▄▄▄▅▅▅▅▅▆▆▆▆▆▆▆▆▇▇▇▇███</td></tr><tr><td>loss</td><td>█▆█▅▄▅▄▃▇▄▃▄▅▄▂▂▂▂▃▂▃▅▂▃▃▄▃▅▃▂▂▂▁▂▂▃▂▃▂▂</td></tr><tr><td>train_accuracy</td><td>█▁</td></tr></table><br/></div><div class=\"wandb-col\">\n",
       "<h3>Run summary:</h3><br/><table class=\"wandb\"><tr><td>epoch</td><td>9</td></tr><tr><td>loss</td><td>0.23775</td></tr><tr><td>train_accuracy</td><td>0.8556</td></tr></table>\n",
       "</div></div>\n",
       "Synced 5 W&B file(s), 0 media file(s), 0 artifact file(s) and 1 other file(s)\n",
       "<br/>Synced <strong style=\"color:#cdcd00\">radiant-pine-3</strong>: <a href=\"https://wandb.ai/maoli131/cs294-082-final/runs/3i8r6ba8\" target=\"_blank\">https://wandb.ai/maoli131/cs294-082-final/runs/3i8r6ba8</a><br/>\n",
       "Find logs at: <code>./wandb/run-20211214_005716-3i8r6ba8/logs</code><br/>\n"
      ],
      "text/plain": [
       "<IPython.core.display.HTML object>"
      ]
     },
     "metadata": {},
     "output_type": "display_data"
    },
    {
     "data": {
      "text/html": [
       "\n",
       "                    Syncing run <strong><a href=\"https://wandb.ai/maoli131/cs294-082-final/runs/3d43k1a1\" target=\"_blank\">vivid-spaceship-4</a></strong> to <a href=\"https://wandb.ai/maoli131/cs294-082-final\" target=\"_blank\">Weights & Biases</a> (<a href=\"https://docs.wandb.com/integrations/jupyter.html\" target=\"_blank\">docs</a>).<br/>\n",
       "\n",
       "                "
      ],
      "text/plain": [
       "<IPython.core.display.HTML object>"
      ]
     },
     "metadata": {},
     "output_type": "display_data"
    },
    {
     "name": "stdout",
     "output_type": "stream",
     "text": [
      "Accuracy of the model on the 42000 images: 91.29047619047618%\n",
      "Accuracy of the model on the 7000 images: 87.55714285714286%\n"
     ]
    },
    {
     "data": {
      "text/html": [
       "<br/>Waiting for W&B process to finish, PID 69258... <strong style=\"color:green\">(success).</strong>"
      ],
      "text/plain": [
       "<IPython.core.display.HTML object>"
      ]
     },
     "metadata": {},
     "output_type": "display_data"
    },
    {
     "data": {
      "application/vnd.jupyter.widget-view+json": {
       "model_id": "",
       "version_major": 2,
       "version_minor": 0
      },
      "text/plain": [
       "VBox(children=(Label(value=' 0.00MB of 0.96MB uploaded (0.00MB deduped)\\r'), FloatProgress(value=0.00088443630…"
      ]
     },
     "metadata": {},
     "output_type": "display_data"
    },
    {
     "data": {
      "text/html": [
       "<style>\n",
       "    table.wandb td:nth-child(1) { padding: 0 10px; text-align: right }\n",
       "    .wandb-row { display: flex; flex-direction: row; flex-wrap: wrap; width: 100% }\n",
       "    .wandb-col { display: flex; flex-direction: column; flex-basis: 100%; flex: 1; padding: 10px; }\n",
       "    </style>\n",
       "<div class=\"wandb-row\"><div class=\"wandb-col\">\n",
       "<h3>Run history:</h3><br/><table class=\"wandb\"><tr><td>epoch</td><td>▁▁▁▁▂▂▂▂▃▃▃▃▃▃▃▃▄▄▄▄▅▅▅▅▆▆▆▆▆▆▆▆▇▇▇▇████</td></tr><tr><td>loss</td><td>█▆▅▄▅▆▅▃▆▄▅▃▂▂▂▅▂▃▃▅▃▃▁▂▃▃▁▂▃▂▃▁▁▂▁▁▄▄▁▂</td></tr><tr><td>train_accuracy</td><td>█▁</td></tr></table><br/></div><div class=\"wandb-col\">\n",
       "<h3>Run summary:</h3><br/><table class=\"wandb\"><tr><td>epoch</td><td>9</td></tr><tr><td>loss</td><td>0.18565</td></tr><tr><td>train_accuracy</td><td>0.87557</td></tr></table>\n",
       "</div></div>\n",
       "Synced 5 W&B file(s), 0 media file(s), 0 artifact file(s) and 1 other file(s)\n",
       "<br/>Synced <strong style=\"color:#cdcd00\">vivid-spaceship-4</strong>: <a href=\"https://wandb.ai/maoli131/cs294-082-final/runs/3d43k1a1\" target=\"_blank\">https://wandb.ai/maoli131/cs294-082-final/runs/3d43k1a1</a><br/>\n",
       "Find logs at: <code>./wandb/run-20211214_005823-3d43k1a1/logs</code><br/>\n"
      ],
      "text/plain": [
       "<IPython.core.display.HTML object>"
      ]
     },
     "metadata": {},
     "output_type": "display_data"
    },
    {
     "data": {
      "text/html": [
       "\n",
       "                    Syncing run <strong><a href=\"https://wandb.ai/maoli131/cs294-082-final/runs/1ttfsevn\" target=\"_blank\">fresh-bee-5</a></strong> to <a href=\"https://wandb.ai/maoli131/cs294-082-final\" target=\"_blank\">Weights & Biases</a> (<a href=\"https://docs.wandb.com/integrations/jupyter.html\" target=\"_blank\">docs</a>).<br/>\n",
       "\n",
       "                "
      ],
      "text/plain": [
       "<IPython.core.display.HTML object>"
      ]
     },
     "metadata": {},
     "output_type": "display_data"
    },
    {
     "name": "stdout",
     "output_type": "stream",
     "text": [
      "Accuracy of the model on the 60000 images: 90.015%\n",
      "Accuracy of the model on the 10000 images: 86.93%\n"
     ]
    },
    {
     "data": {
      "text/html": [
       "<br/>Waiting for W&B process to finish, PID 69759... <strong style=\"color:green\">(success).</strong>"
      ],
      "text/plain": [
       "<IPython.core.display.HTML object>"
      ]
     },
     "metadata": {},
     "output_type": "display_data"
    },
    {
     "data": {
      "application/vnd.jupyter.widget-view+json": {
       "model_id": "",
       "version_major": 2,
       "version_minor": 0
      },
      "text/plain": [
       "VBox(children=(Label(value=' 0.87MB of 0.96MB uploaded (0.00MB deduped)\\r'), FloatProgress(value=0.90248594023…"
      ]
     },
     "metadata": {},
     "output_type": "display_data"
    },
    {
     "data": {
      "text/html": [
       "<style>\n",
       "    table.wandb td:nth-child(1) { padding: 0 10px; text-align: right }\n",
       "    .wandb-row { display: flex; flex-direction: row; flex-wrap: wrap; width: 100% }\n",
       "    .wandb-col { display: flex; flex-direction: column; flex-basis: 100%; flex: 1; padding: 10px; }\n",
       "    </style>\n",
       "<div class=\"wandb-row\"><div class=\"wandb-col\">\n",
       "<h3>Run history:</h3><br/><table class=\"wandb\"><tr><td>epoch</td><td>▁▁▁▁▂▂▂▂▃▃▃▃▃▃▃▃▄▄▄▄▅▅▅▅▆▆▆▆▆▆▆▆▇▇▇▇████</td></tr><tr><td>loss</td><td>██▄▄▇▃▃▅▃▃▅▃▄▄▂▃▄▅▃▂▂▁▁▃▂▃▂▃▁▂▄▄▂▃▂▃▂▁▂▃</td></tr><tr><td>train_accuracy</td><td>█▁</td></tr></table><br/></div><div class=\"wandb-col\">\n",
       "<h3>Run summary:</h3><br/><table class=\"wandb\"><tr><td>epoch</td><td>9</td></tr><tr><td>loss</td><td>0.28768</td></tr><tr><td>train_accuracy</td><td>0.8693</td></tr></table>\n",
       "</div></div>\n",
       "Synced 5 W&B file(s), 0 media file(s), 0 artifact file(s) and 1 other file(s)\n",
       "<br/>Synced <strong style=\"color:#cdcd00\">fresh-bee-5</strong>: <a href=\"https://wandb.ai/maoli131/cs294-082-final/runs/1ttfsevn\" target=\"_blank\">https://wandb.ai/maoli131/cs294-082-final/runs/1ttfsevn</a><br/>\n",
       "Find logs at: <code>./wandb/run-20211214_005956-1ttfsevn/logs</code><br/>\n"
      ],
      "text/plain": [
       "<IPython.core.display.HTML object>"
      ]
     },
     "metadata": {},
     "output_type": "display_data"
    },
    {
     "data": {
      "image/png": "[encoded data removed]",
      "text/plain": [
       "<Figure size 432x288 with 1 Axes>"
      ]
     },
     "metadata": {
      "needs_background": "light"
     },
     "output_type": "display_data"
    }
   ],
   "source": [
    "# configurations\n",
    "config = dict(\n",
    "    epochs=10,\n",
    "    classes=10,\n",
    "    kernels=[256, 128, 128],\n",
    "    batch_size=64,\n",
    "    learning_rate=0.001,\n",
    "    sls = 0.1,\n",
    "    dataset=\"Fashion-MNIST\",\n",
    "    architecture=\"MLP\"\n",
    ")\n",
    "\n",
    "# Build, train and analyze the model with the pipeline\n",
    "portions = [0.1, 0.3, 0.5, 0.7, 1]\n",
    "train_acc_list = []\n",
    "test_acc_list = []\n",
    "for sls in portions:\n",
    "    config['sls'] = sls\n",
    "    model, tr_acc, te_acc = model_pipeline(config)\n",
    "    train_acc_list.append(tr_acc)\n",
    "    test_acc_list.append(te_acc)\n",
    "\n",
    "# Visualize the results\n",
    "plt.title(\"Accuracy vs. % Training Data Used\")\n",
    "plt.xlabel(\"% Training Data Used\")\n",
    "plt.ylabel(\"Accuracy\")\n",
    "sns.scatterplot(x=portions, y=train_acc_list)\n",
    "sns.lineplot(x=portions, y=train_acc_list, label=\"train accuracy\")\n",
    "sns.scatterplot(x=portions, y=test_acc_list)\n",
    "sns.lineplot(x=portions, y=test_acc_list, label=\"test accuracy\");"
   ]
  },
  {
   "cell_type": "markdown",
   "id": "7df00a4e-fbc4-42e4-9503-3733bb887bc6",
   "metadata": {},
   "source": [
    "### Model Accuracy vs. Epoches\n",
    "\n",
    "Train our model at Memory Equivalent Capacity for epoches 1, 10, 20, 30, 50, 80. Can we reach near 100% memorization?"
   ]
  },
  {
   "cell_type": "code",
   "execution_count": 12,
   "id": "9e6b20d8-cd10-4489-b1c8-9687bfc3c242",
   "metadata": {},
   "outputs": [],
   "source": [
    "# Assume kernel includes the number of nodes for four layers. \n",
    "def compute_mec(kernel, in_features=784):\n",
    "    layer1 = (in_features + 1) * kernel[0] \n",
    "    layer2 = min(kernel[0], (kernel[0] + 1) * kernel[1])\n",
    "    layer3 = min(kernel[1], (kernel[1] + 1) * kernel[2])\n",
    "    layer4 = min(kernel[2], (kernel[2] * 1) * 10)\n",
    "    output = 10 # output layer has 10 bits for 10 nodes \n",
    "    return layer1 + layer2 + layer3 + layer4 + output"
   ]
  },
  {
   "cell_type": "code",
   "execution_count": 13,
   "id": "1589a4b4-9b1d-431e-95fe-9370cb275bd1",
   "metadata": {},
   "outputs": [
    {
     "name": "stdout",
     "output_type": "stream",
     "text": [
      "\n",
      "Training our model at MEC =  201482 \n",
      "\n"
     ]
    },
    {
     "data": {
      "text/html": [
       "\n",
       "                    Syncing run <strong><a href=\"https://wandb.ai/maoli131/cs294-082-final/runs/1yzrnli0\" target=\"_blank\">scarlet-wave-6</a></strong> to <a href=\"https://wandb.ai/maoli131/cs294-082-final\" target=\"_blank\">Weights & Biases</a> (<a href=\"https://docs.wandb.com/integrations/jupyter.html\" target=\"_blank\">docs</a>).<br/>\n",
       "\n",
       "                "
      ],
      "text/plain": [
       "<IPython.core.display.HTML object>"
      ]
     },
     "metadata": {},
     "output_type": "display_data"
    },
    {
     "name": "stdout",
     "output_type": "stream",
     "text": [
      "Accuracy of the model on the 6000 images: 74.55%\n",
      "Accuracy of the model on the 1000 images: 74.2%\n"
     ]
    },
    {
     "data": {
      "text/html": [
       "<br/>Waiting for W&B process to finish, PID 48064... <strong style=\"color:green\">(success).</strong>"
      ],
      "text/plain": [
       "<IPython.core.display.HTML object>"
      ]
     },
     "metadata": {},
     "output_type": "display_data"
    },
    {
     "data": {
      "application/vnd.jupyter.widget-view+json": {
       "model_id": "",
       "version_major": 2,
       "version_minor": 0
      },
      "text/plain": [
       "VBox(children=(Label(value=' 0.96MB of 0.96MB uploaded (0.00MB deduped)\\r'), FloatProgress(value=1.0, max=1.0)…"
      ]
     },
     "metadata": {},
     "output_type": "display_data"
    },
    {
     "data": {
      "text/html": [
       "<style>\n",
       "    table.wandb td:nth-child(1) { padding: 0 10px; text-align: right }\n",
       "    .wandb-row { display: flex; flex-direction: row; flex-wrap: wrap; width: 100% }\n",
       "    .wandb-col { display: flex; flex-direction: column; flex-basis: 100%; flex: 1; padding: 10px; }\n",
       "    </style>\n",
       "<div class=\"wandb-row\"><div class=\"wandb-col\">\n",
       "<h3>Run history:</h3><br/><table class=\"wandb\"><tr><td>train_accuracy</td><td>█▁</td></tr></table><br/></div><div class=\"wandb-col\">\n",
       "<h3>Run summary:</h3><br/><table class=\"wandb\"><tr><td>train_accuracy</td><td>0.742</td></tr></table>\n",
       "</div></div>\n",
       "Synced 5 W&B file(s), 0 media file(s), 0 artifact file(s) and 1 other file(s)\n",
       "<br/>Synced <strong style=\"color:#cdcd00\">scarlet-wave-6</strong>: <a href=\"https://wandb.ai/maoli131/cs294-082-final/runs/1yzrnli0\" target=\"_blank\">https://wandb.ai/maoli131/cs294-082-final/runs/1yzrnli0</a><br/>\n",
       "Find logs at: <code>./wandb/run-20211214_011315-1yzrnli0/logs</code><br/>\n"
      ],
      "text/plain": [
       "<IPython.core.display.HTML object>"
      ]
     },
     "metadata": {},
     "output_type": "display_data"
    },
    {
     "data": {
      "text/html": [
       "\n",
       "                    Syncing run <strong><a href=\"https://wandb.ai/maoli131/cs294-082-final/runs/cp9c6lkc\" target=\"_blank\">colorful-monkey-7</a></strong> to <a href=\"https://wandb.ai/maoli131/cs294-082-final\" target=\"_blank\">Weights & Biases</a> (<a href=\"https://docs.wandb.com/integrations/jupyter.html\" target=\"_blank\">docs</a>).<br/>\n",
       "\n",
       "                "
      ],
      "text/plain": [
       "<IPython.core.display.HTML object>"
      ]
     },
     "metadata": {},
     "output_type": "display_data"
    },
    {
     "name": "stdout",
     "output_type": "stream",
     "text": [
      "Accuracy of the model on the 6000 images: 88.93333333333334%\n",
      "Accuracy of the model on the 1000 images: 83.5%\n"
     ]
    },
    {
     "data": {
      "text/html": [
       "<br/>Waiting for W&B process to finish, PID 48110... <strong style=\"color:green\">(success).</strong>"
      ],
      "text/plain": [
       "<IPython.core.display.HTML object>"
      ]
     },
     "metadata": {},
     "output_type": "display_data"
    },
    {
     "data": {
      "application/vnd.jupyter.widget-view+json": {
       "model_id": "",
       "version_major": 2,
       "version_minor": 0
      },
      "text/plain": [
       "VBox(children=(Label(value=' 0.96MB of 0.96MB uploaded (0.00MB deduped)\\r'), FloatProgress(value=1.0, max=1.0)…"
      ]
     },
     "metadata": {},
     "output_type": "display_data"
    },
    {
     "data": {
      "text/html": [
       "<style>\n",
       "    table.wandb td:nth-child(1) { padding: 0 10px; text-align: right }\n",
       "    .wandb-row { display: flex; flex-direction: row; flex-wrap: wrap; width: 100% }\n",
       "    .wandb-col { display: flex; flex-direction: column; flex-basis: 100%; flex: 1; padding: 10px; }\n",
       "    </style>\n",
       "<div class=\"wandb-row\"><div class=\"wandb-col\">\n",
       "<h3>Run history:</h3><br/><table class=\"wandb\"><tr><td>epoch</td><td>▁▂▃▄▅▅▆▇█</td></tr><tr><td>loss</td><td>█▂▃▂▄▃▂▂▁</td></tr><tr><td>train_accuracy</td><td>█▁</td></tr></table><br/></div><div class=\"wandb-col\">\n",
       "<h3>Run summary:</h3><br/><table class=\"wandb\"><tr><td>epoch</td><td>9</td></tr><tr><td>loss</td><td>0.30217</td></tr><tr><td>train_accuracy</td><td>0.835</td></tr></table>\n",
       "</div></div>\n",
       "Synced 5 W&B file(s), 0 media file(s), 0 artifact file(s) and 1 other file(s)\n",
       "<br/>Synced <strong style=\"color:#cdcd00\">colorful-monkey-7</strong>: <a href=\"https://wandb.ai/maoli131/cs294-082-final/runs/cp9c6lkc\" target=\"_blank\">https://wandb.ai/maoli131/cs294-082-final/runs/cp9c6lkc</a><br/>\n",
       "Find logs at: <code>./wandb/run-20211214_011323-cp9c6lkc/logs</code><br/>\n"
      ],
      "text/plain": [
       "<IPython.core.display.HTML object>"
      ]
     },
     "metadata": {},
     "output_type": "display_data"
    },
    {
     "data": {
      "text/html": [
       "\n",
       "                    Syncing run <strong><a href=\"https://wandb.ai/maoli131/cs294-082-final/runs/1jmhy3lt\" target=\"_blank\">feasible-bee-8</a></strong> to <a href=\"https://wandb.ai/maoli131/cs294-082-final\" target=\"_blank\">Weights & Biases</a> (<a href=\"https://docs.wandb.com/integrations/jupyter.html\" target=\"_blank\">docs</a>).<br/>\n",
       "\n",
       "                "
      ],
      "text/plain": [
       "<IPython.core.display.HTML object>"
      ]
     },
     "metadata": {},
     "output_type": "display_data"
    },
    {
     "name": "stdout",
     "output_type": "stream",
     "text": [
      "Accuracy of the model on the 6000 images: 93.11666666666666%\n",
      "Accuracy of the model on the 1000 images: 84.3%\n"
     ]
    },
    {
     "data": {
      "text/html": [
       "<br/>Waiting for W&B process to finish, PID 48964... <strong style=\"color:green\">(success).</strong>"
      ],
      "text/plain": [
       "<IPython.core.display.HTML object>"
      ]
     },
     "metadata": {},
     "output_type": "display_data"
    },
    {
     "data": {
      "application/vnd.jupyter.widget-view+json": {
       "model_id": "",
       "version_major": 2,
       "version_minor": 0
      },
      "text/plain": [
       "VBox(children=(Label(value=' 0.96MB of 0.96MB uploaded (0.00MB deduped)\\r'), FloatProgress(value=1.0, max=1.0)…"
      ]
     },
     "metadata": {},
     "output_type": "display_data"
    },
    {
     "data": {
      "text/html": [
       "<style>\n",
       "    table.wandb td:nth-child(1) { padding: 0 10px; text-align: right }\n",
       "    .wandb-row { display: flex; flex-direction: row; flex-wrap: wrap; width: 100% }\n",
       "    .wandb-col { display: flex; flex-direction: column; flex-basis: 100%; flex: 1; padding: 10px; }\n",
       "    </style>\n",
       "<div class=\"wandb-row\"><div class=\"wandb-col\">\n",
       "<h3>Run history:</h3><br/><table class=\"wandb\"><tr><td>epoch</td><td>▁▁▂▂▃▃▃▄▄▅▅▅▆▆▆▇██</td></tr><tr><td>loss</td><td>█▃▄▃▄▄▃▄▃▁▁▂▁▂▂▂▂▁</td></tr><tr><td>train_accuracy</td><td>█▁</td></tr></table><br/></div><div class=\"wandb-col\">\n",
       "<h3>Run summary:</h3><br/><table class=\"wandb\"><tr><td>epoch</td><td>19</td></tr><tr><td>loss</td><td>0.1596</td></tr><tr><td>train_accuracy</td><td>0.843</td></tr></table>\n",
       "</div></div>\n",
       "Synced 5 W&B file(s), 0 media file(s), 0 artifact file(s) and 1 other file(s)\n",
       "<br/>Synced <strong style=\"color:#cdcd00\">feasible-bee-8</strong>: <a href=\"https://wandb.ai/maoli131/cs294-082-final/runs/1jmhy3lt\" target=\"_blank\">https://wandb.ai/maoli131/cs294-082-final/runs/1jmhy3lt</a><br/>\n",
       "Find logs at: <code>./wandb/run-20211214_011341-1jmhy3lt/logs</code><br/>\n"
      ],
      "text/plain": [
       "<IPython.core.display.HTML object>"
      ]
     },
     "metadata": {},
     "output_type": "display_data"
    },
    {
     "data": {
      "text/html": [
       "\n",
       "                    Syncing run <strong><a href=\"https://wandb.ai/maoli131/cs294-082-final/runs/2vms96yr\" target=\"_blank\">peachy-spaceship-9</a></strong> to <a href=\"https://wandb.ai/maoli131/cs294-082-final\" target=\"_blank\">Weights & Biases</a> (<a href=\"https://docs.wandb.com/integrations/jupyter.html\" target=\"_blank\">docs</a>).<br/>\n",
       "\n",
       "                "
      ],
      "text/plain": [
       "<IPython.core.display.HTML object>"
      ]
     },
     "metadata": {},
     "output_type": "display_data"
    },
    {
     "name": "stdout",
     "output_type": "stream",
     "text": [
      "Accuracy of the model on the 6000 images: 94.31666666666666%\n",
      "Accuracy of the model on the 1000 images: 83.5%\n"
     ]
    },
    {
     "data": {
      "text/html": [
       "<br/>Waiting for W&B process to finish, PID 49192... <strong style=\"color:green\">(success).</strong>"
      ],
      "text/plain": [
       "<IPython.core.display.HTML object>"
      ]
     },
     "metadata": {},
     "output_type": "display_data"
    },
    {
     "data": {
      "application/vnd.jupyter.widget-view+json": {
       "model_id": "",
       "version_major": 2,
       "version_minor": 0
      },
      "text/plain": [
       "VBox(children=(Label(value=' 0.96MB of 0.96MB uploaded (0.00MB deduped)\\r'), FloatProgress(value=1.0, max=1.0)…"
      ]
     },
     "metadata": {},
     "output_type": "display_data"
    },
    {
     "data": {
      "text/html": [
       "<style>\n",
       "    table.wandb td:nth-child(1) { padding: 0 10px; text-align: right }\n",
       "    .wandb-row { display: flex; flex-direction: row; flex-wrap: wrap; width: 100% }\n",
       "    .wandb-col { display: flex; flex-direction: column; flex-basis: 100%; flex: 1; padding: 10px; }\n",
       "    </style>\n",
       "<div class=\"wandb-row\"><div class=\"wandb-col\">\n",
       "<h3>Run history:</h3><br/><table class=\"wandb\"><tr><td>epoch</td><td>▁▁▁▂▂▂▃▃▃▃▃▄▄▄▅▅▅▅▆▆▆▇▇▇▇▇██</td></tr><tr><td>loss</td><td>█▄▄▄▅▅▄▄▃▂▂▂▂▂▂▂▂▁▃▂▂▁▁▂▂▃▂▁</td></tr><tr><td>train_accuracy</td><td>█▁</td></tr></table><br/></div><div class=\"wandb-col\">\n",
       "<h3>Run summary:</h3><br/><table class=\"wandb\"><tr><td>epoch</td><td>29</td></tr><tr><td>loss</td><td>0.05838</td></tr><tr><td>train_accuracy</td><td>0.835</td></tr></table>\n",
       "</div></div>\n",
       "Synced 5 W&B file(s), 0 media file(s), 0 artifact file(s) and 1 other file(s)\n",
       "<br/>Synced <strong style=\"color:#cdcd00\">peachy-spaceship-9</strong>: <a href=\"https://wandb.ai/maoli131/cs294-082-final/runs/2vms96yr\" target=\"_blank\">https://wandb.ai/maoli131/cs294-082-final/runs/2vms96yr</a><br/>\n",
       "Find logs at: <code>./wandb/run-20211214_011410-2vms96yr/logs</code><br/>\n"
      ],
      "text/plain": [
       "<IPython.core.display.HTML object>"
      ]
     },
     "metadata": {},
     "output_type": "display_data"
    },
    {
     "data": {
      "text/html": [
       "\n",
       "                    Syncing run <strong><a href=\"https://wandb.ai/maoli131/cs294-082-final/runs/1ep9xurf\" target=\"_blank\">summer-feather-10</a></strong> to <a href=\"https://wandb.ai/maoli131/cs294-082-final\" target=\"_blank\">Weights & Biases</a> (<a href=\"https://docs.wandb.com/integrations/jupyter.html\" target=\"_blank\">docs</a>).<br/>\n",
       "\n",
       "                "
      ],
      "text/plain": [
       "<IPython.core.display.HTML object>"
      ]
     },
     "metadata": {},
     "output_type": "display_data"
    },
    {
     "name": "stdout",
     "output_type": "stream",
     "text": [
      "Accuracy of the model on the 6000 images: 96.86666666666666%\n",
      "Accuracy of the model on the 1000 images: 84.2%\n"
     ]
    },
    {
     "data": {
      "text/html": [
       "<br/>Waiting for W&B process to finish, PID 49445... <strong style=\"color:green\">(success).</strong>"
      ],
      "text/plain": [
       "<IPython.core.display.HTML object>"
      ]
     },
     "metadata": {},
     "output_type": "display_data"
    },
    {
     "data": {
      "application/vnd.jupyter.widget-view+json": {
       "model_id": "",
       "version_major": 2,
       "version_minor": 0
      },
      "text/plain": [
       "VBox(children=(Label(value=' 0.69MB of 0.96MB uploaded (0.00MB deduped)\\r'), FloatProgress(value=0.71566761059…"
      ]
     },
     "metadata": {},
     "output_type": "display_data"
    },
    {
     "data": {
      "text/html": [
       "<style>\n",
       "    table.wandb td:nth-child(1) { padding: 0 10px; text-align: right }\n",
       "    .wandb-row { display: flex; flex-direction: row; flex-wrap: wrap; width: 100% }\n",
       "    .wandb-col { display: flex; flex-direction: column; flex-basis: 100%; flex: 1; padding: 10px; }\n",
       "    </style>\n",
       "<div class=\"wandb-row\"><div class=\"wandb-col\">\n",
       "<h3>Run history:</h3><br/><table class=\"wandb\"><tr><td>epoch</td><td>▁▁▁▁▂▂▂▂▂▂▃▃▃▃▃▄▄▄▄▄▅▅▅▅▅▅▆▆▆▆▆▇▇▇▇▇▇███</td></tr><tr><td>loss</td><td>█▄▄▃▅▅▄▃▂▂▂▂▂▂▂▁▃▂▂▁▂▁▃▁▂▂▂▂▁▂▁▂▂▂▁▁▂▁▂▁</td></tr><tr><td>train_accuracy</td><td>█▁</td></tr></table><br/></div><div class=\"wandb-col\">\n",
       "<h3>Run summary:</h3><br/><table class=\"wandb\"><tr><td>epoch</td><td>49</td></tr><tr><td>loss</td><td>0.08581</td></tr><tr><td>train_accuracy</td><td>0.842</td></tr></table>\n",
       "</div></div>\n",
       "Synced 5 W&B file(s), 0 media file(s), 0 artifact file(s) and 1 other file(s)\n",
       "<br/>Synced <strong style=\"color:#cdcd00\">summer-feather-10</strong>: <a href=\"https://wandb.ai/maoli131/cs294-082-final/runs/1ep9xurf\" target=\"_blank\">https://wandb.ai/maoli131/cs294-082-final/runs/1ep9xurf</a><br/>\n",
       "Find logs at: <code>./wandb/run-20211214_011452-1ep9xurf/logs</code><br/>\n"
      ],
      "text/plain": [
       "<IPython.core.display.HTML object>"
      ]
     },
     "metadata": {},
     "output_type": "display_data"
    },
    {
     "data": {
      "text/html": [
       "\n",
       "                    Syncing run <strong><a href=\"https://wandb.ai/maoli131/cs294-082-final/runs/2aluluoh\" target=\"_blank\">wandering-grass-11</a></strong> to <a href=\"https://wandb.ai/maoli131/cs294-082-final\" target=\"_blank\">Weights & Biases</a> (<a href=\"https://docs.wandb.com/integrations/jupyter.html\" target=\"_blank\">docs</a>).<br/>\n",
       "\n",
       "                "
      ],
      "text/plain": [
       "<IPython.core.display.HTML object>"
      ]
     },
     "metadata": {},
     "output_type": "display_data"
    },
    {
     "name": "stdout",
     "output_type": "stream",
     "text": [
      "Accuracy of the model on the 6000 images: 97.26666666666667%\n",
      "Accuracy of the model on the 1000 images: 84.1%\n"
     ]
    },
    {
     "data": {
      "text/html": [
       "<br/>Waiting for W&B process to finish, PID 49782... <strong style=\"color:green\">(success).</strong>"
      ],
      "text/plain": [
       "<IPython.core.display.HTML object>"
      ]
     },
     "metadata": {},
     "output_type": "display_data"
    },
    {
     "data": {
      "application/vnd.jupyter.widget-view+json": {
       "model_id": "",
       "version_major": 2,
       "version_minor": 0
      },
      "text/plain": [
       "VBox(children=(Label(value=' 0.08MB of 0.96MB uploaded (0.00MB deduped)\\r'), FloatProgress(value=0.08210979701…"
      ]
     },
     "metadata": {},
     "output_type": "display_data"
    },
    {
     "data": {
      "text/html": [
       "<style>\n",
       "    table.wandb td:nth-child(1) { padding: 0 10px; text-align: right }\n",
       "    .wandb-row { display: flex; flex-direction: row; flex-wrap: wrap; width: 100% }\n",
       "    .wandb-col { display: flex; flex-direction: column; flex-basis: 100%; flex: 1; padding: 10px; }\n",
       "    </style>\n",
       "<div class=\"wandb-row\"><div class=\"wandb-col\">\n",
       "<h3>Run history:</h3><br/><table class=\"wandb\"><tr><td>epoch</td><td>▁▁▁▁▂▂▂▂▂▃▃▃▃▃▃▄▄▄▄▄▅▅▅▅▅▅▆▆▆▆▆▆▇▇▇▇▇███</td></tr><tr><td>loss</td><td>█▄▄▅▄▂▂▃▂▂▃▂▂▂▂▂▁▂▁▂▂▁▂▂▁▂▁▁▁▁▁▁▂▁▁▁▁▂▂▁</td></tr><tr><td>train_accuracy</td><td>█▁</td></tr></table><br/></div><div class=\"wandb-col\">\n",
       "<h3>Run summary:</h3><br/><table class=\"wandb\"><tr><td>epoch</td><td>79</td></tr><tr><td>loss</td><td>0.05974</td></tr><tr><td>train_accuracy</td><td>0.841</td></tr></table>\n",
       "</div></div>\n",
       "Synced 5 W&B file(s), 0 media file(s), 0 artifact file(s) and 1 other file(s)\n",
       "<br/>Synced <strong style=\"color:#cdcd00\">wandering-grass-11</strong>: <a href=\"https://wandb.ai/maoli131/cs294-082-final/runs/2aluluoh\" target=\"_blank\">https://wandb.ai/maoli131/cs294-082-final/runs/2aluluoh</a><br/>\n",
       "Find logs at: <code>./wandb/run-20211214_011556-2aluluoh/logs</code><br/>\n"
      ],
      "text/plain": [
       "<IPython.core.display.HTML object>"
      ]
     },
     "metadata": {},
     "output_type": "display_data"
    },
    {
     "data": {
      "image/png": "[encoded data removed]",
      "text/plain": [
       "<Figure size 432x288 with 1 Axes>"
      ]
     },
     "metadata": {
      "needs_background": "light"
     },
     "output_type": "display_data"
    }
   ],
   "source": [
    "# configurations\n",
    "config = dict(\n",
    "    epochs=1,\n",
    "    classes=10,\n",
    "    kernels=[256, 128, 128],\n",
    "    batch_size=64,\n",
    "    learning_rate=0.001,\n",
    "    sls = 0.1,\n",
    "    dataset=\"Fashion-MNIST\",\n",
    "    architecture=\"MLP\"\n",
    ")\n",
    "\n",
    "# Memory Equivalent Capacity\n",
    "print(\"\\nTraining our model at MEC = \", compute_mec(config['kernels']), \"\\n\")\n",
    "\n",
    "# Build, train and analyze the model with the pipeline\n",
    "epoch_list = [1, 10, 20, 30, 50, 80]\n",
    "train_acc_list = []\n",
    "test_acc_list = []\n",
    "for e in epoch_list:\n",
    "    config['epochs'] = e\n",
    "    model, tr_acc, te_acc = model_pipeline(config)\n",
    "    train_acc_list.append(tr_acc)\n",
    "    test_acc_list.append(te_acc)\n",
    "\n",
    "# Visualize the results\n",
    "plt.title(\"Accuracy Curve\")\n",
    "plt.xlabel(\"Epochs\")\n",
    "plt.ylabel(\"Accuracy\")\n",
    "sns.scatterplot(x=epoch_list, y=train_acc_list)\n",
    "sns.lineplot(x=epoch_list, y=train_acc_list, label=\"train accuracy\")\n",
    "sns.scatterplot(x=epoch_list, y=test_acc_list)\n",
    "sns.lineplot(x=epoch_list, y=test_acc_list, label=\"test accuracy\");"
   ]
  },
  {
   "cell_type": "markdown",
   "id": "540a83be-9e02-47a6-88af-14e992aba697",
   "metadata": {
    "tags": []
   },
   "source": [
    "### Model Accuracy vs. Model MEC\n",
    "\n",
    "In this section, we train our machine learner for generalization and plot the capacity / accuracy plot. We vary the `kernels` in `config` to modify the MEC of our model and observe the change in accuracy. The generalization score is also computed. "
   ]
  },
  {
   "cell_type": "code",
   "execution_count": 14,
   "id": "4d3dec84-ee23-442b-9958-be678208ccba",
   "metadata": {},
   "outputs": [
    {
     "data": {
      "text/html": [
       "\n",
       "                    Syncing run <strong><a href=\"https://wandb.ai/maoli131/cs294-082-final/runs/3v40ea98\" target=\"_blank\">crisp-pyramid-12</a></strong> to <a href=\"https://wandb.ai/maoli131/cs294-082-final\" target=\"_blank\">Weights & Biases</a> (<a href=\"https://docs.wandb.com/integrations/jupyter.html\" target=\"_blank\">docs</a>).<br/>\n",
       "\n",
       "                "
      ],
      "text/plain": [
       "<IPython.core.display.HTML object>"
      ]
     },
     "metadata": {},
     "output_type": "display_data"
    },
    {
     "name": "stdout",
     "output_type": "stream",
     "text": [
      "Accuracy of the model on the 60000 images: 94.02166666666666%\n",
      "Accuracy of the model on the 10000 images: 88.28%\n"
     ]
    },
    {
     "data": {
      "text/html": [
       "<br/>Waiting for W&B process to finish, PID 54267... <strong style=\"color:green\">(success).</strong>"
      ],
      "text/plain": [
       "<IPython.core.display.HTML object>"
      ]
     },
     "metadata": {},
     "output_type": "display_data"
    },
    {
     "data": {
      "application/vnd.jupyter.widget-view+json": {
       "model_id": "",
       "version_major": 2,
       "version_minor": 0
      },
      "text/plain": [
       "VBox(children=(Label(value=' 0.96MB of 0.96MB uploaded (0.00MB deduped)\\r'), FloatProgress(value=1.0, max=1.0)…"
      ]
     },
     "metadata": {},
     "output_type": "display_data"
    },
    {
     "data": {
      "text/html": [
       "<style>\n",
       "    table.wandb td:nth-child(1) { padding: 0 10px; text-align: right }\n",
       "    .wandb-row { display: flex; flex-direction: row; flex-wrap: wrap; width: 100% }\n",
       "    .wandb-col { display: flex; flex-direction: column; flex-basis: 100%; flex: 1; padding: 10px; }\n",
       "    </style>\n",
       "<div class=\"wandb-row\"><div class=\"wandb-col\">\n",
       "<h3>Run history:</h3><br/><table class=\"wandb\"><tr><td>epoch</td><td>▁▁▁▁▂▂▂▂▂▃▃▃▃▃▃▄▄▄▄▄▅▅▅▅▅▅▆▆▆▆▆▇▇▇▇▇████</td></tr><tr><td>loss</td><td>▇▅█▆▄▄▃▂▄▄▅▂▃▂▅▂▂▄▂▃▂▂▂▂▂▂▁▂▁▁▁▂▂▂▂▂▁▂▂▂</td></tr><tr><td>train_accuracy</td><td>█▁</td></tr></table><br/></div><div class=\"wandb-col\">\n",
       "<h3>Run summary:</h3><br/><table class=\"wandb\"><tr><td>epoch</td><td>49</td></tr><tr><td>loss</td><td>0.08084</td></tr><tr><td>train_accuracy</td><td>0.8828</td></tr></table>\n",
       "</div></div>\n",
       "Synced 5 W&B file(s), 0 media file(s), 0 artifact file(s) and 1 other file(s)\n",
       "<br/>Synced <strong style=\"color:#cdcd00\">crisp-pyramid-12</strong>: <a href=\"https://wandb.ai/maoli131/cs294-082-final/runs/3v40ea98\" target=\"_blank\">https://wandb.ai/maoli131/cs294-082-final/runs/3v40ea98</a><br/>\n",
       "Find logs at: <code>./wandb/run-20211214_011735-3v40ea98/logs</code><br/>\n"
      ],
      "text/plain": [
       "<IPython.core.display.HTML object>"
      ]
     },
     "metadata": {},
     "output_type": "display_data"
    },
    {
     "data": {
      "text/html": [
       "\n",
       "                    Syncing run <strong><a href=\"https://wandb.ai/maoli131/cs294-082-final/runs/28dwz9i1\" target=\"_blank\">revived-sponge-13</a></strong> to <a href=\"https://wandb.ai/maoli131/cs294-082-final\" target=\"_blank\">Weights & Biases</a> (<a href=\"https://docs.wandb.com/integrations/jupyter.html\" target=\"_blank\">docs</a>).<br/>\n",
       "\n",
       "                "
      ],
      "text/plain": [
       "<IPython.core.display.HTML object>"
      ]
     },
     "metadata": {},
     "output_type": "display_data"
    },
    {
     "name": "stdout",
     "output_type": "stream",
     "text": [
      "Accuracy of the model on the 60000 images: 93.515%\n",
      "Accuracy of the model on the 10000 images: 87.62%\n"
     ]
    },
    {
     "data": {
      "text/html": [
       "<br/>Waiting for W&B process to finish, PID 34602... <strong style=\"color:green\">(success).</strong>"
      ],
      "text/plain": [
       "<IPython.core.display.HTML object>"
      ]
     },
     "metadata": {},
     "output_type": "display_data"
    },
    {
     "data": {
      "application/vnd.jupyter.widget-view+json": {
       "model_id": "",
       "version_major": 2,
       "version_minor": 0
      },
      "text/plain": [
       "VBox(children=(Label(value=' 0.43MB of 0.43MB uploaded (0.00MB deduped)\\r'), FloatProgress(value=1.0, max=1.0)…"
      ]
     },
     "metadata": {},
     "output_type": "display_data"
    },
    {
     "data": {
      "text/html": [
       "<style>\n",
       "    table.wandb td:nth-child(1) { padding: 0 10px; text-align: right }\n",
       "    .wandb-row { display: flex; flex-direction: row; flex-wrap: wrap; width: 100% }\n",
       "    .wandb-col { display: flex; flex-direction: column; flex-basis: 100%; flex: 1; padding: 10px; }\n",
       "    </style>\n",
       "<div class=\"wandb-row\"><div class=\"wandb-col\">\n",
       "<h3>Run history:</h3><br/><table class=\"wandb\"><tr><td>epoch</td><td>▁▁▁▁▂▂▂▂▂▃▃▃▃▃▃▄▄▄▄▄▅▅▅▅▅▅▆▆▆▆▆▇▇▇▇▇████</td></tr><tr><td>loss</td><td>█▅█▅▄▅▄▃▄▃▅▂▃▂▅▂▂▃▂▃▂▃▂▂▂▂▂▂▁▂▁▁▂▂▁▁▁▂▁▃</td></tr><tr><td>train_accuracy</td><td>█▁</td></tr></table><br/></div><div class=\"wandb-col\">\n",
       "<h3>Run summary:</h3><br/><table class=\"wandb\"><tr><td>epoch</td><td>49</td></tr><tr><td>loss</td><td>0.06132</td></tr><tr><td>train_accuracy</td><td>0.8762</td></tr></table>\n",
       "</div></div>\n",
       "Synced 5 W&B file(s), 0 media file(s), 0 artifact file(s) and 1 other file(s)\n",
       "<br/>Synced <strong style=\"color:#cdcd00\">revived-sponge-13</strong>: <a href=\"https://wandb.ai/maoli131/cs294-082-final/runs/28dwz9i1\" target=\"_blank\">https://wandb.ai/maoli131/cs294-082-final/runs/28dwz9i1</a><br/>\n",
       "Find logs at: <code>./wandb/run-20211214_012728-28dwz9i1/logs</code><br/>\n"
      ],
      "text/plain": [
       "<IPython.core.display.HTML object>"
      ]
     },
     "metadata": {},
     "output_type": "display_data"
    },
    {
     "data": {
      "text/html": [
       "\n",
       "                    Syncing run <strong><a href=\"https://wandb.ai/maoli131/cs294-082-final/runs/32cpbon6\" target=\"_blank\">northern-mountain-14</a></strong> to <a href=\"https://wandb.ai/maoli131/cs294-082-final\" target=\"_blank\">Weights & Biases</a> (<a href=\"https://docs.wandb.com/integrations/jupyter.html\" target=\"_blank\">docs</a>).<br/>\n",
       "\n",
       "                "
      ],
      "text/plain": [
       "<IPython.core.display.HTML object>"
      ]
     },
     "metadata": {},
     "output_type": "display_data"
    },
    {
     "name": "stdout",
     "output_type": "stream",
     "text": [
      "Accuracy of the model on the 60000 images: 92.315%\n",
      "Accuracy of the model on the 10000 images: 86.67%\n"
     ]
    },
    {
     "data": {
      "text/html": [
       "<br/>Waiting for W&B process to finish, PID 44939... <strong style=\"color:green\">(success).</strong>"
      ],
      "text/plain": [
       "<IPython.core.display.HTML object>"
      ]
     },
     "metadata": {},
     "output_type": "display_data"
    },
    {
     "data": {
      "application/vnd.jupyter.widget-view+json": {
       "model_id": "",
       "version_major": 2,
       "version_minor": 0
      },
      "text/plain": [
       "VBox(children=(Label(value=' 0.21MB of 0.21MB uploaded (0.00MB deduped)\\r'), FloatProgress(value=1.0, max=1.0)…"
      ]
     },
     "metadata": {},
     "output_type": "display_data"
    },
    {
     "data": {
      "text/html": [
       "<style>\n",
       "    table.wandb td:nth-child(1) { padding: 0 10px; text-align: right }\n",
       "    .wandb-row { display: flex; flex-direction: row; flex-wrap: wrap; width: 100% }\n",
       "    .wandb-col { display: flex; flex-direction: column; flex-basis: 100%; flex: 1; padding: 10px; }\n",
       "    </style>\n",
       "<div class=\"wandb-row\"><div class=\"wandb-col\">\n",
       "<h3>Run history:</h3><br/><table class=\"wandb\"><tr><td>epoch</td><td>▁▁▁▁▂▂▂▂▂▃▃▃▃▃▃▄▄▄▄▄▅▅▅▅▅▅▆▆▆▆▆▇▇▇▇▇████</td></tr><tr><td>loss</td><td>█▆▇▅▄▆▃▃▄▅▅▂▃▁▆▃▃▃▂▂▂▃▂▁▃▂▃▂▃▂▂▃▃▁▃▂▂▂▃▂</td></tr><tr><td>train_accuracy</td><td>█▁</td></tr></table><br/></div><div class=\"wandb-col\">\n",
       "<h3>Run summary:</h3><br/><table class=\"wandb\"><tr><td>epoch</td><td>49</td></tr><tr><td>loss</td><td>0.16134</td></tr><tr><td>train_accuracy</td><td>0.8667</td></tr></table>\n",
       "</div></div>\n",
       "Synced 5 W&B file(s), 0 media file(s), 0 artifact file(s) and 1 other file(s)\n",
       "<br/>Synced <strong style=\"color:#cdcd00\">northern-mountain-14</strong>: <a href=\"https://wandb.ai/maoli131/cs294-082-final/runs/32cpbon6\" target=\"_blank\">https://wandb.ai/maoli131/cs294-082-final/runs/32cpbon6</a><br/>\n",
       "Find logs at: <code>./wandb/run-20211214_013659-32cpbon6/logs</code><br/>\n"
      ],
      "text/plain": [
       "<IPython.core.display.HTML object>"
      ]
     },
     "metadata": {},
     "output_type": "display_data"
    },
    {
     "data": {
      "text/html": [
       "\n",
       "                    Syncing run <strong><a href=\"https://wandb.ai/maoli131/cs294-082-final/runs/2jfm4wrs\" target=\"_blank\">logical-sound-15</a></strong> to <a href=\"https://wandb.ai/maoli131/cs294-082-final\" target=\"_blank\">Weights & Biases</a> (<a href=\"https://docs.wandb.com/integrations/jupyter.html\" target=\"_blank\">docs</a>).<br/>\n",
       "\n",
       "                "
      ],
      "text/plain": [
       "<IPython.core.display.HTML object>"
      ]
     },
     "metadata": {},
     "output_type": "display_data"
    },
    {
     "name": "stdout",
     "output_type": "stream",
     "text": [
      "Accuracy of the model on the 60000 images: 90.36333333333333%\n",
      "Accuracy of the model on the 10000 images: 86.22%\n"
     ]
    },
    {
     "data": {
      "text/html": [
       "<br/>Waiting for W&B process to finish, PID 8409... <strong style=\"color:green\">(success).</strong>"
      ],
      "text/plain": [
       "<IPython.core.display.HTML object>"
      ]
     },
     "metadata": {},
     "output_type": "display_data"
    },
    {
     "data": {
      "application/vnd.jupyter.widget-view+json": {
       "model_id": "",
       "version_major": 2,
       "version_minor": 0
      },
      "text/plain": [
       "VBox(children=(Label(value=' 0.10MB of 0.10MB uploaded (0.00MB deduped)\\r'), FloatProgress(value=1.0, max=1.0)…"
      ]
     },
     "metadata": {},
     "output_type": "display_data"
    },
    {
     "data": {
      "text/html": [
       "<style>\n",
       "    table.wandb td:nth-child(1) { padding: 0 10px; text-align: right }\n",
       "    .wandb-row { display: flex; flex-direction: row; flex-wrap: wrap; width: 100% }\n",
       "    .wandb-col { display: flex; flex-direction: column; flex-basis: 100%; flex: 1; padding: 10px; }\n",
       "    </style>\n",
       "<div class=\"wandb-row\"><div class=\"wandb-col\">\n",
       "<h3>Run history:</h3><br/><table class=\"wandb\"><tr><td>epoch</td><td>▁▁▁▁▂▂▂▂▂▃▃▃▃▃▃▄▄▄▄▄▅▅▅▅▅▅▆▆▆▆▆▇▇▇▇▇████</td></tr><tr><td>loss</td><td>█▅▆▄▄▄▄▃▅▅▅▂▃▂▅▂▂▅▂▁▂▄▁▃▃▂▁▄▂▁▂▃▂▁▃▁▂▂▃▃</td></tr><tr><td>train_accuracy</td><td>█▁</td></tr></table><br/></div><div class=\"wandb-col\">\n",
       "<h3>Run summary:</h3><br/><table class=\"wandb\"><tr><td>epoch</td><td>49</td></tr><tr><td>loss</td><td>0.20999</td></tr><tr><td>train_accuracy</td><td>0.8622</td></tr></table>\n",
       "</div></div>\n",
       "Synced 5 W&B file(s), 0 media file(s), 0 artifact file(s) and 1 other file(s)\n",
       "<br/>Synced <strong style=\"color:#cdcd00\">logical-sound-15</strong>: <a href=\"https://wandb.ai/maoli131/cs294-082-final/runs/2jfm4wrs\" target=\"_blank\">https://wandb.ai/maoli131/cs294-082-final/runs/2jfm4wrs</a><br/>\n",
       "Find logs at: <code>./wandb/run-20211214_014618-2jfm4wrs/logs</code><br/>\n"
      ],
      "text/plain": [
       "<IPython.core.display.HTML object>"
      ]
     },
     "metadata": {},
     "output_type": "display_data"
    },
    {
     "data": {
      "text/html": [
       "\n",
       "                    Syncing run <strong><a href=\"https://wandb.ai/maoli131/cs294-082-final/runs/32a804o6\" target=\"_blank\">azure-haze-16</a></strong> to <a href=\"https://wandb.ai/maoli131/cs294-082-final\" target=\"_blank\">Weights & Biases</a> (<a href=\"https://docs.wandb.com/integrations/jupyter.html\" target=\"_blank\">docs</a>).<br/>\n",
       "\n",
       "                "
      ],
      "text/plain": [
       "<IPython.core.display.HTML object>"
      ]
     },
     "metadata": {},
     "output_type": "display_data"
    },
    {
     "name": "stdout",
     "output_type": "stream",
     "text": [
      "Accuracy of the model on the 60000 images: 88.22666666666667%\n",
      "Accuracy of the model on the 10000 images: 85.02%\n"
     ]
    },
    {
     "data": {
      "text/html": [
       "<br/>Waiting for W&B process to finish, PID 42649... <strong style=\"color:green\">(success).</strong>"
      ],
      "text/plain": [
       "<IPython.core.display.HTML object>"
      ]
     },
     "metadata": {},
     "output_type": "display_data"
    },
    {
     "data": {
      "application/vnd.jupyter.widget-view+json": {
       "model_id": "",
       "version_major": 2,
       "version_minor": 0
      },
      "text/plain": [
       "VBox(children=(Label(value=' 0.05MB of 0.05MB uploaded (0.00MB deduped)\\r'), FloatProgress(value=1.0, max=1.0)…"
      ]
     },
     "metadata": {},
     "output_type": "display_data"
    },
    {
     "data": {
      "text/html": [
       "<style>\n",
       "    table.wandb td:nth-child(1) { padding: 0 10px; text-align: right }\n",
       "    .wandb-row { display: flex; flex-direction: row; flex-wrap: wrap; width: 100% }\n",
       "    .wandb-col { display: flex; flex-direction: column; flex-basis: 100%; flex: 1; padding: 10px; }\n",
       "    </style>\n",
       "<div class=\"wandb-row\"><div class=\"wandb-col\">\n",
       "<h3>Run history:</h3><br/><table class=\"wandb\"><tr><td>epoch</td><td>▁▁▁▁▂▂▂▂▂▃▃▃▃▃▃▄▄▄▄▄▅▅▅▅▅▅▆▆▆▆▆▇▇▇▇▇████</td></tr><tr><td>loss</td><td>█▄▆▄▄▇▃▂▄▄▆▃▃▃▅▂▂▆▂▂▂▄▂▃▃▃▃▄▂▂▃▅▃▂▃▁▃▃▄▄</td></tr><tr><td>train_accuracy</td><td>█▁</td></tr></table><br/></div><div class=\"wandb-col\">\n",
       "<h3>Run summary:</h3><br/><table class=\"wandb\"><tr><td>epoch</td><td>49</td></tr><tr><td>loss</td><td>0.31014</td></tr><tr><td>train_accuracy</td><td>0.8502</td></tr></table>\n",
       "</div></div>\n",
       "Synced 5 W&B file(s), 0 media file(s), 0 artifact file(s) and 1 other file(s)\n",
       "<br/>Synced <strong style=\"color:#cdcd00\">azure-haze-16</strong>: <a href=\"https://wandb.ai/maoli131/cs294-082-final/runs/32a804o6\" target=\"_blank\">https://wandb.ai/maoli131/cs294-082-final/runs/32a804o6</a><br/>\n",
       "Find logs at: <code>./wandb/run-20211214_015525-32a804o6/logs</code><br/>\n"
      ],
      "text/plain": [
       "<IPython.core.display.HTML object>"
      ]
     },
     "metadata": {},
     "output_type": "display_data"
    },
    {
     "data": {
      "text/html": [
       "\n",
       "                    Syncing run <strong><a href=\"https://wandb.ai/maoli131/cs294-082-final/runs/3na89r20\" target=\"_blank\">avid-firebrand-17</a></strong> to <a href=\"https://wandb.ai/maoli131/cs294-082-final\" target=\"_blank\">Weights & Biases</a> (<a href=\"https://docs.wandb.com/integrations/jupyter.html\" target=\"_blank\">docs</a>).<br/>\n",
       "\n",
       "                "
      ],
      "text/plain": [
       "<IPython.core.display.HTML object>"
      ]
     },
     "metadata": {},
     "output_type": "display_data"
    },
    {
     "name": "stdout",
     "output_type": "stream",
     "text": [
      "Accuracy of the model on the 60000 images: 84.04333333333334%\n",
      "Accuracy of the model on the 10000 images: 81.91%\n"
     ]
    },
    {
     "data": {
      "text/html": [
       "<br/>Waiting for W&B process to finish, PID 74888... <strong style=\"color:green\">(success).</strong>"
      ],
      "text/plain": [
       "<IPython.core.display.HTML object>"
      ]
     },
     "metadata": {},
     "output_type": "display_data"
    },
    {
     "data": {
      "application/vnd.jupyter.widget-view+json": {
       "model_id": "",
       "version_major": 2,
       "version_minor": 0
      },
      "text/plain": [
       "VBox(children=(Label(value=' 0.00MB of 0.03MB uploaded (0.00MB deduped)\\r'), FloatProgress(value=0.03250373501…"
      ]
     },
     "metadata": {},
     "output_type": "display_data"
    },
    {
     "data": {
      "text/html": [
       "<style>\n",
       "    table.wandb td:nth-child(1) { padding: 0 10px; text-align: right }\n",
       "    .wandb-row { display: flex; flex-direction: row; flex-wrap: wrap; width: 100% }\n",
       "    .wandb-col { display: flex; flex-direction: column; flex-basis: 100%; flex: 1; padding: 10px; }\n",
       "    </style>\n",
       "<div class=\"wandb-row\"><div class=\"wandb-col\">\n",
       "<h3>Run history:</h3><br/><table class=\"wandb\"><tr><td>epoch</td><td>▁▁▁▁▂▂▂▂▂▃▃▃▃▃▃▄▄▄▄▄▅▅▅▅▅▅▆▆▆▆▆▇▇▇▇▇████</td></tr><tr><td>loss</td><td>█▅▄▄▂▅▃▂▃▃▃▂▂▃▄▂▃▃▂▂▂▂▂▂▂▃▂▂▁▃▂▃▂▁▂▁▃▂▃▂</td></tr><tr><td>train_accuracy</td><td>█▁</td></tr></table><br/></div><div class=\"wandb-col\">\n",
       "<h3>Run summary:</h3><br/><table class=\"wandb\"><tr><td>epoch</td><td>49</td></tr><tr><td>loss</td><td>0.42818</td></tr><tr><td>train_accuracy</td><td>0.8191</td></tr></table>\n",
       "</div></div>\n",
       "Synced 5 W&B file(s), 0 media file(s), 0 artifact file(s) and 1 other file(s)\n",
       "<br/>Synced <strong style=\"color:#cdcd00\">avid-firebrand-17</strong>: <a href=\"https://wandb.ai/maoli131/cs294-082-final/runs/3na89r20\" target=\"_blank\">https://wandb.ai/maoli131/cs294-082-final/runs/3na89r20</a><br/>\n",
       "Find logs at: <code>./wandb/run-20211214_020429-3na89r20/logs</code><br/>\n"
      ],
      "text/plain": [
       "<IPython.core.display.HTML object>"
      ]
     },
     "metadata": {},
     "output_type": "display_data"
    },
    {
     "data": {
      "text/html": [
       "\n",
       "                    Syncing run <strong><a href=\"https://wandb.ai/maoli131/cs294-082-final/runs/30rd32mn\" target=\"_blank\">leafy-tree-18</a></strong> to <a href=\"https://wandb.ai/maoli131/cs294-082-final\" target=\"_blank\">Weights & Biases</a> (<a href=\"https://docs.wandb.com/integrations/jupyter.html\" target=\"_blank\">docs</a>).<br/>\n",
       "\n",
       "                "
      ],
      "text/plain": [
       "<IPython.core.display.HTML object>"
      ]
     },
     "metadata": {},
     "output_type": "display_data"
    },
    {
     "name": "stdout",
     "output_type": "stream",
     "text": [
      "Accuracy of the model on the 60000 images: 77.51833333333333%\n",
      "Accuracy of the model on the 10000 images: 76.1%\n"
     ]
    },
    {
     "data": {
      "text/html": [
       "<br/>Waiting for W&B process to finish, PID 43527... <strong style=\"color:green\">(success).</strong>"
      ],
      "text/plain": [
       "<IPython.core.display.HTML object>"
      ]
     },
     "metadata": {},
     "output_type": "display_data"
    },
    {
     "data": {
      "application/vnd.jupyter.widget-view+json": {
       "model_id": "",
       "version_major": 2,
       "version_minor": 0
      },
      "text/plain": [
       "VBox(children=(Label(value=' 0.01MB of 0.01MB uploaded (0.00MB deduped)\\r'), FloatProgress(value=1.0, max=1.0)…"
      ]
     },
     "metadata": {},
     "output_type": "display_data"
    },
    {
     "data": {
      "text/html": [
       "<style>\n",
       "    table.wandb td:nth-child(1) { padding: 0 10px; text-align: right }\n",
       "    .wandb-row { display: flex; flex-direction: row; flex-wrap: wrap; width: 100% }\n",
       "    .wandb-col { display: flex; flex-direction: column; flex-basis: 100%; flex: 1; padding: 10px; }\n",
       "    </style>\n",
       "<div class=\"wandb-row\"><div class=\"wandb-col\">\n",
       "<h3>Run history:</h3><br/><table class=\"wandb\"><tr><td>epoch</td><td>▁▁▁▁▂▂▂▂▂▃▃▃▃▃▃▄▄▄▄▄▅▅▅▅▅▅▆▆▆▆▆▇▇▇▇▇████</td></tr><tr><td>loss</td><td>█▄▃▃▂▃▃▂▃▃▃▂▂▂▃▂▂▃▂▁▂▂▂▂▂▃▂▃▂▂▂▂▁▂▂▁▂▂▃▂</td></tr><tr><td>train_accuracy</td><td>█▁</td></tr></table><br/></div><div class=\"wandb-col\">\n",
       "<h3>Run summary:</h3><br/><table class=\"wandb\"><tr><td>epoch</td><td>49</td></tr><tr><td>loss</td><td>0.52299</td></tr><tr><td>train_accuracy</td><td>0.761</td></tr></table>\n",
       "</div></div>\n",
       "Synced 5 W&B file(s), 0 media file(s), 0 artifact file(s) and 1 other file(s)\n",
       "<br/>Synced <strong style=\"color:#cdcd00\">leafy-tree-18</strong>: <a href=\"https://wandb.ai/maoli131/cs294-082-final/runs/30rd32mn\" target=\"_blank\">https://wandb.ai/maoli131/cs294-082-final/runs/30rd32mn</a><br/>\n",
       "Find logs at: <code>./wandb/run-20211214_021333-30rd32mn/logs</code><br/>\n"
      ],
      "text/plain": [
       "<IPython.core.display.HTML object>"
      ]
     },
     "metadata": {},
     "output_type": "display_data"
    },
    {
     "data": {
      "image/png": "[encoded data removed]",
      "text/plain": [
       "<Figure size 432x288 with 1 Axes>"
      ]
     },
     "metadata": {
      "needs_background": "light"
     },
     "output_type": "display_data"
    }
   ],
   "source": [
    "# configurations\n",
    "config = dict(\n",
    "    epochs=50,\n",
    "    classes=10,\n",
    "    kernels=[256, 128, 128],\n",
    "    batch_size=64,\n",
    "    learning_rate=0.001,\n",
    "    sls = 1,\n",
    "    dataset=\"Fashion-MNIST\",\n",
    "    architecture=\"MLP\"\n",
    ")\n",
    "\n",
    "# Build, train and analyze the model with the pipeline\n",
    "k_list = [\n",
    "    [256, 128, 128],\n",
    "    [128, 64, 64],\n",
    "    [64, 32, 32],\n",
    "    [32, 16, 16],\n",
    "    [16, 8, 8],\n",
    "    [8, 4, 4],\n",
    "    [4, 4, 2]\n",
    "]\n",
    "mec_list = [compute_mec(k) for k in k_list] # computes mec for each model\n",
    "train_acc_list = []\n",
    "test_acc_list = []\n",
    "for k in k_list:\n",
    "    config['kernels'] = k\n",
    "    model, tr_acc, te_acc = model_pipeline(config)\n",
    "    train_acc_list.append(tr_acc)\n",
    "    test_acc_list.append(te_acc)\n",
    "\n",
    "# Visualize the results\n",
    "plt.title(\"Accuracy vs. Model MEC\")\n",
    "plt.xlabel(\"Model MEC\")\n",
    "plt.ylabel(\"Accuracy\")\n",
    "sns.scatterplot(x=mec_list, y=train_acc_list)\n",
    "sns.lineplot(x=mec_list, y=train_acc_list, label=\"train accuracy\")\n",
    "sns.scatterplot(x=mec_list, y=test_acc_list)\n",
    "sns.lineplot(x=mec_list, y=test_acc_list, label=\"test accuracy\");\n",
    "plt.xlim(max(mec_list) + 10000, 0); # invert the x-axis"
   ]
  },
  {
   "cell_type": "code",
   "execution_count": 15,
   "id": "d6d7e162-bdc0-43c7-94f7-77effcf854df",
   "metadata": {},
   "outputs": [
    {
     "data": {
      "text/html": [
       "<div>\n",
       "<style scoped>\n",
       "    .dataframe tbody tr th:only-of-type {\n",
       "        vertical-align: middle;\n",
       "    }\n",
       "\n",
       "    .dataframe tbody tr th {\n",
       "        vertical-align: top;\n",
       "    }\n",
       "\n",
       "    .dataframe thead th {\n",
       "        text-align: right;\n",
       "    }\n",
       "</style>\n",
       "<table border=\"1\" class=\"dataframe\">\n",
       "  <thead>\n",
       "    <tr style=\"text-align: right;\">\n",
       "      <th></th>\n",
       "      <th># Neurons in Four Layers</th>\n",
       "      <th>Model MEC (bits)</th>\n",
       "      <th>Train Accuracy</th>\n",
       "      <th>Test Accuracy</th>\n",
       "      <th>Generalization</th>\n",
       "    </tr>\n",
       "  </thead>\n",
       "  <tbody>\n",
       "    <tr>\n",
       "      <th>0</th>\n",
       "      <td>[256, 128, 128, 10]</td>\n",
       "      <td>201482</td>\n",
       "      <td>0.940217</td>\n",
       "      <td>0.8828</td>\n",
       "      <td>0.279990</td>\n",
       "    </tr>\n",
       "    <tr>\n",
       "      <th>1</th>\n",
       "      <td>[128, 64, 64, 10]</td>\n",
       "      <td>100746</td>\n",
       "      <td>0.935150</td>\n",
       "      <td>0.8762</td>\n",
       "      <td>0.556935</td>\n",
       "    </tr>\n",
       "    <tr>\n",
       "      <th>2</th>\n",
       "      <td>[64, 32, 32, 10]</td>\n",
       "      <td>50378</td>\n",
       "      <td>0.923150</td>\n",
       "      <td>0.8667</td>\n",
       "      <td>1.099468</td>\n",
       "    </tr>\n",
       "    <tr>\n",
       "      <th>3</th>\n",
       "      <td>[32, 16, 16, 10]</td>\n",
       "      <td>25194</td>\n",
       "      <td>0.903633</td>\n",
       "      <td>0.8622</td>\n",
       "      <td>2.152020</td>\n",
       "    </tr>\n",
       "    <tr>\n",
       "      <th>4</th>\n",
       "      <td>[16, 8, 8, 10]</td>\n",
       "      <td>12602</td>\n",
       "      <td>0.882267</td>\n",
       "      <td>0.8502</td>\n",
       "      <td>4.200603</td>\n",
       "    </tr>\n",
       "    <tr>\n",
       "      <th>5</th>\n",
       "      <td>[8, 4, 4, 10]</td>\n",
       "      <td>6306</td>\n",
       "      <td>0.840433</td>\n",
       "      <td>0.8191</td>\n",
       "      <td>7.996511</td>\n",
       "    </tr>\n",
       "    <tr>\n",
       "      <th>6</th>\n",
       "      <td>[4, 4, 2, 10]</td>\n",
       "      <td>3160</td>\n",
       "      <td>0.775183</td>\n",
       "      <td>0.7610</td>\n",
       "      <td>14.718671</td>\n",
       "    </tr>\n",
       "  </tbody>\n",
       "</table>\n",
       "</div>"
      ],
      "text/plain": [
       "  # Neurons in Four Layers  Model MEC (bits)  Train Accuracy  Test Accuracy  \\\n",
       "0      [256, 128, 128, 10]            201482        0.940217         0.8828   \n",
       "1        [128, 64, 64, 10]            100746        0.935150         0.8762   \n",
       "2         [64, 32, 32, 10]             50378        0.923150         0.8667   \n",
       "3         [32, 16, 16, 10]             25194        0.903633         0.8622   \n",
       "4           [16, 8, 8, 10]             12602        0.882267         0.8502   \n",
       "5            [8, 4, 4, 10]              6306        0.840433         0.8191   \n",
       "6            [4, 4, 2, 10]              3160        0.775183         0.7610   \n",
       "\n",
       "   Generalization  \n",
       "0        0.279990  \n",
       "1        0.556935  \n",
       "2        1.099468  \n",
       "3        2.152020  \n",
       "4        4.200603  \n",
       "5        7.996511  \n",
       "6       14.718671  "
      ]
     },
     "execution_count": 15,
     "metadata": {},
     "output_type": "execute_result"
    }
   ],
   "source": [
    "num_nodes = k_list.copy()\n",
    "[n.append(10) for n in num_nodes] # include the last output layer\n",
    "table = pd.DataFrame({\n",
    "    \"# Neurons in Four Layers\": num_nodes,\n",
    "    \"Model MEC (bits)\": mec_list, \n",
    "    \"Train Accuracy\": train_acc_list, \n",
    "    \"Test Accuracy\": test_acc_list\n",
    "})\n",
    "table['Generalization'] = table['Train Accuracy'] * 60000 / table['Model MEC (bits)']\n",
    "table"
   ]
  }
 ],
 "metadata": {
  "kernelspec": {
   "display_name": "Tutorial",
   "language": "python",
   "name": "tutorial"
  },
  "language_info": {
   "codemirror_mode": {
    "name": "ipython",
    "version": 3
   },
   "file_extension": ".py",
   "mimetype": "text/x-python",
   "name": "python",
   "nbconvert_exporter": "python",
   "pygments_lexer": "ipython3",
   "version": "3.8.12"
  }
 },
 "nbformat": 4,
 "nbformat_minor": 5
}
