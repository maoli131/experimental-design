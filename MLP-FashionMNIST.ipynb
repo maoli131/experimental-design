{
 "cells": [
  {
   "cell_type": "markdown",
   "id": "370789f1-a728-41c8-982b-efbb0ef3aa91",
   "metadata": {
    "tags": []
   },
   "source": [
    "# Experimental Design on Multilayer Preceptron\n",
    "\n",
    "This notebook performs the analysis and experimental design on the Multilayer Preceptron trained on Fashion-MNIST dataset. \n",
    "It automatically records the train/test accuracy of MLP trained with different portions of datasets (10% ... 100%). \n",
    "\n",
    "\n",
    "## Introduction\n",
    "\n",
    "- Model: a multilayer preceptron that consists of four linear layer with ReLU activation functions. \n",
    "```\n",
    "MLP(\n",
    "  (flatten): Flatten(start_dim=1, end_dim=-1)\n",
    "  (linear_relu_stack): Sequential(\n",
    "    (0): Linear(in_features=784, out_features=200, bias=True)\n",
    "    (1): ReLU()\n",
    "    (2): Linear(in_features=200, out_features=128, bias=True)\n",
    "    (3): ReLU()\n",
    "    (4): Linear(in_features=128, out_features=128, bias=True)\n",
    "    (5): ReLU()\n",
    "    (6): Linear(in_features=128, out_features=10, bias=True)\n",
    "  )\n",
    ")\n",
    "```\n",
    "- Dataset: Fashion MNIST dataset, with 60,000 training samples and 10,000 testing samples. Each sample is a 28 x 28 grayscale image, that is out of the 10 classes: {\"T-Shirt\", \"Trouser\", \"Pullover\", \"Dress\", \"Coat\", \"Sandal\", \"Shirt\", \"Sneaker\", \"Bag\", \"Ankle Boot\"}\n",
    "\n",
    "To run this notebook, we can simply edit the `config` dictionary and run the pipeline. Model performances, metrics and stats will be automatically logged. Adjust the `sls` parameter in `config` to use different portion of training dataset.\n",
    "\n",
    "**Note**: This notebook uses `wandb` to automatically logs the model performance. Following the official tutorial of `wandb`, this notebook integrates `wandb` with a multilayer preceptron model trained on Fashion-MNIST dataset. Before running this notebook, make sure\n",
    "```bash\n",
    "pip install wandb\n",
    "```"
   ]
  },
  {
   "cell_type": "code",
   "execution_count": 57,
   "id": "5410fa56-b306-4f7f-8eeb-9a25eeb98654",
   "metadata": {},
   "outputs": [
    {
     "name": "stdout",
     "output_type": "stream",
     "text": [
      "Using cpu device\n"
     ]
    }
   ],
   "source": [
    "import os\n",
    "import random\n",
    "\n",
    "import numpy as np\n",
    "import matplotlib.pyplot as plt\n",
    "\n",
    "import torch\n",
    "from torch import nn\n",
    "from torch.utils.data import DataLoader, Subset\n",
    "from torchvision import datasets\n",
    "from torchvision.transforms import ToTensor, Lambda, Compose\n",
    "\n",
    "# from tqdm.notebook import tqdm # progress bar\n",
    "\n",
    "# Ensure deterministic behavior\n",
    "torch.backends.cudnn.deterministic = True\n",
    "random.seed(hash(\"setting random seeds\") % 2**32 - 1)\n",
    "np.random.seed(hash(\"improves reproducibility\") % 2**32 - 1)\n",
    "torch.manual_seed(hash(\"by removing stochasticity\") % 2**32 - 1)\n",
    "torch.cuda.manual_seed_all(hash(\"so runs are repeatable\") % 2**32 - 1)\n",
    "\n",
    "# Device Configuration\n",
    "device = \"cuda\" if torch.cuda.is_available() else \"cpu\"\n",
    "print(f\"Using {device} device\")"
   ]
  },
  {
   "cell_type": "code",
   "execution_count": 58,
   "id": "c3a118b9-61c7-419a-84bb-4bbb7540351e",
   "metadata": {},
   "outputs": [],
   "source": [
    "train_acc = []"
   ]
  },
  {
   "cell_type": "markdown",
   "id": "75fcfe39-130a-400e-984d-14d8f86864eb",
   "metadata": {},
   "source": [
    "## Preliminaries\n",
    "We must login to wandb account, in order to record our training on the platform's dashborad. Make sure to install wandb library in our virtual conda environment. "
   ]
  },
  {
   "cell_type": "code",
   "execution_count": 59,
   "id": "b16c1cb6-7c0e-4d3f-98c3-7774894a5684",
   "metadata": {},
   "outputs": [
    {
     "data": {
      "text/plain": [
       "True"
      ]
     },
     "execution_count": 59,
     "metadata": {},
     "output_type": "execute_result"
    }
   ],
   "source": [
    "import wandb\n",
    "wandb.login()"
   ]
  },
  {
   "cell_type": "markdown",
   "id": "7f5dfd76-8c30-41d9-a1f3-1cb7a3611434",
   "metadata": {
    "tags": []
   },
   "source": [
    "## Define Data Loading and Model"
   ]
  },
  {
   "cell_type": "code",
   "execution_count": 60,
   "id": "cf031035-ef1f-4b1a-951b-ffa71fbb7f96",
   "metadata": {},
   "outputs": [],
   "source": [
    "# Get training and testing data with config (slice)\n",
    "def get_data(sls=5, train=True):\n",
    "    \n",
    "    full_dataset = datasets.FashionMNIST(\n",
    "        root=\"data\",\n",
    "        train=train,\n",
    "        download=True,\n",
    "        transform=ToTensor(),\n",
    "    )\n",
    "    # equiv to slicing iwth [::slice]\n",
    "    sub_dataset = Subset(full_dataset, indices=range(0, int(sls * len(full_dataset)), 1))\n",
    "    \n",
    "    return sub_dataset\n",
    "\n",
    "# Make the dataloader with config (dataset, batch_size\n",
    "def make_loader(dataset, batch_size):\n",
    "    \n",
    "    loader = DataLoader(dataset=dataset, batch_size=batch_size)\n",
    "    return loader"
   ]
  },
  {
   "cell_type": "code",
   "execution_count": 61,
   "id": "ea3c73e9-98b7-4148-89cb-ab234868e5ee",
   "metadata": {},
   "outputs": [],
   "source": [
    "# Define model: a simple multilayer preceptron\n",
    "class MLP(nn.Module):\n",
    "    def __init__(self, kernels, classes=10):\n",
    "        super(MLP, self).__init__()\n",
    "        self.flatten = nn.Flatten()\n",
    "        self.linear_relu_stack = nn.Sequential(\n",
    "            nn.Linear(28*28, kernels[0]),\n",
    "            nn.ReLU(),\n",
    "            nn.Linear(kernels[0], kernels[1]),\n",
    "            nn.ReLU(),\n",
    "            nn.Linear(kernels[1], kernels[2]),\n",
    "            nn.ReLU(),\n",
    "            nn.Linear(kernels[2], classes)\n",
    "        )\n",
    "\n",
    "    def forward(self, x):\n",
    "        x = self.flatten(x)\n",
    "        logits = self.linear_relu_stack(x)\n",
    "        return logits"
   ]
  },
  {
   "cell_type": "markdown",
   "id": "2ef19a84-30ca-4a33-8471-df001c214058",
   "metadata": {
    "tags": []
   },
   "source": [
    "## Define Training Logic\n",
    "\n",
    "`wandb.watch` will log the gradients and the parameters of your model, every `log_freq` steps of training."
   ]
  },
  {
   "cell_type": "code",
   "execution_count": 62,
   "id": "250de5a2-92f2-45c1-867c-73cda9d88aa1",
   "metadata": {},
   "outputs": [],
   "source": [
    "def train(model, loader, criterion, optimizer, config):\n",
    "    \n",
    "    # Tell wandb to watch what the model gets up to: gradients, weights, and more!\n",
    "    wandb.watch(model, criterion, log=\"all\", log_freq=10)\n",
    "    \n",
    "    # Run training and track with wandb\n",
    "    total_batches = len(loader) * config.epochs\n",
    "    example_ct = 0  # number of examples seen\n",
    "    batch_ct = 0\n",
    "    for epoch in range(config.epochs):\n",
    "        for _, (images, labels) in enumerate(loader):\n",
    "\n",
    "            loss = train_batch(images, labels, model, optimizer, criterion)\n",
    "            example_ct +=  len(images)\n",
    "            batch_ct += 1\n",
    "\n",
    "            # Report metrics every 25th batch\n",
    "            if ((batch_ct + 1) % 100) == 0:\n",
    "                train_log(loss, example_ct, epoch)\n",
    "\n",
    "def train_batch(images, labels, model, optimizer, criterion):\n",
    "    images, labels = images.to(device), labels.to(device)\n",
    "    \n",
    "    # Forward pass \n",
    "    outputs = model(images)\n",
    "    loss = criterion(outputs, labels)\n",
    "    \n",
    "    # Backward pass \n",
    "    optimizer.zero_grad()\n",
    "    loss.backward()\n",
    "\n",
    "    # Step with optimizer\n",
    "    optimizer.step()\n",
    "\n",
    "    return loss"
   ]
  },
  {
   "cell_type": "markdown",
   "id": "e830e783-cf52-460a-a79d-c397c5dfd495",
   "metadata": {},
   "source": [
    "`wandb.log` records the reported metrics to their server. "
   ]
  },
  {
   "cell_type": "code",
   "execution_count": 63,
   "id": "c5b3fcf0-aa02-42d9-b89c-b2df66930304",
   "metadata": {},
   "outputs": [],
   "source": [
    "def train_log(loss, example_ct, epoch):\n",
    "    # Where the magic happens\n",
    "    wandb.log({\"epoch\": epoch, \"loss\": loss}, step=example_ct)\n",
    "    print(f\"Loss after \" + str(example_ct).zfill(5) + f\" examples: {loss:.3f}\")"
   ]
  },
  {
   "cell_type": "markdown",
   "id": "ee64fd46-8b17-40ae-936b-aa54269518b7",
   "metadata": {},
   "source": [
    "## Define Testing Logic\n",
    "\n",
    "Once the model is done training, we want to test it: run it against some fresh data from production.\n",
    "\n",
    "We can save the model's architecture and final parameters to disk. We'll `export` our model in the\n",
    "[Open Neural Network eXchange (ONNX) format](https://onnx.ai/).\n",
    "\n",
    "Passing that filename to `wandb.save` ensures that the model parameters are saved to W&B's servers: no more losing track of which `.h5` or `.pb` corresponds to which training runs!"
   ]
  },
  {
   "cell_type": "code",
   "execution_count": 64,
   "id": "1689ebf9-54fd-47ff-8deb-2382d27248ca",
   "metadata": {},
   "outputs": [],
   "source": [
    "def test(model, test_loader):\n",
    "    \n",
    "    model.eval()\n",
    "\n",
    "    # Run the model on some test examples\n",
    "    with torch.no_grad():\n",
    "        correct, total = 0, 0\n",
    "        for images, labels in test_loader: #TODO\n",
    "            images, labels = images.to(device), labels.to(device)\n",
    "            outputs = model(images)\n",
    "            _, predicted = torch.max(outputs.data, 1)\n",
    "            total += labels.size(0)\n",
    "            correct += (predicted == labels).sum().item()\n",
    "\n",
    "        print(f\"Accuracy of the model on the {total} \" +\n",
    "              f\"train images: {100 * correct / total}%\")\n",
    "        \n",
    "        wandb.log({\"train_accuracy\": correct / total})\n",
    "        train_acc.append(correct / total)\n",
    "\n",
    "    # Save the model in the exchangeable ONNX format\n",
    "    torch.onnx.export(model, images, \"model.onnx\")\n",
    "    wandb.save(\"model.onnx\")"
   ]
  },
  {
   "cell_type": "markdown",
   "id": "fcd5b072-4ee7-4f3d-bfa4-b536b06f950d",
   "metadata": {
    "tags": []
   },
   "source": [
    "## Define the experiment and pipeline"
   ]
  },
  {
   "cell_type": "markdown",
   "id": "94a7683e-17cc-4496-b719-706c85f913b2",
   "metadata": {
    "tags": []
   },
   "source": [
    "### Make\n",
    "\n",
    "To ensure the values we chose and logged are always the ones that get used\n",
    "in our model, we use the `wandb.config` copy of your object."
   ]
  },
  {
   "cell_type": "code",
   "execution_count": 65,
   "id": "24e6405e-cc87-4b22-b8e5-30c764db93f3",
   "metadata": {},
   "outputs": [],
   "source": [
    "def make(config):\n",
    "    # Make the data, TODO: both data are training 6000 data\n",
    "    train, test = get_data(train=True, sls = config.sls), get_data(train=True, sls= config.sls)\n",
    "    train_loader = make_loader(train, batch_size=config.batch_size)\n",
    "    test_loader = make_loader(test, batch_size=config.batch_size)\n",
    "\n",
    "    # Make the model\n",
    "    model = MLP(config.kernels, config.classes).to(device)\n",
    "\n",
    "    # Make the loss and optimizer\n",
    "    criterion = nn.CrossEntropyLoss()\n",
    "    optimizer = torch.optim.Adam(\n",
    "        model.parameters(), lr=config.learning_rate)\n",
    "    \n",
    "    return model, train_loader, test_loader, criterion, optimizer"
   ]
  },
  {
   "cell_type": "markdown",
   "id": "dbc2c5c1-3a59-4153-b6ac-ee9a6a18c59c",
   "metadata": {},
   "source": [
    "### Pipeline\n",
    "\n",
    "The overall pipeline is structured as the following:\n",
    "1. we first `make` a model, plus associated data and optimizer, then\n",
    "2. we `train` the model accordingly and finally\n",
    "3. `test` it to see how training went."
   ]
  },
  {
   "cell_type": "code",
   "execution_count": 66,
   "id": "e77c575b-60ec-40f5-ab8b-fceaa2912636",
   "metadata": {},
   "outputs": [],
   "source": [
    "def model_pipeline(hyperparameters):\n",
    "\n",
    "    # tell wandb to get started\n",
    "    with wandb.init(project=\"mlp-final\", config=hyperparameters):\n",
    "      \n",
    "        # access all HPs through wandb.config, so logging matches execution!\n",
    "        config = wandb.config\n",
    "\n",
    "        # make the model, data, and optimization problem\n",
    "        model, train_loader, test_loader, criterion, optimizer = make(config)\n",
    "        print(model)\n",
    "\n",
    "        # and use them to train the model\n",
    "        train(model, train_loader, criterion, optimizer, config)\n",
    "\n",
    "        # and test its final performance\n",
    "        test(model, test_loader)\n",
    "\n",
    "    return model"
   ]
  },
  {
   "cell_type": "markdown",
   "id": "8f7cb1b2-48b0-45f0-a0f4-e4f2684fe270",
   "metadata": {},
   "source": [
    "### Run the Model \n",
    "\n",
    "- Config: Hyperparameters and metadata for our model is stored in a dictionary `config`.\n",
    "- Pipeline: build, train and analyze the model with pipline"
   ]
  },
  {
   "cell_type": "code",
   "execution_count": 67,
   "id": "6e6acff6-600f-4631-a28b-3963d5748946",
   "metadata": {},
   "outputs": [
    {
     "data": {
      "text/html": [
       "\n",
       "                    Syncing run <strong><a href=\"https://wandb.ai/maoli131/mlp-final/runs/3exxdtkh\" target=\"_blank\">lyric-sky-1</a></strong> to <a href=\"https://wandb.ai/maoli131/mlp-final\" target=\"_blank\">Weights & Biases</a> (<a href=\"https://docs.wandb.com/integrations/jupyter.html\" target=\"_blank\">docs</a>).<br/>\n",
       "\n",
       "                "
      ],
      "text/plain": [
       "<IPython.core.display.HTML object>"
      ]
     },
     "metadata": {},
     "output_type": "display_data"
    },
    {
     "name": "stdout",
     "output_type": "stream",
     "text": [
      "MLP(\n",
      "  (flatten): Flatten(start_dim=1, end_dim=-1)\n",
      "  (linear_relu_stack): Sequential(\n",
      "    (0): Linear(in_features=784, out_features=200, bias=True)\n",
      "    (1): ReLU()\n",
      "    (2): Linear(in_features=200, out_features=128, bias=True)\n",
      "    (3): ReLU()\n",
      "    (4): Linear(in_features=128, out_features=128, bias=True)\n",
      "    (5): ReLU()\n",
      "    (6): Linear(in_features=128, out_features=10, bias=True)\n",
      "  )\n",
      ")\n",
      "Loss after 06320 examples: 0.937\n",
      "Loss after 12704 examples: 0.408\n",
      "Loss after 19088 examples: 0.460\n",
      "Loss after 25472 examples: 0.361\n",
      "Loss after 31856 examples: 0.543\n",
      "Loss after 38240 examples: 0.480\n",
      "Loss after 44624 examples: 0.347\n",
      "Loss after 51008 examples: 0.419\n",
      "Loss after 57392 examples: 0.364\n",
      "Accuracy of the model on the 6000 train images: 89.33333333333333%\n"
     ]
    },
    {
     "data": {
      "text/html": [
       "<br/>Waiting for W&B process to finish, PID 59784... <strong style=\"color:green\">(success).</strong>"
      ],
      "text/plain": [
       "<IPython.core.display.HTML object>"
      ]
     },
     "metadata": {},
     "output_type": "display_data"
    },
    {
     "data": {
      "application/vnd.jupyter.widget-view+json": {
       "model_id": "",
       "version_major": 2,
       "version_minor": 0
      },
      "text/plain": [
       "VBox(children=(Label(value=' 0.77MB of 0.77MB uploaded (0.00MB deduped)\\r'), FloatProgress(value=1.0, max=1.0)…"
      ]
     },
     "metadata": {},
     "output_type": "display_data"
    },
    {
     "data": {
      "text/html": [
       "<style>\n",
       "    table.wandb td:nth-child(1) { padding: 0 10px; text-align: right }\n",
       "    .wandb-row { display: flex; flex-direction: row; flex-wrap: wrap; width: 100% }\n",
       "    .wandb-col { display: flex; flex-direction: column; flex-basis: 100%; flex: 1; padding: 10px; }\n",
       "    </style>\n",
       "<div class=\"wandb-row\"><div class=\"wandb-col\">\n",
       "<h3>Run history:</h3><br/><table class=\"wandb\"><tr><td>epoch</td><td>▁▂▃▄▅▅▆▇█</td></tr><tr><td>loss</td><td>█▂▂▁▃▃▁▂▁</td></tr><tr><td>train_accuracy</td><td>▁</td></tr></table><br/></div><div class=\"wandb-col\">\n",
       "<h3>Run summary:</h3><br/><table class=\"wandb\"><tr><td>epoch</td><td>9</td></tr><tr><td>loss</td><td>0.36394</td></tr><tr><td>train_accuracy</td><td>0.89333</td></tr></table>\n",
       "</div></div>\n",
       "Synced 5 W&B file(s), 0 media file(s), 0 artifact file(s) and 1 other file(s)\n",
       "<br/>Synced <strong style=\"color:#cdcd00\">lyric-sky-1</strong>: <a href=\"https://wandb.ai/maoli131/mlp-final/runs/3exxdtkh\" target=\"_blank\">https://wandb.ai/maoli131/mlp-final/runs/3exxdtkh</a><br/>\n",
       "Find logs at: <code>./wandb/run-20211209_181548-3exxdtkh/logs</code><br/>\n"
      ],
      "text/plain": [
       "<IPython.core.display.HTML object>"
      ]
     },
     "metadata": {},
     "output_type": "display_data"
    },
    {
     "data": {
      "text/html": [
       "\n",
       "                    Syncing run <strong><a href=\"https://wandb.ai/maoli131/mlp-final/runs/3w1vshq3\" target=\"_blank\">expert-energy-2</a></strong> to <a href=\"https://wandb.ai/maoli131/mlp-final\" target=\"_blank\">Weights & Biases</a> (<a href=\"https://docs.wandb.com/integrations/jupyter.html\" target=\"_blank\">docs</a>).<br/>\n",
       "\n",
       "                "
      ],
      "text/plain": [
       "<IPython.core.display.HTML object>"
      ]
     },
     "metadata": {},
     "output_type": "display_data"
    },
    {
     "name": "stdout",
     "output_type": "stream",
     "text": [
      "MLP(\n",
      "  (flatten): Flatten(start_dim=1, end_dim=-1)\n",
      "  (linear_relu_stack): Sequential(\n",
      "    (0): Linear(in_features=784, out_features=200, bias=True)\n",
      "    (1): ReLU()\n",
      "    (2): Linear(in_features=200, out_features=128, bias=True)\n",
      "    (3): ReLU()\n",
      "    (4): Linear(in_features=128, out_features=128, bias=True)\n",
      "    (5): ReLU()\n",
      "    (6): Linear(in_features=128, out_features=10, bias=True)\n",
      "  )\n",
      ")\n",
      "Loss after 06336 examples: 0.709\n",
      "Loss after 12736 examples: 0.529\n",
      "Loss after 19088 examples: 0.538\n",
      "Loss after 25488 examples: 0.414\n",
      "Loss after 31888 examples: 0.398\n",
      "Loss after 38240 examples: 0.511\n",
      "Loss after 44640 examples: 0.376\n",
      "Loss after 51040 examples: 0.415\n",
      "Loss after 57392 examples: 0.463\n",
      "Loss after 63792 examples: 0.355\n",
      "Loss after 70192 examples: 0.278\n",
      "Loss after 76544 examples: 0.305\n",
      "Loss after 82944 examples: 0.320\n",
      "Loss after 89344 examples: 0.432\n",
      "Loss after 95696 examples: 0.386\n",
      "Loss after 102096 examples: 0.266\n",
      "Loss after 108448 examples: 0.264\n",
      "Loss after 114848 examples: 0.230\n",
      "Loss after 121248 examples: 0.272\n",
      "Loss after 127600 examples: 0.276\n",
      "Loss after 134000 examples: 0.346\n",
      "Loss after 140400 examples: 0.266\n",
      "Loss after 146752 examples: 0.249\n",
      "Loss after 153152 examples: 0.284\n",
      "Loss after 159552 examples: 0.293\n",
      "Loss after 165904 examples: 0.481\n",
      "Loss after 172304 examples: 0.288\n",
      "Loss after 178704 examples: 0.211\n",
      "Accuracy of the model on the 18000 train images: 89.70555555555555%\n"
     ]
    },
    {
     "data": {
      "text/html": [
       "<br/>Waiting for W&B process to finish, PID 61397... <strong style=\"color:green\">(success).</strong>"
      ],
      "text/plain": [
       "<IPython.core.display.HTML object>"
      ]
     },
     "metadata": {},
     "output_type": "display_data"
    },
    {
     "data": {
      "application/vnd.jupyter.widget-view+json": {
       "model_id": "",
       "version_major": 2,
       "version_minor": 0
      },
      "text/plain": [
       "VBox(children=(Label(value=' 0.77MB of 0.77MB uploaded (0.00MB deduped)\\r'), FloatProgress(value=1.0, max=1.0)…"
      ]
     },
     "metadata": {},
     "output_type": "display_data"
    },
    {
     "data": {
      "text/html": [
       "<style>\n",
       "    table.wandb td:nth-child(1) { padding: 0 10px; text-align: right }\n",
       "    .wandb-row { display: flex; flex-direction: row; flex-wrap: wrap; width: 100% }\n",
       "    .wandb-col { display: flex; flex-direction: column; flex-basis: 100%; flex: 1; padding: 10px; }\n",
       "    </style>\n",
       "<div class=\"wandb-row\"><div class=\"wandb-col\">\n",
       "<h3>Run history:</h3><br/><table class=\"wandb\"><tr><td>epoch</td><td>▁▁▂▂▂▃▃▃▃▃▃▄▄▄▅▅▆▆▆▆▆▆▇▇▇███</td></tr><tr><td>loss</td><td>█▅▆▄▄▅▃▄▅▃▂▂▃▄▃▂▂▁▂▂▃▂▂▂▂▅▂▁</td></tr><tr><td>train_accuracy</td><td>▁</td></tr></table><br/></div><div class=\"wandb-col\">\n",
       "<h3>Run summary:</h3><br/><table class=\"wandb\"><tr><td>epoch</td><td>9</td></tr><tr><td>loss</td><td>0.21095</td></tr><tr><td>train_accuracy</td><td>0.89706</td></tr></table>\n",
       "</div></div>\n",
       "Synced 5 W&B file(s), 0 media file(s), 0 artifact file(s) and 1 other file(s)\n",
       "<br/>Synced <strong style=\"color:#cdcd00\">expert-energy-2</strong>: <a href=\"https://wandb.ai/maoli131/mlp-final/runs/3w1vshq3\" target=\"_blank\">https://wandb.ai/maoli131/mlp-final/runs/3w1vshq3</a><br/>\n",
       "Find logs at: <code>./wandb/run-20211209_181607-3w1vshq3/logs</code><br/>\n"
      ],
      "text/plain": [
       "<IPython.core.display.HTML object>"
      ]
     },
     "metadata": {},
     "output_type": "display_data"
    },
    {
     "data": {
      "text/html": [
       "\n",
       "                    Syncing run <strong><a href=\"https://wandb.ai/maoli131/mlp-final/runs/17hdmh53\" target=\"_blank\">vague-rain-3</a></strong> to <a href=\"https://wandb.ai/maoli131/mlp-final\" target=\"_blank\">Weights & Biases</a> (<a href=\"https://docs.wandb.com/integrations/jupyter.html\" target=\"_blank\">docs</a>).<br/>\n",
       "\n",
       "                "
      ],
      "text/plain": [
       "<IPython.core.display.HTML object>"
      ]
     },
     "metadata": {},
     "output_type": "display_data"
    },
    {
     "name": "stdout",
     "output_type": "stream",
     "text": [
      "MLP(\n",
      "  (flatten): Flatten(start_dim=1, end_dim=-1)\n",
      "  (linear_relu_stack): Sequential(\n",
      "    (0): Linear(in_features=784, out_features=200, bias=True)\n",
      "    (1): ReLU()\n",
      "    (2): Linear(in_features=200, out_features=128, bias=True)\n",
      "    (3): ReLU()\n",
      "    (4): Linear(in_features=128, out_features=128, bias=True)\n",
      "    (5): ReLU()\n",
      "    (6): Linear(in_features=128, out_features=10, bias=True)\n",
      "  )\n",
      ")\n",
      "Loss after 06336 examples: 0.785\n",
      "Loss after 12736 examples: 0.550\n",
      "Loss after 19136 examples: 0.743\n",
      "Loss after 25536 examples: 0.539\n",
      "Loss after 31920 examples: 0.408\n",
      "Loss after 38320 examples: 0.534\n",
      "Loss after 44720 examples: 0.420\n",
      "Loss after 51120 examples: 0.439\n",
      "Loss after 57520 examples: 0.357\n",
      "Loss after 63904 examples: 0.698\n",
      "Loss after 70304 examples: 0.388\n",
      "Loss after 76704 examples: 0.311\n",
      "Loss after 83104 examples: 0.396\n",
      "Loss after 89504 examples: 0.486\n",
      "Loss after 95888 examples: 0.387\n",
      "Loss after 102288 examples: 0.275\n",
      "Loss after 108688 examples: 0.213\n",
      "Loss after 115088 examples: 0.192\n",
      "Loss after 121472 examples: 0.231\n",
      "Loss after 127872 examples: 0.272\n",
      "Loss after 134272 examples: 0.266\n",
      "Loss after 140672 examples: 0.236\n",
      "Loss after 147072 examples: 0.170\n",
      "Loss after 153456 examples: 0.299\n",
      "Loss after 159856 examples: 0.507\n",
      "Loss after 166256 examples: 0.199\n",
      "Loss after 172656 examples: 0.342\n",
      "Loss after 179056 examples: 0.306\n",
      "Loss after 185440 examples: 0.393\n",
      "Loss after 191840 examples: 0.237\n",
      "Loss after 198240 examples: 0.319\n",
      "Loss after 204640 examples: 0.425\n",
      "Loss after 211024 examples: 0.265\n",
      "Loss after 217424 examples: 0.265\n",
      "Loss after 223824 examples: 0.240\n",
      "Loss after 230224 examples: 0.281\n",
      "Loss after 236624 examples: 0.099\n",
      "Loss after 243008 examples: 0.408\n",
      "Loss after 249408 examples: 0.200\n",
      "Loss after 255808 examples: 0.186\n",
      "Loss after 262208 examples: 0.427\n",
      "Loss after 268608 examples: 0.238\n",
      "Loss after 274992 examples: 0.276\n",
      "Loss after 281392 examples: 0.196\n",
      "Loss after 287792 examples: 0.271\n",
      "Loss after 294192 examples: 0.224\n",
      "Accuracy of the model on the 30000 train images: 90.28666666666666%\n"
     ]
    },
    {
     "name": "stderr",
     "output_type": "stream",
     "text": [
      "/global/homes/m/maoli/.conda/envs/tutorial/lib/python3.8/site-packages/wandb/wandb_torch.py:222: TracerWarning: Converting a tensor to a Python boolean might cause the trace to be incorrect. We can't record the data flow of Python values, so this value will be treated as a constant in the future. This means that the trace might not generalize to other inputs!\n",
      "  if flat.shape == torch.Size([0]):\n",
      "/global/homes/m/maoli/.conda/envs/tutorial/lib/python3.8/site-packages/wandb/wandb_torch.py:225: TracerWarning: Converting a tensor to a Python number might cause the trace to be incorrect. We can't record the data flow of Python values, so this value will be treated as a constant in the future. This means that the trace might not generalize to other inputs!\n",
      "  tmin = flat.min().item()\n",
      "/global/homes/m/maoli/.conda/envs/tutorial/lib/python3.8/site-packages/wandb/wandb_torch.py:226: TracerWarning: Converting a tensor to a Python number might cause the trace to be incorrect. We can't record the data flow of Python values, so this value will be treated as a constant in the future. This means that the trace might not generalize to other inputs!\n",
      "  tmax = flat.max().item()\n",
      "/global/homes/m/maoli/.conda/envs/tutorial/lib/python3.8/site-packages/wandb/wandb_torch.py:261: TracerWarning: Converting a tensor to a Python list might cause the trace to be incorrect. We can't record the data flow of Python values, so this value will be treated as a constant in the future. This means that the trace might not generalize to other inputs!\n",
      "  {name: wandb.Histogram(np_histogram=(tensor.tolist(), bins.tolist()))}\n"
     ]
    },
    {
     "data": {
      "text/html": [
       "<br/>Waiting for W&B process to finish, PID 2177... <strong style=\"color:green\">(success).</strong>"
      ],
      "text/plain": [
       "<IPython.core.display.HTML object>"
      ]
     },
     "metadata": {},
     "output_type": "display_data"
    },
    {
     "data": {
      "application/vnd.jupyter.widget-view+json": {
       "model_id": "",
       "version_major": 2,
       "version_minor": 0
      },
      "text/plain": [
       "VBox(children=(Label(value=' 0.77MB of 0.77MB uploaded (0.00MB deduped)\\r'), FloatProgress(value=1.0, max=1.0)…"
      ]
     },
     "metadata": {},
     "output_type": "display_data"
    },
    {
     "data": {
      "text/html": [
       "<style>\n",
       "    table.wandb td:nth-child(1) { padding: 0 10px; text-align: right }\n",
       "    .wandb-row { display: flex; flex-direction: row; flex-wrap: wrap; width: 100% }\n",
       "    .wandb-col { display: flex; flex-direction: column; flex-basis: 100%; flex: 1; padding: 10px; }\n",
       "    </style>\n",
       "<div class=\"wandb-row\"><div class=\"wandb-col\">\n",
       "<h3>Run history:</h3><br/><table class=\"wandb\"><tr><td>epoch</td><td>▁▁▁▁▂▂▂▂▃▃▃▃▃▃▃▃▄▄▄▄▅▅▅▅▅▆▆▆▆▆▆▆▆▇▇▇▇███</td></tr><tr><td>loss</td><td>█▆█▅▄▅▄▄▇▄▃▄▅▄▂▂▂▃▃▂▃▅▂▃▃▄▂▄▃▃▂▃▁▂▂▄▂▃▂▃</td></tr><tr><td>train_accuracy</td><td>▁</td></tr></table><br/></div><div class=\"wandb-col\">\n",
       "<h3>Run summary:</h3><br/><table class=\"wandb\"><tr><td>epoch</td><td>9</td></tr><tr><td>loss</td><td>0.22377</td></tr><tr><td>train_accuracy</td><td>0.90287</td></tr></table>\n",
       "</div></div>\n",
       "Synced 5 W&B file(s), 0 media file(s), 0 artifact file(s) and 1 other file(s)\n",
       "<br/>Synced <strong style=\"color:#cdcd00\">vague-rain-3</strong>: <a href=\"https://wandb.ai/maoli131/mlp-final/runs/17hdmh53\" target=\"_blank\">https://wandb.ai/maoli131/mlp-final/runs/17hdmh53</a><br/>\n",
       "Find logs at: <code>./wandb/run-20211209_181654-17hdmh53/logs</code><br/>\n"
      ],
      "text/plain": [
       "<IPython.core.display.HTML object>"
      ]
     },
     "metadata": {},
     "output_type": "display_data"
    },
    {
     "data": {
      "text/html": [
       "\n",
       "                    Syncing run <strong><a href=\"https://wandb.ai/maoli131/mlp-final/runs/2zqlfwmo\" target=\"_blank\">bright-cloud-4</a></strong> to <a href=\"https://wandb.ai/maoli131/mlp-final\" target=\"_blank\">Weights & Biases</a> (<a href=\"https://docs.wandb.com/integrations/jupyter.html\" target=\"_blank\">docs</a>).<br/>\n",
       "\n",
       "                "
      ],
      "text/plain": [
       "<IPython.core.display.HTML object>"
      ]
     },
     "metadata": {},
     "output_type": "display_data"
    },
    {
     "name": "stdout",
     "output_type": "stream",
     "text": [
      "MLP(\n",
      "  (flatten): Flatten(start_dim=1, end_dim=-1)\n",
      "  (linear_relu_stack): Sequential(\n",
      "    (0): Linear(in_features=784, out_features=200, bias=True)\n",
      "    (1): ReLU()\n",
      "    (2): Linear(in_features=200, out_features=128, bias=True)\n",
      "    (3): ReLU()\n",
      "    (4): Linear(in_features=128, out_features=128, bias=True)\n",
      "    (5): ReLU()\n",
      "    (6): Linear(in_features=128, out_features=10, bias=True)\n",
      "  )\n",
      ")\n",
      "Loss after 06336 examples: 0.719\n",
      "Loss after 12736 examples: 0.567\n",
      "Loss after 19136 examples: 0.745\n",
      "Loss after 25536 examples: 0.493\n",
      "Loss after 31936 examples: 0.396\n",
      "Loss after 38336 examples: 0.393\n",
      "Loss after 44688 examples: 0.482\n",
      "Loss after 51088 examples: 0.393\n",
      "Loss after 57488 examples: 0.543\n",
      "Loss after 63888 examples: 0.457\n",
      "Loss after 70288 examples: 0.577\n",
      "Loss after 76688 examples: 0.346\n",
      "Loss after 83088 examples: 0.398\n",
      "Loss after 89440 examples: 0.520\n",
      "Loss after 95840 examples: 0.373\n",
      "Loss after 102240 examples: 0.388\n",
      "Loss after 108640 examples: 0.472\n",
      "Loss after 115040 examples: 0.324\n",
      "Loss after 121440 examples: 0.286\n",
      "Loss after 127792 examples: 0.261\n",
      "Loss after 134192 examples: 0.283\n",
      "Loss after 140592 examples: 0.203\n",
      "Loss after 146992 examples: 0.254\n",
      "Loss after 153392 examples: 0.460\n",
      "Loss after 159792 examples: 0.456\n",
      "Loss after 166192 examples: 0.455\n",
      "Loss after 172544 examples: 0.248\n",
      "Loss after 178944 examples: 0.316\n",
      "Loss after 185344 examples: 0.393\n",
      "Loss after 191744 examples: 0.317\n",
      "Loss after 198144 examples: 0.553\n",
      "Loss after 204544 examples: 0.386\n",
      "Loss after 210896 examples: 0.270\n",
      "Loss after 217296 examples: 0.212\n",
      "Loss after 223696 examples: 0.283\n",
      "Loss after 230096 examples: 0.387\n",
      "Loss after 236496 examples: 0.174\n",
      "Loss after 242896 examples: 0.201\n",
      "Loss after 249296 examples: 0.238\n",
      "Loss after 255648 examples: 0.286\n",
      "Loss after 262048 examples: 0.203\n",
      "Loss after 268448 examples: 0.255\n",
      "Loss after 274848 examples: 0.191\n",
      "Loss after 281248 examples: 0.196\n",
      "Loss after 287648 examples: 0.260\n",
      "Loss after 294000 examples: 0.276\n",
      "Loss after 300400 examples: 0.191\n",
      "Loss after 306800 examples: 0.293\n",
      "Loss after 313200 examples: 0.225\n",
      "Loss after 319600 examples: 0.347\n",
      "Loss after 326000 examples: 0.140\n",
      "Loss after 332400 examples: 0.201\n",
      "Loss after 338752 examples: 0.169\n",
      "Loss after 345152 examples: 0.227\n",
      "Loss after 351552 examples: 0.237\n",
      "Loss after 357952 examples: 0.151\n",
      "Loss after 364352 examples: 0.242\n",
      "Loss after 370752 examples: 0.174\n",
      "Loss after 377152 examples: 0.108\n",
      "Loss after 383504 examples: 0.312\n",
      "Loss after 389904 examples: 0.377\n",
      "Loss after 396304 examples: 0.328\n",
      "Loss after 402704 examples: 0.152\n",
      "Loss after 409104 examples: 0.128\n",
      "Loss after 415504 examples: 0.184\n",
      "Accuracy of the model on the 42000 train images: 90.71904761904761%\n"
     ]
    },
    {
     "data": {
      "text/html": [
       "<br/>Waiting for W&B process to finish, PID 7426... <strong style=\"color:green\">(success).</strong>"
      ],
      "text/plain": [
       "<IPython.core.display.HTML object>"
      ]
     },
     "metadata": {},
     "output_type": "display_data"
    },
    {
     "data": {
      "application/vnd.jupyter.widget-view+json": {
       "model_id": "",
       "version_major": 2,
       "version_minor": 0
      },
      "text/plain": [
       "VBox(children=(Label(value=' 0.77MB of 0.77MB uploaded (0.00MB deduped)\\r'), FloatProgress(value=1.0, max=1.0)…"
      ]
     },
     "metadata": {},
     "output_type": "display_data"
    },
    {
     "data": {
      "text/html": [
       "<style>\n",
       "    table.wandb td:nth-child(1) { padding: 0 10px; text-align: right }\n",
       "    .wandb-row { display: flex; flex-direction: row; flex-wrap: wrap; width: 100% }\n",
       "    .wandb-col { display: flex; flex-direction: column; flex-basis: 100%; flex: 1; padding: 10px; }\n",
       "    </style>\n",
       "<div class=\"wandb-row\"><div class=\"wandb-col\">\n",
       "<h3>Run history:</h3><br/><table class=\"wandb\"><tr><td>epoch</td><td>▁▁▁▁▂▂▂▂▃▃▃▃▃▃▃▃▄▄▄▄▅▅▅▅▆▆▆▆▆▆▆▆▇▇▇▇████</td></tr><tr><td>loss</td><td>█▆▅▄▅▆▅▃▆▄▅▃▂▂▂▅▂▃▃▄▃▃▁▂▃▂▂▂▃▃▄▁▁▂▁▁▃▄▁▂</td></tr><tr><td>train_accuracy</td><td>▁</td></tr></table><br/></div><div class=\"wandb-col\">\n",
       "<h3>Run summary:</h3><br/><table class=\"wandb\"><tr><td>epoch</td><td>9</td></tr><tr><td>loss</td><td>0.18366</td></tr><tr><td>train_accuracy</td><td>0.90719</td></tr></table>\n",
       "</div></div>\n",
       "Synced 5 W&B file(s), 0 media file(s), 0 artifact file(s) and 1 other file(s)\n",
       "<br/>Synced <strong style=\"color:#cdcd00\">bright-cloud-4</strong>: <a href=\"https://wandb.ai/maoli131/mlp-final/runs/2zqlfwmo\" target=\"_blank\">https://wandb.ai/maoli131/mlp-final/runs/2zqlfwmo</a><br/>\n",
       "Find logs at: <code>./wandb/run-20211209_181810-2zqlfwmo/logs</code><br/>\n"
      ],
      "text/plain": [
       "<IPython.core.display.HTML object>"
      ]
     },
     "metadata": {},
     "output_type": "display_data"
    },
    {
     "data": {
      "text/html": [
       "\n",
       "                    Syncing run <strong><a href=\"https://wandb.ai/maoli131/mlp-final/runs/1m8uskxw\" target=\"_blank\">wandering-grass-5</a></strong> to <a href=\"https://wandb.ai/maoli131/mlp-final\" target=\"_blank\">Weights & Biases</a> (<a href=\"https://docs.wandb.com/integrations/jupyter.html\" target=\"_blank\">docs</a>).<br/>\n",
       "\n",
       "                "
      ],
      "text/plain": [
       "<IPython.core.display.HTML object>"
      ]
     },
     "metadata": {},
     "output_type": "display_data"
    },
    {
     "name": "stdout",
     "output_type": "stream",
     "text": [
      "MLP(\n",
      "  (flatten): Flatten(start_dim=1, end_dim=-1)\n",
      "  (linear_relu_stack): Sequential(\n",
      "    (0): Linear(in_features=784, out_features=200, bias=True)\n",
      "    (1): ReLU()\n",
      "    (2): Linear(in_features=200, out_features=128, bias=True)\n",
      "    (3): ReLU()\n",
      "    (4): Linear(in_features=128, out_features=128, bias=True)\n",
      "    (5): ReLU()\n",
      "    (6): Linear(in_features=128, out_features=10, bias=True)\n",
      "  )\n",
      ")\n",
      "Loss after 06336 examples: 0.692\n",
      "Loss after 12736 examples: 0.550\n",
      "Loss after 19136 examples: 0.731\n",
      "Loss after 25536 examples: 0.512\n",
      "Loss after 31936 examples: 0.408\n",
      "Loss after 38336 examples: 0.380\n",
      "Loss after 44736 examples: 0.302\n",
      "Loss after 51136 examples: 0.392\n",
      "Loss after 57536 examples: 0.388\n",
      "Loss after 63904 examples: 0.621\n",
      "Loss after 70304 examples: 0.414\n",
      "Loss after 76704 examples: 0.334\n",
      "Loss after 83104 examples: 0.403\n",
      "Loss after 89504 examples: 0.544\n",
      "Loss after 95904 examples: 0.286\n",
      "Loss after 102304 examples: 0.424\n",
      "Loss after 108704 examples: 0.420\n",
      "Loss after 115104 examples: 0.214\n",
      "Loss after 121472 examples: 0.278\n",
      "Loss after 127872 examples: 0.211\n",
      "Loss after 134272 examples: 0.305\n",
      "Loss after 140672 examples: 0.325\n",
      "Loss after 147072 examples: 0.222\n",
      "Loss after 153472 examples: 0.610\n",
      "Loss after 159872 examples: 0.235\n",
      "Loss after 166272 examples: 0.314\n",
      "Loss after 172672 examples: 0.363\n",
      "Loss after 179072 examples: 0.225\n",
      "Loss after 185440 examples: 0.467\n",
      "Loss after 191840 examples: 0.354\n",
      "Loss after 198240 examples: 0.376\n",
      "Loss after 204640 examples: 0.409\n",
      "Loss after 211040 examples: 0.393\n",
      "Loss after 217440 examples: 0.216\n",
      "Loss after 223840 examples: 0.463\n",
      "Loss after 230240 examples: 0.340\n",
      "Loss after 236640 examples: 0.380\n",
      "Loss after 243008 examples: 0.403\n",
      "Loss after 249408 examples: 0.331\n",
      "Loss after 255808 examples: 0.243\n",
      "Loss after 262208 examples: 0.411\n",
      "Loss after 268608 examples: 0.205\n",
      "Loss after 275008 examples: 0.288\n",
      "Loss after 281408 examples: 0.314\n",
      "Loss after 287808 examples: 0.232\n",
      "Loss after 294208 examples: 0.332\n",
      "Loss after 300576 examples: 0.296\n",
      "Loss after 306976 examples: 0.290\n",
      "Loss after 313376 examples: 0.341\n",
      "Loss after 319776 examples: 0.134\n",
      "Loss after 326176 examples: 0.208\n",
      "Loss after 332576 examples: 0.152\n",
      "Loss after 338976 examples: 0.169\n",
      "Loss after 345376 examples: 0.259\n",
      "Loss after 351776 examples: 0.386\n",
      "Loss after 358176 examples: 0.228\n",
      "Loss after 364544 examples: 0.217\n",
      "Loss after 370944 examples: 0.322\n",
      "Loss after 377344 examples: 0.315\n",
      "Loss after 383744 examples: 0.255\n",
      "Loss after 390144 examples: 0.382\n",
      "Loss after 396544 examples: 0.295\n",
      "Loss after 402944 examples: 0.284\n",
      "Loss after 409344 examples: 0.292\n",
      "Loss after 415744 examples: 0.390\n",
      "Loss after 422112 examples: 0.256\n",
      "Loss after 428512 examples: 0.121\n",
      "Loss after 434912 examples: 0.215\n",
      "Loss after 441312 examples: 0.293\n",
      "Loss after 447712 examples: 0.308\n",
      "Loss after 454112 examples: 0.343\n",
      "Loss after 460512 examples: 0.203\n",
      "Loss after 466912 examples: 0.286\n",
      "Loss after 473312 examples: 0.352\n",
      "Loss after 479712 examples: 0.408\n",
      "Loss after 486080 examples: 0.203\n",
      "Loss after 492480 examples: 0.330\n",
      "Loss after 498880 examples: 0.272\n",
      "Loss after 505280 examples: 0.159\n",
      "Loss after 511680 examples: 0.297\n",
      "Loss after 518080 examples: 0.205\n",
      "Loss after 524480 examples: 0.153\n",
      "Loss after 530880 examples: 0.299\n",
      "Loss after 537280 examples: 0.108\n",
      "Loss after 543648 examples: 0.294\n",
      "Loss after 550048 examples: 0.177\n",
      "Loss after 556448 examples: 0.222\n",
      "Loss after 562848 examples: 0.103\n",
      "Loss after 569248 examples: 0.123\n",
      "Loss after 575648 examples: 0.165\n",
      "Loss after 582048 examples: 0.517\n",
      "Loss after 588448 examples: 0.103\n",
      "Loss after 594848 examples: 0.237\n",
      "Accuracy of the model on the 60000 train images: 91.18833333333333%\n"
     ]
    },
    {
     "data": {
      "text/html": [
       "<br/>Waiting for W&B process to finish, PID 13397... <strong style=\"color:green\">(success).</strong>"
      ],
      "text/plain": [
       "<IPython.core.display.HTML object>"
      ]
     },
     "metadata": {},
     "output_type": "display_data"
    },
    {
     "data": {
      "application/vnd.jupyter.widget-view+json": {
       "model_id": "",
       "version_major": 2,
       "version_minor": 0
      },
      "text/plain": [
       "VBox(children=(Label(value=' 0.77MB of 0.77MB uploaded (0.00MB deduped)\\r'), FloatProgress(value=1.0, max=1.0)…"
      ]
     },
     "metadata": {},
     "output_type": "display_data"
    },
    {
     "data": {
      "text/html": [
       "<style>\n",
       "    table.wandb td:nth-child(1) { padding: 0 10px; text-align: right }\n",
       "    .wandb-row { display: flex; flex-direction: row; flex-wrap: wrap; width: 100% }\n",
       "    .wandb-col { display: flex; flex-direction: column; flex-basis: 100%; flex: 1; padding: 10px; }\n",
       "    </style>\n",
       "<div class=\"wandb-row\"><div class=\"wandb-col\">\n",
       "<h3>Run history:</h3><br/><table class=\"wandb\"><tr><td>epoch</td><td>▁▁▁▁▂▂▂▂▃▃▃▃▃▃▃▃▄▄▄▄▅▅▅▅▆▆▆▆▆▆▆▆▇▇▇▇████</td></tr><tr><td>loss</td><td>██▄▄▇▄▃▅▃▃▇▃▅▄▂▄▄▄▃▂▃▁▂▄▂▃▃▃▁▃▄▄▂▃▂▃▃▁▂▂</td></tr><tr><td>train_accuracy</td><td>▁</td></tr></table><br/></div><div class=\"wandb-col\">\n",
       "<h3>Run summary:</h3><br/><table class=\"wandb\"><tr><td>epoch</td><td>9</td></tr><tr><td>loss</td><td>0.23662</td></tr><tr><td>train_accuracy</td><td>0.91188</td></tr></table>\n",
       "</div></div>\n",
       "Synced 5 W&B file(s), 0 media file(s), 0 artifact file(s) and 1 other file(s)\n",
       "<br/>Synced <strong style=\"color:#cdcd00\">wandering-grass-5</strong>: <a href=\"https://wandb.ai/maoli131/mlp-final/runs/1m8uskxw\" target=\"_blank\">https://wandb.ai/maoli131/mlp-final/runs/1m8uskxw</a><br/>\n",
       "Find logs at: <code>./wandb/run-20211209_181952-1m8uskxw/logs</code><br/>\n"
      ],
      "text/plain": [
       "<IPython.core.display.HTML object>"
      ]
     },
     "metadata": {},
     "output_type": "display_data"
    }
   ],
   "source": [
    "# configurations\n",
    "config = dict(\n",
    "    epochs=10,\n",
    "    classes=10,\n",
    "    kernels=[200, 128, 128],\n",
    "    batch_size=64,\n",
    "    learning_rate=0.001,\n",
    "    sls = 0.1,\n",
    "    dataset=\"Fashion-MNIST\",\n",
    "    architecture=\"MLP\"\n",
    ")\n",
    "\n",
    "# Build, train and analyze the model with the pipeline\n",
    "portions = [0.1, 0.3, 0.5, 0.7, 1]\n",
    "for sls in portions:\n",
    "    config['sls'] = sls\n",
    "    model = model_pipeline(config)"
   ]
  },
  {
   "cell_type": "code",
   "execution_count": 77,
   "id": "5201670e-8516-4be1-9840-35045dcd90aa",
   "metadata": {},
   "outputs": [
    {
     "data": {
      "image/png": "[encoded data removed]",
      "text/plain": [
       "<Figure size 432x288 with 1 Axes>"
      ]
     },
     "metadata": {
      "needs_background": "light"
     },
     "output_type": "display_data"
    }
   ],
   "source": [
    "import seaborn as sns\n",
    "plt.title(\"Accuracy vs. % Training Data Used\")\n",
    "plt.xlabel(\"% Training Data Used\")\n",
    "plt.ylabel(\"Accuracy\")\n",
    "sns.scatterplot(x=portions, y=train_acc)\n",
    "sns.lineplot(x=portions, y=train_acc);"
   ]
  },
  {
   "cell_type": "code",
   "execution_count": null,
   "id": "b7359178-032d-4e61-9d41-c7d6de03920b",
   "metadata": {},
   "outputs": [],
   "source": []
  }
 ],
 "metadata": {
  "kernelspec": {
   "display_name": "Tutorial",
   "language": "python",
   "name": "tutorial"
  },
  "language_info": {
   "codemirror_mode": {
    "name": "ipython",
    "version": 3
   },
   "file_extension": ".py",
   "mimetype": "text/x-python",
   "name": "python",
   "nbconvert_exporter": "python",
   "pygments_lexer": "ipython3",
   "version": "3.8.12"
  }
 },
 "nbformat": 4,
 "nbformat_minor": 5
}
