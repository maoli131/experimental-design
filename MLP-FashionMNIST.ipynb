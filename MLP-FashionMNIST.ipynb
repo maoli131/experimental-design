{
 "cells": [
  {
   "cell_type": "markdown",
   "id": "370789f1-a728-41c8-982b-efbb0ef3aa91",
   "metadata": {
    "tags": []
   },
   "source": [
    "# Experimental Design on Multilayer Preceptron\n",
    "\n",
    "This notebook performs the analysis and experimental design on the Multilayer Preceptron trained on Fashion-MNIST dataset. Please refer to our writeup for more details.\n",
    "\n",
    "## Introduction\n",
    "\n",
    "- Model: a multilayer preceptron that consists of four linear layer with ReLU activation functions. \n",
    "![MLP](images/MLP.png)\n",
    "- Dataset: Fashion MNIST dataset, with 60,000 training samples and 10,000 testing samples. Each sample is a 28 x 28 grayscale image, that is out of the 10 classes: {\"T-Shirt\", \"Trouser\", \"Pullover\", \"Dress\", \"Coat\", \"Sandal\", \"Shirt\", \"Sneaker\", \"Bag\", \"Ankle Boot\"}\n",
    "\n",
    "\n",
    "**Note**: This notebook uses `wandb` to automatically track the model specification, hyperparameters and performance for every run. Before running this notebook, make sure\n",
    "```\n",
    "pip install wandb\n",
    "```\n",
    "We can then simply edit the `config` dictionary and run the pipeline. All experiments and results will be automatically logged. "
   ]
  },
  {
   "cell_type": "code",
   "execution_count": 1,
   "id": "5410fa56-b306-4f7f-8eeb-9a25eeb98654",
   "metadata": {},
   "outputs": [
    {
     "name": "stdout",
     "output_type": "stream",
     "text": [
      "Using cuda device\n"
     ]
    }
   ],
   "source": [
    "import os\n",
    "import random\n",
    "\n",
    "import numpy as np\n",
    "import matplotlib.pyplot as plt\n",
    "import pandas as pd\n",
    "\n",
    "import torch\n",
    "from torch import nn\n",
    "from torch.utils.data import DataLoader, Subset\n",
    "from torch.utils.data.sampler import SubsetRandomSampler\n",
    "from torchvision import datasets\n",
    "from torchvision.transforms import ToTensor, Lambda, Compose\n",
    "\n",
    "import seaborn as sns\n",
    "import math\n",
    "\n",
    "# from tqdm.notebook import tqdm # progress bar\n",
    "\n",
    "# Ensure deterministic behavior\n",
    "torch.backends.cudnn.deterministic = True\n",
    "random.seed(hash(\"setting random seeds\") % 2**32 - 1)\n",
    "np.random.seed(hash(\"improves reproducibility\") % 2**32 - 1)\n",
    "torch.manual_seed(hash(\"by removing stochasticity\") % 2**32 - 1)\n",
    "torch.cuda.manual_seed_all(hash(\"so runs are repeatable\") % 2**32 - 1)\n",
    "\n",
    "# Device Configuration\n",
    "device = \"cuda\" if torch.cuda.is_available() else \"cpu\"\n",
    "print(f\"Using {device} device\")"
   ]
  },
  {
   "cell_type": "markdown",
   "id": "75fcfe39-130a-400e-984d-14d8f86864eb",
   "metadata": {},
   "source": [
    "## Preliminaries\n",
    "We must login to wandb account, in order to record our training on the platform's dashborad. Make sure to install wandb library in our virtual conda environment. "
   ]
  },
  {
   "cell_type": "code",
   "execution_count": 2,
   "id": "b16c1cb6-7c0e-4d3f-98c3-7774894a5684",
   "metadata": {},
   "outputs": [
    {
     "name": "stderr",
     "output_type": "stream",
     "text": [
      "Failed to detect the name of this notebook, you can set it manually with the WANDB_NOTEBOOK_NAME environment variable to enable code saving.\n",
      "\u001b[34m\u001b[1mwandb\u001b[0m: Currently logged in as: \u001b[33mmaoli131\u001b[0m (use `wandb login --relogin` to force relogin)\n"
     ]
    },
    {
     "data": {
      "text/plain": [
       "True"
      ]
     },
     "execution_count": 2,
     "metadata": {},
     "output_type": "execute_result"
    }
   ],
   "source": [
    "import wandb\n",
    "wandb.login()"
   ]
  },
  {
   "cell_type": "markdown",
   "id": "7f5dfd76-8c30-41d9-a1f3-1cb7a3611434",
   "metadata": {
    "tags": []
   },
   "source": [
    "## Define Data Loading and Model"
   ]
  },
  {
   "cell_type": "code",
   "execution_count": 3,
   "id": "cf031035-ef1f-4b1a-951b-ffa71fbb7f96",
   "metadata": {},
   "outputs": [],
   "source": [
    "# Get training and testing data with config (slice)\n",
    "def get_data(sls=5, train=True):\n",
    "    \n",
    "    full_dataset = datasets.FashionMNIST(\n",
    "        root=\"data\",\n",
    "        train=train,\n",
    "        download=True,\n",
    "        transform=ToTensor(),\n",
    "    )\n",
    "    \n",
    "    # sls specify the portion of data to use\n",
    "    sub_dataset = Subset(full_dataset, indices=range(0, int(sls * len(full_dataset)), 1))\n",
    "    \n",
    "    return sub_dataset\n",
    "\n",
    "# Make the dataloader with config (dataset, batch_size\n",
    "def make_loader(dataset, batch_size, sampler=None):\n",
    "    if sampler is not None: \n",
    "        loader = DataLoader(dataset=dataset, sampler=sampler, batch_size=batch_size)\n",
    "    else:\n",
    "        loader = DataLoader(dataset=dataset, batch_size=batch_size)\n",
    "    return loader"
   ]
  },
  {
   "cell_type": "code",
   "execution_count": 4,
   "id": "ea3c73e9-98b7-4148-89cb-ab234868e5ee",
   "metadata": {},
   "outputs": [],
   "source": [
    "# Define model: a simple multilayer preceptron\n",
    "class MLP(nn.Module):\n",
    "    def __init__(self, kernels, classes=10):\n",
    "        super(MLP, self).__init__()\n",
    "        self.flatten = nn.Flatten()\n",
    "        self.linear_relu_stack = nn.Sequential(\n",
    "            nn.Linear(28*28, kernels[0]),\n",
    "            nn.ReLU(),\n",
    "            nn.Linear(kernels[0], kernels[1]),\n",
    "            nn.ReLU(),\n",
    "            nn.Linear(kernels[1], kernels[2]),\n",
    "            nn.ReLU(),\n",
    "            nn.Linear(kernels[2], classes)\n",
    "        )\n",
    "\n",
    "    def forward(self, x):\n",
    "        x = self.flatten(x)\n",
    "        logits = self.linear_relu_stack(x)\n",
    "        return logits"
   ]
  },
  {
   "cell_type": "markdown",
   "id": "2ef19a84-30ca-4a33-8471-df001c214058",
   "metadata": {
    "tags": []
   },
   "source": [
    "## Define Training Logic\n",
    "\n",
    "`wandb.watch` will log the gradients and the parameters of your model, every `log_freq` steps of training."
   ]
  },
  {
   "cell_type": "code",
   "execution_count": 5,
   "id": "250de5a2-92f2-45c1-867c-73cda9d88aa1",
   "metadata": {},
   "outputs": [],
   "source": [
    "def train(model, loader, criterion, optimizer, config):\n",
    "    \n",
    "    # Tell wandb to watch what the model gets up to: gradients, weights, and more!\n",
    "    wandb.watch(model, criterion, log=\"all\", log_freq=10)\n",
    "    \n",
    "    # Run training and track with wandb\n",
    "    total_batches = len(loader) * config.epochs\n",
    "    example_ct = 0  # number of examples seen\n",
    "    batch_ct = 0\n",
    "    for epoch in range(config.epochs):\n",
    "        for _, (images, labels) in enumerate(loader):\n",
    "\n",
    "            loss = train_batch(images, labels, model, optimizer, criterion)\n",
    "            example_ct +=  len(images)\n",
    "            batch_ct += 1\n",
    "\n",
    "            # Report metrics every 25th batch\n",
    "            if ((batch_ct + 1) % 100) == 0:\n",
    "                train_log(loss, example_ct, epoch)\n",
    "\n",
    "def train_batch(images, labels, model, optimizer, criterion):\n",
    "    images, labels = images.to(device), labels.to(device)\n",
    "    \n",
    "    # Forward pass \n",
    "    outputs = model(images)\n",
    "    loss = criterion(outputs, labels)\n",
    "    \n",
    "    # Backward pass \n",
    "    optimizer.zero_grad()\n",
    "    loss.backward()\n",
    "\n",
    "    # Step with optimizer\n",
    "    optimizer.step()\n",
    "\n",
    "    return loss"
   ]
  },
  {
   "cell_type": "markdown",
   "id": "e830e783-cf52-460a-a79d-c397c5dfd495",
   "metadata": {},
   "source": [
    "`wandb.log` records the reported metrics to their server. "
   ]
  },
  {
   "cell_type": "code",
   "execution_count": 6,
   "id": "c5b3fcf0-aa02-42d9-b89c-b2df66930304",
   "metadata": {},
   "outputs": [],
   "source": [
    "def train_log(loss, example_ct, epoch):\n",
    "    # Where the magic happens\n",
    "    wandb.log({\"epoch\": epoch, \"loss\": loss}, step=example_ct)\n",
    "    #print(f\"Loss after \" + str(example_ct).zfill(5) + f\" examples: {loss:.3f}\")"
   ]
  },
  {
   "cell_type": "markdown",
   "id": "ee64fd46-8b17-40ae-936b-aa54269518b7",
   "metadata": {},
   "source": [
    "## Define Testing Logic\n",
    "\n",
    "Once the model is done training, we want to test it: run it against some fresh data from production.\n",
    "\n",
    "We can save the model's architecture and final parameters to disk. We'll `export` our model in the\n",
    "[Open Neural Network eXchange (ONNX) format](https://onnx.ai/).\n",
    "\n",
    "Passing that filename to `wandb.save` ensures that the model parameters are saved to W&B's servers: no more losing track of which `.h5` or `.pb` corresponds to which training runs!"
   ]
  },
  {
   "cell_type": "code",
   "execution_count": 7,
   "id": "1689ebf9-54fd-47ff-8deb-2382d27248ca",
   "metadata": {},
   "outputs": [],
   "source": [
    "def test(model, test_loader):\n",
    "    \n",
    "    model.eval()\n",
    "\n",
    "    # Run the model on some test examples\n",
    "    with torch.no_grad():\n",
    "        correct, total = 0, 0\n",
    "        for images, labels in test_loader: #TODO\n",
    "            images, labels = images.to(device), labels.to(device)\n",
    "            outputs = model(images)\n",
    "            _, predicted = torch.max(outputs.data, 1)\n",
    "            total += labels.size(0)\n",
    "            correct += (predicted == labels).sum().item()\n",
    "\n",
    "        print(f\"Accuracy of the model on the {total} \" +\n",
    "              f\"images: {100 * correct / total}%\")\n",
    "        \n",
    "    # Save the model in the exchangeable ONNX format\n",
    "    torch.onnx.export(model, images, \"model.onnx\")\n",
    "    wandb.save(\"model.onnx\")\n",
    "    \n",
    "    return correct / total"
   ]
  },
  {
   "cell_type": "markdown",
   "id": "fcd5b072-4ee7-4f3d-bfa4-b536b06f950d",
   "metadata": {
    "tags": []
   },
   "source": [
    "## Define the experiment and pipeline"
   ]
  },
  {
   "cell_type": "markdown",
   "id": "94a7683e-17cc-4496-b719-706c85f913b2",
   "metadata": {
    "tags": []
   },
   "source": [
    "### Make\n",
    "\n",
    "To ensure the values we chose and logged are always the ones that get used\n",
    "in our model, we use the `wandb.config` copy of your object."
   ]
  },
  {
   "cell_type": "code",
   "execution_count": 8,
   "id": "24e6405e-cc87-4b22-b8e5-30c764db93f3",
   "metadata": {},
   "outputs": [],
   "source": [
    "def make(config):\n",
    "    # Make the data\n",
    "    train, test = get_data(train=True, sls=config.sls), get_data(train=False, sls=1)\n",
    "    \n",
    "    # Divide train set into train and validation\n",
    "    indices = list(range(len(train)))\n",
    "    np.random.shuffle(indices)\n",
    "    split = int(np.floor(0.2 * len(train))) # 20% training is validation\n",
    "    train_sampler = SubsetRandomSampler(indices[split:])\n",
    "    valid_sampler = SubsetRandomSampler(indices[:split])\n",
    "    \n",
    "    # Create data loader\n",
    "    train_loader = make_loader(train, sampler=train_sampler, batch_size=config.batch_size)\n",
    "    valid_loader = make_loader(train, sampler=valid_sampler, batch_size=config.batch_size)\n",
    "    test_loader = make_loader(test, batch_size=config.batch_size)\n",
    "\n",
    "    # Make the model\n",
    "    model = MLP(config.kernels, config.classes).to(device)\n",
    "\n",
    "    # Make the loss and optimizer\n",
    "    criterion = nn.CrossEntropyLoss()\n",
    "    optimizer = torch.optim.Adam(\n",
    "        model.parameters(), lr=config.learning_rate)\n",
    "    \n",
    "    return model, train_loader, valid_loader, test_loader, criterion, optimizer"
   ]
  },
  {
   "cell_type": "markdown",
   "id": "dbc2c5c1-3a59-4153-b6ac-ee9a6a18c59c",
   "metadata": {},
   "source": [
    "### Pipeline\n",
    "\n",
    "The overall pipeline is structured as the following:\n",
    "1. we first `make` a model, plus associated data and optimizer, then\n",
    "2. we `train` the model accordingly and finally\n",
    "3. `test` it to see how training went."
   ]
  },
  {
   "cell_type": "code",
   "execution_count": 9,
   "id": "e77c575b-60ec-40f5-ab8b-fceaa2912636",
   "metadata": {},
   "outputs": [],
   "source": [
    "def model_pipeline(hyperparameters):\n",
    "\n",
    "    # tell wandb to get started\n",
    "    with wandb.init(project=\"cs294-082-final\", config=hyperparameters):\n",
    "      \n",
    "        # access all HPs through wandb.config, so logging matches execution!\n",
    "        config = wandb.config\n",
    "\n",
    "        # make the model, data, and optimization problem\n",
    "        model, train_loader, valid_loader, test_loader, criterion, optimizer = make(config)\n",
    "        #print(model)\n",
    "\n",
    "        # and use them to train the model\n",
    "        train(model, train_loader, criterion, optimizer, config)\n",
    "\n",
    "        # and test its final performance on train/validation/test data\n",
    "        tr_acc = test(model, train_loader)\n",
    "        va_acc = test(model, valid_loader)\n",
    "        te_acc = test(model, test_loader)\n",
    "        \n",
    "        acc = {\n",
    "            \"train\": tr_acc,\n",
    "            \"valid\": va_acc,\n",
    "            \"test\": te_acc\n",
    "        }\n",
    "        \n",
    "        wandb.log(acc)\n",
    "\n",
    "    return model, acc"
   ]
  },
  {
   "cell_type": "markdown",
   "id": "8f7cb1b2-48b0-45f0-a0f4-e4f2684fe270",
   "metadata": {
    "tags": []
   },
   "source": [
    "### Run the Model \n",
    "\n",
    "- Config: Hyperparameters and metadata for our model is stored in a dictionary `config`.\n",
    "- Pipeline: build, train and analyze the model with pipline"
   ]
  },
  {
   "cell_type": "markdown",
   "id": "f3e8aa5d-8e9e-4122-acf6-f238c3b0dbf1",
   "metadata": {},
   "source": [
    "### Model Accuracy vs. Percentage of Training Data Used\n",
    "\n",
    "We vary the `sls` in `config` to train the model with 10%, 30%, 50%, 70% and 100% of our data. We run training for 80 epochs. "
   ]
  },
  {
   "cell_type": "code",
   "execution_count": 10,
   "id": "3a5f400d-ae44-413f-8cdd-f3181a6f43da",
   "metadata": {},
   "outputs": [
    {
     "data": {
      "text/html": [
       "\n",
       "                    Syncing run <strong><a href=\"https://wandb.ai/maoli131/cs294-082-final/runs/m9vgzvs5\" target=\"_blank\">jolly-valley-43</a></strong> to <a href=\"https://wandb.ai/maoli131/cs294-082-final\" target=\"_blank\">Weights & Biases</a> (<a href=\"https://docs.wandb.com/integrations/jupyter.html\" target=\"_blank\">docs</a>).<br/>\n",
       "\n",
       "                "
      ],
      "text/plain": [
       "<IPython.core.display.HTML object>"
      ]
     },
     "metadata": {},
     "output_type": "display_data"
    },
    {
     "name": "stdout",
     "output_type": "stream",
     "text": [
      "Accuracy of the model on the 4800 images: 99.79166666666667%\n",
      "Accuracy of the model on the 1200 images: 84.66666666666667%\n",
      "Accuracy of the model on the 10000 images: 83.74%\n"
     ]
    },
    {
     "data": {
      "text/html": [
       "<br/>Waiting for W&B process to finish, PID 69012... <strong style=\"color:green\">(success).</strong>"
      ],
      "text/plain": [
       "<IPython.core.display.HTML object>"
      ]
     },
     "metadata": {},
     "output_type": "display_data"
    },
    {
     "data": {
      "application/vnd.jupyter.widget-view+json": {
       "model_id": "",
       "version_major": 2,
       "version_minor": 0
      },
      "text/plain": [
       "VBox(children=(Label(value=' 0.96MB of 0.96MB uploaded (0.00MB deduped)\\r'), FloatProgress(value=1.0, max=1.0)…"
      ]
     },
     "metadata": {},
     "output_type": "display_data"
    },
    {
     "data": {
      "text/html": [
       "<style>\n",
       "    table.wandb td:nth-child(1) { padding: 0 10px; text-align: right }\n",
       "    .wandb-row { display: flex; flex-direction: row; flex-wrap: wrap; width: 100% }\n",
       "    .wandb-col { display: flex; flex-direction: column; flex-basis: 100%; flex: 1; padding: 10px; }\n",
       "    </style>\n",
       "<div class=\"wandb-row\"><div class=\"wandb-col\">\n",
       "<h3>Run history:</h3><br/><table class=\"wandb\"><tr><td>epoch</td><td>▁▁▁▁▂▂▂▂▂▃▃▃▃▃▄▄▄▄▄▄▅▅▅▅▅▅▆▆▆▆▆▆▇▇▇▇▇███</td></tr><tr><td>loss</td><td>█▅▅▆▆▃▄▃▃▅▂▃▂▂▂▃▃▂▁▁▁▄▂▂▁▁▁▂▁▁▂▁▁▁▁▁▁▂▁▁</td></tr><tr><td>test</td><td>▁</td></tr><tr><td>train</td><td>▁</td></tr><tr><td>valid</td><td>▁</td></tr></table><br/></div><div class=\"wandb-col\">\n",
       "<h3>Run summary:</h3><br/><table class=\"wandb\"><tr><td>epoch</td><td>79</td></tr><tr><td>loss</td><td>0.02456</td></tr><tr><td>test</td><td>0.8374</td></tr><tr><td>train</td><td>0.99792</td></tr><tr><td>valid</td><td>0.84667</td></tr></table>\n",
       "</div></div>\n",
       "Synced 5 W&B file(s), 0 media file(s), 0 artifact file(s) and 1 other file(s)\n",
       "<br/>Synced <strong style=\"color:#cdcd00\">jolly-valley-43</strong>: <a href=\"https://wandb.ai/maoli131/cs294-082-final/runs/m9vgzvs5\" target=\"_blank\">https://wandb.ai/maoli131/cs294-082-final/runs/m9vgzvs5</a><br/>\n",
       "Find logs at: <code>./wandb/run-20211216_145032-m9vgzvs5/logs</code><br/>\n"
      ],
      "text/plain": [
       "<IPython.core.display.HTML object>"
      ]
     },
     "metadata": {},
     "output_type": "display_data"
    },
    {
     "data": {
      "text/html": [
       "\n",
       "                    Syncing run <strong><a href=\"https://wandb.ai/maoli131/cs294-082-final/runs/sp8i79k8\" target=\"_blank\">lively-bird-44</a></strong> to <a href=\"https://wandb.ai/maoli131/cs294-082-final\" target=\"_blank\">Weights & Biases</a> (<a href=\"https://docs.wandb.com/integrations/jupyter.html\" target=\"_blank\">docs</a>).<br/>\n",
       "\n",
       "                "
      ],
      "text/plain": [
       "<IPython.core.display.HTML object>"
      ]
     },
     "metadata": {},
     "output_type": "display_data"
    },
    {
     "name": "stdout",
     "output_type": "stream",
     "text": [
      "Accuracy of the model on the 14400 images: 98.19444444444444%\n",
      "Accuracy of the model on the 3600 images: 87.02777777777777%\n",
      "Accuracy of the model on the 10000 images: 85.78%\n"
     ]
    },
    {
     "data": {
      "text/html": [
       "<br/>Waiting for W&B process to finish, PID 69389... <strong style=\"color:green\">(success).</strong>"
      ],
      "text/plain": [
       "<IPython.core.display.HTML object>"
      ]
     },
     "metadata": {},
     "output_type": "display_data"
    },
    {
     "data": {
      "application/vnd.jupyter.widget-view+json": {
       "model_id": "",
       "version_major": 2,
       "version_minor": 0
      },
      "text/plain": [
       "VBox(children=(Label(value=' 0.96MB of 0.96MB uploaded (0.00MB deduped)\\r'), FloatProgress(value=1.0, max=1.0)…"
      ]
     },
     "metadata": {},
     "output_type": "display_data"
    },
    {
     "data": {
      "text/html": [
       "<style>\n",
       "    table.wandb td:nth-child(1) { padding: 0 10px; text-align: right }\n",
       "    .wandb-row { display: flex; flex-direction: row; flex-wrap: wrap; width: 100% }\n",
       "    .wandb-col { display: flex; flex-direction: column; flex-basis: 100%; flex: 1; padding: 10px; }\n",
       "    </style>\n",
       "<div class=\"wandb-row\"><div class=\"wandb-col\">\n",
       "<h3>Run history:</h3><br/><table class=\"wandb\"><tr><td>epoch</td><td>▁▁▁▂▂▂▂▂▂▃▃▃▃▃▃▄▄▄▄▄▅▅▅▅▅▆▆▆▆▆▆▇▇▇▇▇▇███</td></tr><tr><td>loss</td><td>█▇▄▅▃▄▃▃▅▃▂▂▄▃▂▂▂▃▂▂▂▃▁▂▂▂▁▃▁▁▂▁▁▃▁▁▁▁▂▁</td></tr><tr><td>test</td><td>▁</td></tr><tr><td>train</td><td>▁</td></tr><tr><td>valid</td><td>▁</td></tr></table><br/></div><div class=\"wandb-col\">\n",
       "<h3>Run summary:</h3><br/><table class=\"wandb\"><tr><td>epoch</td><td>79</td></tr><tr><td>loss</td><td>0.00744</td></tr><tr><td>test</td><td>0.8578</td></tr><tr><td>train</td><td>0.98194</td></tr><tr><td>valid</td><td>0.87028</td></tr></table>\n",
       "</div></div>\n",
       "Synced 5 W&B file(s), 0 media file(s), 0 artifact file(s) and 1 other file(s)\n",
       "<br/>Synced <strong style=\"color:#cdcd00\">lively-bird-44</strong>: <a href=\"https://wandb.ai/maoli131/cs294-082-final/runs/sp8i79k8\" target=\"_blank\">https://wandb.ai/maoli131/cs294-082-final/runs/sp8i79k8</a><br/>\n",
       "Find logs at: <code>./wandb/run-20211216_145201-sp8i79k8/logs</code><br/>\n"
      ],
      "text/plain": [
       "<IPython.core.display.HTML object>"
      ]
     },
     "metadata": {},
     "output_type": "display_data"
    },
    {
     "data": {
      "text/html": [
       "\n",
       "                    Syncing run <strong><a href=\"https://wandb.ai/maoli131/cs294-082-final/runs/2bp0n9fd\" target=\"_blank\">wandering-pine-45</a></strong> to <a href=\"https://wandb.ai/maoli131/cs294-082-final\" target=\"_blank\">Weights & Biases</a> (<a href=\"https://docs.wandb.com/integrations/jupyter.html\" target=\"_blank\">docs</a>).<br/>\n",
       "\n",
       "                "
      ],
      "text/plain": [
       "<IPython.core.display.HTML object>"
      ]
     },
     "metadata": {},
     "output_type": "display_data"
    },
    {
     "name": "stdout",
     "output_type": "stream",
     "text": [
      "Accuracy of the model on the 24000 images: 98.38333333333334%\n",
      "Accuracy of the model on the 6000 images: 88.01666666666667%\n",
      "Accuracy of the model on the 10000 images: 86.79%\n"
     ]
    },
    {
     "data": {
      "text/html": [
       "<br/>Waiting for W&B process to finish, PID 71235... <strong style=\"color:green\">(success).</strong>"
      ],
      "text/plain": [
       "<IPython.core.display.HTML object>"
      ]
     },
     "metadata": {},
     "output_type": "display_data"
    },
    {
     "data": {
      "application/vnd.jupyter.widget-view+json": {
       "model_id": "",
       "version_major": 2,
       "version_minor": 0
      },
      "text/plain": [
       "VBox(children=(Label(value=' 0.96MB of 0.96MB uploaded (0.00MB deduped)\\r'), FloatProgress(value=1.0, max=1.0)…"
      ]
     },
     "metadata": {},
     "output_type": "display_data"
    },
    {
     "data": {
      "text/html": [
       "<style>\n",
       "    table.wandb td:nth-child(1) { padding: 0 10px; text-align: right }\n",
       "    .wandb-row { display: flex; flex-direction: row; flex-wrap: wrap; width: 100% }\n",
       "    .wandb-col { display: flex; flex-direction: column; flex-basis: 100%; flex: 1; padding: 10px; }\n",
       "    </style>\n",
       "<div class=\"wandb-row\"><div class=\"wandb-col\">\n",
       "<h3>Run history:</h3><br/><table class=\"wandb\"><tr><td>epoch</td><td>▁▁▁▁▂▂▂▂▂▃▃▃▃▃▃▄▄▄▄▄▅▅▅▅▅▅▆▆▆▆▆▆▇▇▇▇▇███</td></tr><tr><td>loss</td><td>█▅▆▅▄▅▃▃▃▃▄▂▃▃▃▃▃▃▄▁▃▁▁▂▂▃▁▁▂▁▂▂▂▂▁▁▁▃▁▁</td></tr><tr><td>test</td><td>▁</td></tr><tr><td>train</td><td>▁</td></tr><tr><td>valid</td><td>▁</td></tr></table><br/></div><div class=\"wandb-col\">\n",
       "<h3>Run summary:</h3><br/><table class=\"wandb\"><tr><td>epoch</td><td>79</td></tr><tr><td>loss</td><td>0.00871</td></tr><tr><td>test</td><td>0.8679</td></tr><tr><td>train</td><td>0.98383</td></tr><tr><td>valid</td><td>0.88017</td></tr></table>\n",
       "</div></div>\n",
       "Synced 5 W&B file(s), 0 media file(s), 0 artifact file(s) and 1 other file(s)\n",
       "<br/>Synced <strong style=\"color:#cdcd00\">wandering-pine-45</strong>: <a href=\"https://wandb.ai/maoli131/cs294-082-final/runs/2bp0n9fd\" target=\"_blank\">https://wandb.ai/maoli131/cs294-082-final/runs/2bp0n9fd</a><br/>\n",
       "Find logs at: <code>./wandb/run-20211216_145559-2bp0n9fd/logs</code><br/>\n"
      ],
      "text/plain": [
       "<IPython.core.display.HTML object>"
      ]
     },
     "metadata": {},
     "output_type": "display_data"
    },
    {
     "data": {
      "text/html": [
       "\n",
       "                    Syncing run <strong><a href=\"https://wandb.ai/maoli131/cs294-082-final/runs/2vvzc63m\" target=\"_blank\">gentle-yogurt-46</a></strong> to <a href=\"https://wandb.ai/maoli131/cs294-082-final\" target=\"_blank\">Weights & Biases</a> (<a href=\"https://docs.wandb.com/integrations/jupyter.html\" target=\"_blank\">docs</a>).<br/>\n",
       "\n",
       "                "
      ],
      "text/plain": [
       "<IPython.core.display.HTML object>"
      ]
     },
     "metadata": {},
     "output_type": "display_data"
    },
    {
     "name": "stdout",
     "output_type": "stream",
     "text": [
      "Accuracy of the model on the 33600 images: 99.15178571428571%\n",
      "Accuracy of the model on the 8400 images: 88.57142857142857%\n",
      "Accuracy of the model on the 10000 images: 87.75%\n"
     ]
    },
    {
     "data": {
      "text/html": [
       "<br/>Waiting for W&B process to finish, PID 29550... <strong style=\"color:green\">(success).</strong>"
      ],
      "text/plain": [
       "<IPython.core.display.HTML object>"
      ]
     },
     "metadata": {},
     "output_type": "display_data"
    },
    {
     "data": {
      "application/vnd.jupyter.widget-view+json": {
       "model_id": "",
       "version_major": 2,
       "version_minor": 0
      },
      "text/plain": [
       "VBox(children=(Label(value=' 0.96MB of 0.96MB uploaded (0.00MB deduped)\\r'), FloatProgress(value=1.0, max=1.0)…"
      ]
     },
     "metadata": {},
     "output_type": "display_data"
    },
    {
     "data": {
      "text/html": [
       "<style>\n",
       "    table.wandb td:nth-child(1) { padding: 0 10px; text-align: right }\n",
       "    .wandb-row { display: flex; flex-direction: row; flex-wrap: wrap; width: 100% }\n",
       "    .wandb-col { display: flex; flex-direction: column; flex-basis: 100%; flex: 1; padding: 10px; }\n",
       "    </style>\n",
       "<div class=\"wandb-row\"><div class=\"wandb-col\">\n",
       "<h3>Run history:</h3><br/><table class=\"wandb\"><tr><td>epoch</td><td>▁▁▁▂▂▂▂▂▂▃▃▃▃▃▃▄▄▄▄▄▅▅▅▅▅▆▆▆▆▆▆▇▇▇▇▇▇███</td></tr><tr><td>loss</td><td>█▆▅▃▄▅▃▄▃▂▂▄▂▂▂▅▂▂▃▁▂▂▂▂▂▂▂▁▂▃▂▁▂▂▁▁▂▁▁▁</td></tr><tr><td>test</td><td>▁</td></tr><tr><td>train</td><td>▁</td></tr><tr><td>valid</td><td>▁</td></tr></table><br/></div><div class=\"wandb-col\">\n",
       "<h3>Run summary:</h3><br/><table class=\"wandb\"><tr><td>epoch</td><td>79</td></tr><tr><td>loss</td><td>0.00683</td></tr><tr><td>test</td><td>0.8775</td></tr><tr><td>train</td><td>0.99152</td></tr><tr><td>valid</td><td>0.88571</td></tr></table>\n",
       "</div></div>\n",
       "Synced 5 W&B file(s), 0 media file(s), 0 artifact file(s) and 1 other file(s)\n",
       "<br/>Synced <strong style=\"color:#cdcd00\">gentle-yogurt-46</strong>: <a href=\"https://wandb.ai/maoli131/cs294-082-final/runs/2vvzc63m\" target=\"_blank\">https://wandb.ai/maoli131/cs294-082-final/runs/2vvzc63m</a><br/>\n",
       "Find logs at: <code>./wandb/run-20211216_150243-2vvzc63m/logs</code><br/>\n"
      ],
      "text/plain": [
       "<IPython.core.display.HTML object>"
      ]
     },
     "metadata": {},
     "output_type": "display_data"
    },
    {
     "data": {
      "text/html": [
       "\n",
       "                    Syncing run <strong><a href=\"https://wandb.ai/maoli131/cs294-082-final/runs/16gvmenh\" target=\"_blank\">likely-deluge-47</a></strong> to <a href=\"https://wandb.ai/maoli131/cs294-082-final\" target=\"_blank\">Weights & Biases</a> (<a href=\"https://docs.wandb.com/integrations/jupyter.html\" target=\"_blank\">docs</a>).<br/>\n",
       "\n",
       "                "
      ],
      "text/plain": [
       "<IPython.core.display.HTML object>"
      ]
     },
     "metadata": {},
     "output_type": "display_data"
    },
    {
     "name": "stdout",
     "output_type": "stream",
     "text": [
      "Accuracy of the model on the 48000 images: 98.82083333333334%\n",
      "Accuracy of the model on the 12000 images: 89.85%\n",
      "Accuracy of the model on the 10000 images: 89.07%\n"
     ]
    },
    {
     "data": {
      "text/html": [
       "<br/>Waiting for W&B process to finish, PID 32873... <strong style=\"color:green\">(success).</strong>"
      ],
      "text/plain": [
       "<IPython.core.display.HTML object>"
      ]
     },
     "metadata": {},
     "output_type": "display_data"
    },
    {
     "data": {
      "application/vnd.jupyter.widget-view+json": {
       "model_id": "",
       "version_major": 2,
       "version_minor": 0
      },
      "text/plain": [
       "VBox(children=(Label(value=' 0.96MB of 0.96MB uploaded (0.00MB deduped)\\r'), FloatProgress(value=1.0, max=1.0)…"
      ]
     },
     "metadata": {},
     "output_type": "display_data"
    },
    {
     "data": {
      "text/html": [
       "<style>\n",
       "    table.wandb td:nth-child(1) { padding: 0 10px; text-align: right }\n",
       "    .wandb-row { display: flex; flex-direction: row; flex-wrap: wrap; width: 100% }\n",
       "    .wandb-col { display: flex; flex-direction: column; flex-basis: 100%; flex: 1; padding: 10px; }\n",
       "    </style>\n",
       "<div class=\"wandb-row\"><div class=\"wandb-col\">\n",
       "<h3>Run history:</h3><br/><table class=\"wandb\"><tr><td>epoch</td><td>▁▁▁▁▂▂▂▂▂▃▃▃▃▃▃▄▄▄▄▄▅▅▅▅▅▅▆▆▆▆▆▆▇▇▇▇▇███</td></tr><tr><td>loss</td><td>█▅▃▇▄▃▅▄▃▃▂▃▃▂▃▃▂▂▃▂▃▂▂▂▂▁▂▁▂▁▂▂▂▁▁▂▁▂▂▁</td></tr><tr><td>test</td><td>▁</td></tr><tr><td>train</td><td>▁</td></tr><tr><td>valid</td><td>▁</td></tr></table><br/></div><div class=\"wandb-col\">\n",
       "<h3>Run summary:</h3><br/><table class=\"wandb\"><tr><td>epoch</td><td>79</td></tr><tr><td>loss</td><td>0.01836</td></tr><tr><td>test</td><td>0.8907</td></tr><tr><td>train</td><td>0.98821</td></tr><tr><td>valid</td><td>0.8985</td></tr></table>\n",
       "</div></div>\n",
       "Synced 5 W&B file(s), 0 media file(s), 0 artifact file(s) and 1 other file(s)\n",
       "<br/>Synced <strong style=\"color:#cdcd00\">likely-deluge-47</strong>: <a href=\"https://wandb.ai/maoli131/cs294-082-final/runs/16gvmenh\" target=\"_blank\">https://wandb.ai/maoli131/cs294-082-final/runs/16gvmenh</a><br/>\n",
       "Find logs at: <code>./wandb/run-20211216_151202-16gvmenh/logs</code><br/>\n"
      ],
      "text/plain": [
       "<IPython.core.display.HTML object>"
      ]
     },
     "metadata": {},
     "output_type": "display_data"
    },
    {
     "data": {
      "image/png": "[encoded data removed]",
      "text/plain": [
       "<Figure size 432x288 with 1 Axes>"
      ]
     },
     "metadata": {
      "needs_background": "light"
     },
     "output_type": "display_data"
    }
   ],
   "source": [
    "# configurations\n",
    "config = dict(\n",
    "    epochs=80,\n",
    "    classes=10,\n",
    "    kernels=[256, 128, 128],\n",
    "    batch_size=64,\n",
    "    learning_rate=0.001,\n",
    "    sls = 1,\n",
    "    dataset=\"Fashion-MNIST\",\n",
    "    architecture=\"MLP\"\n",
    ")\n",
    "\n",
    "# Build, train and analyze the model with the pipeline\n",
    "portions = [0.1, 0.3, 0.5, 0.7, 1]\n",
    "train_acc_list = []\n",
    "valid_acc_list = []\n",
    "test_acc_list = []\n",
    "for sls in portions:\n",
    "    config['sls'] = sls\n",
    "    model, acc = model_pipeline(config)\n",
    "    train_acc_list.append(acc['train'])\n",
    "    valid_acc_list.append(acc['valid'])\n",
    "    test_acc_list.append(acc['test'])\n",
    "\n",
    "# Visualize the results\n",
    "plt.title(\"Accuracy vs. % Training Data Used\")\n",
    "plt.xlabel(\"% Training Data Used\")\n",
    "plt.ylabel(\"Accuracy\")\n",
    "sns.scatterplot(x=portions, y=train_acc_list)\n",
    "sns.lineplot(x=portions, y=train_acc_list, label=\"train accuracy\")\n",
    "sns.scatterplot(x=portions, y=valid_acc_list)\n",
    "sns.lineplot(x=portions, y=valid_acc_list, label=\"valid accuracy\")\n",
    "sns.scatterplot(x=portions, y=test_acc_list)\n",
    "sns.lineplot(x=portions, y=test_acc_list, label=\"test accuracy\");"
   ]
  },
  {
   "cell_type": "markdown",
   "id": "7df00a4e-fbc4-42e4-9503-3733bb887bc6",
   "metadata": {},
   "source": [
    "### Model Accuracy vs. Epoches\n",
    "\n",
    "Train our model at Memory Equivalent Capacity for epoches 1, 10, 20, 30, 50, 80. Can we reach near 100% memorization?"
   ]
  },
  {
   "cell_type": "code",
   "execution_count": 22,
   "id": "9e6b20d8-cd10-4489-b1c8-9687bfc3c242",
   "metadata": {},
   "outputs": [],
   "source": [
    "# Assume kernel includes the number of nodes for four layers. \n",
    "def compute_mec(kernel, in_features=784):\n",
    "    layer1 = (in_features + 1) * kernel[0] \n",
    "    layer2 = min(kernel[0], (kernel[0] + 1) * kernel[1])\n",
    "    layer3 = min(kernel[1], (kernel[1] + 1) * kernel[2])\n",
    "    layer4 = min(kernel[2], (kernel[2] * 1) * 10)\n",
    "    output = 10 # output layer has 10 bits for 10 nodes \n",
    "    return layer1 + layer2 + layer3 + layer4 + output"
   ]
  },
  {
   "cell_type": "code",
   "execution_count": 29,
   "id": "1589a4b4-9b1d-431e-95fe-9370cb275bd1",
   "metadata": {},
   "outputs": [
    {
     "name": "stdout",
     "output_type": "stream",
     "text": [
      "\n",
      "Training our model at MEC =  201482 \n",
      "\n"
     ]
    },
    {
     "data": {
      "text/html": [
       "\n",
       "                    Syncing run <strong><a href=\"https://wandb.ai/maoli131/cs294-082-final/runs/6py7a1yh\" target=\"_blank\">electric-feather-34</a></strong> to <a href=\"https://wandb.ai/maoli131/cs294-082-final\" target=\"_blank\">Weights & Biases</a> (<a href=\"https://docs.wandb.com/integrations/jupyter.html\" target=\"_blank\">docs</a>).<br/>\n",
       "\n",
       "                "
      ],
      "text/plain": [
       "<IPython.core.display.HTML object>"
      ]
     },
     "metadata": {},
     "output_type": "display_data"
    },
    {
     "name": "stdout",
     "output_type": "stream",
     "text": [
      "Accuracy of the model on the 48000 images: 83.55208333333333%\n",
      "Accuracy of the model on the 12000 images: 83.69166666666666%\n",
      "Accuracy of the model on the 10000 images: 82.39%\n"
     ]
    },
    {
     "data": {
      "text/html": [
       "<br/>Waiting for W&B process to finish, PID 54839... <strong style=\"color:green\">(success).</strong>"
      ],
      "text/plain": [
       "<IPython.core.display.HTML object>"
      ]
     },
     "metadata": {},
     "output_type": "display_data"
    },
    {
     "data": {
      "application/vnd.jupyter.widget-view+json": {
       "model_id": "",
       "version_major": 2,
       "version_minor": 0
      },
      "text/plain": [
       "VBox(children=(Label(value=' 0.96MB of 0.96MB uploaded (0.00MB deduped)\\r'), FloatProgress(value=1.0, max=1.0)…"
      ]
     },
     "metadata": {},
     "output_type": "display_data"
    },
    {
     "data": {
      "text/html": [
       "<style>\n",
       "    table.wandb td:nth-child(1) { padding: 0 10px; text-align: right }\n",
       "    .wandb-row { display: flex; flex-direction: row; flex-wrap: wrap; width: 100% }\n",
       "    .wandb-col { display: flex; flex-direction: column; flex-basis: 100%; flex: 1; padding: 10px; }\n",
       "    </style>\n",
       "<div class=\"wandb-row\"><div class=\"wandb-col\">\n",
       "<h3>Run history:</h3><br/><table class=\"wandb\"><tr><td>epoch</td><td>▁▁▁▁▁▁▁</td></tr><tr><td>loss</td><td>█▇▄▅█▁▆</td></tr><tr><td>test</td><td>▁</td></tr><tr><td>train</td><td>▁</td></tr><tr><td>valid</td><td>▁</td></tr></table><br/></div><div class=\"wandb-col\">\n",
       "<h3>Run summary:</h3><br/><table class=\"wandb\"><tr><td>epoch</td><td>0</td></tr><tr><td>loss</td><td>0.56321</td></tr><tr><td>test</td><td>0.8239</td></tr><tr><td>train</td><td>0.83552</td></tr><tr><td>valid</td><td>0.83692</td></tr></table>\n",
       "</div></div>\n",
       "Synced 5 W&B file(s), 0 media file(s), 0 artifact file(s) and 1 other file(s)\n",
       "<br/>Synced <strong style=\"color:#cdcd00\">electric-feather-34</strong>: <a href=\"https://wandb.ai/maoli131/cs294-082-final/runs/6py7a1yh\" target=\"_blank\">https://wandb.ai/maoli131/cs294-082-final/runs/6py7a1yh</a><br/>\n",
       "Find logs at: <code>./wandb/run-20211216_140617-6py7a1yh/logs</code><br/>\n"
      ],
      "text/plain": [
       "<IPython.core.display.HTML object>"
      ]
     },
     "metadata": {},
     "output_type": "display_data"
    },
    {
     "data": {
      "text/html": [
       "\n",
       "                    Syncing run <strong><a href=\"https://wandb.ai/maoli131/cs294-082-final/runs/33ygs578\" target=\"_blank\">splendid-sun-35</a></strong> to <a href=\"https://wandb.ai/maoli131/cs294-082-final\" target=\"_blank\">Weights & Biases</a> (<a href=\"https://docs.wandb.com/integrations/jupyter.html\" target=\"_blank\">docs</a>).<br/>\n",
       "\n",
       "                "
      ],
      "text/plain": [
       "<IPython.core.display.HTML object>"
      ]
     },
     "metadata": {},
     "output_type": "display_data"
    },
    {
     "name": "stdout",
     "output_type": "stream",
     "text": [
      "Accuracy of the model on the 48000 images: 91.75416666666666%\n",
      "Accuracy of the model on the 12000 images: 88.84166666666667%\n",
      "Accuracy of the model on the 10000 images: 88.24%\n"
     ]
    },
    {
     "data": {
      "text/html": [
       "<br/>Waiting for W&B process to finish, PID 54963... <strong style=\"color:green\">(success).</strong>"
      ],
      "text/plain": [
       "<IPython.core.display.HTML object>"
      ]
     },
     "metadata": {},
     "output_type": "display_data"
    },
    {
     "data": {
      "application/vnd.jupyter.widget-view+json": {
       "model_id": "",
       "version_major": 2,
       "version_minor": 0
      },
      "text/plain": [
       "VBox(children=(Label(value=' 0.00MB of 0.96MB uploaded (0.00MB deduped)\\r'), FloatProgress(value=0.00088443630…"
      ]
     },
     "metadata": {},
     "output_type": "display_data"
    },
    {
     "data": {
      "text/html": [
       "<style>\n",
       "    table.wandb td:nth-child(1) { padding: 0 10px; text-align: right }\n",
       "    .wandb-row { display: flex; flex-direction: row; flex-wrap: wrap; width: 100% }\n",
       "    .wandb-col { display: flex; flex-direction: column; flex-basis: 100%; flex: 1; padding: 10px; }\n",
       "    </style>\n",
       "<div class=\"wandb-row\"><div class=\"wandb-col\">\n",
       "<h3>Run history:</h3><br/><table class=\"wandb\"><tr><td>epoch</td><td>▁▁▁▁▂▂▂▂▃▃▃▃▃▃▃▃▄▄▄▄▅▅▅▅▆▆▆▆▆▆▆▆▇▇▇▇████</td></tr><tr><td>loss</td><td>█▇▇▅▄▄▆▅▄▃▃▂▄▂▂▃▃▃▂▂▄▂▃▂▂▂▃▃▃▂▃▄▁▄▂▃▁▂▂▃</td></tr><tr><td>test</td><td>▁</td></tr><tr><td>train</td><td>▁</td></tr><tr><td>valid</td><td>▁</td></tr></table><br/></div><div class=\"wandb-col\">\n",
       "<h3>Run summary:</h3><br/><table class=\"wandb\"><tr><td>epoch</td><td>9</td></tr><tr><td>loss</td><td>0.26311</td></tr><tr><td>test</td><td>0.8824</td></tr><tr><td>train</td><td>0.91754</td></tr><tr><td>valid</td><td>0.88842</td></tr></table>\n",
       "</div></div>\n",
       "Synced 5 W&B file(s), 0 media file(s), 0 artifact file(s) and 1 other file(s)\n",
       "<br/>Synced <strong style=\"color:#cdcd00\">splendid-sun-35</strong>: <a href=\"https://wandb.ai/maoli131/cs294-082-final/runs/33ygs578\" target=\"_blank\">https://wandb.ai/maoli131/cs294-082-final/runs/33ygs578</a><br/>\n",
       "Find logs at: <code>./wandb/run-20211216_140642-33ygs578/logs</code><br/>\n"
      ],
      "text/plain": [
       "<IPython.core.display.HTML object>"
      ]
     },
     "metadata": {},
     "output_type": "display_data"
    },
    {
     "data": {
      "text/html": [
       "\n",
       "                    Syncing run <strong><a href=\"https://wandb.ai/maoli131/cs294-082-final/runs/3usazsiz\" target=\"_blank\">vague-lion-36</a></strong> to <a href=\"https://wandb.ai/maoli131/cs294-082-final\" target=\"_blank\">Weights & Biases</a> (<a href=\"https://docs.wandb.com/integrations/jupyter.html\" target=\"_blank\">docs</a>).<br/>\n",
       "\n",
       "                "
      ],
      "text/plain": [
       "<IPython.core.display.HTML object>"
      ]
     },
     "metadata": {},
     "output_type": "display_data"
    },
    {
     "name": "stdout",
     "output_type": "stream",
     "text": [
      "Accuracy of the model on the 48000 images: 93.62291666666667%\n",
      "Accuracy of the model on the 12000 images: 89.09166666666667%\n",
      "Accuracy of the model on the 10000 images: 88.33%\n"
     ]
    },
    {
     "data": {
      "text/html": [
       "<br/>Waiting for W&B process to finish, PID 55482... <strong style=\"color:green\">(success).</strong>"
      ],
      "text/plain": [
       "<IPython.core.display.HTML object>"
      ]
     },
     "metadata": {},
     "output_type": "display_data"
    },
    {
     "data": {
      "application/vnd.jupyter.widget-view+json": {
       "model_id": "",
       "version_major": 2,
       "version_minor": 0
      },
      "text/plain": [
       "VBox(children=(Label(value=' 0.96MB of 0.96MB uploaded (0.00MB deduped)\\r'), FloatProgress(value=1.0, max=1.0)…"
      ]
     },
     "metadata": {},
     "output_type": "display_data"
    },
    {
     "data": {
      "text/html": [
       "<style>\n",
       "    table.wandb td:nth-child(1) { padding: 0 10px; text-align: right }\n",
       "    .wandb-row { display: flex; flex-direction: row; flex-wrap: wrap; width: 100% }\n",
       "    .wandb-col { display: flex; flex-direction: column; flex-basis: 100%; flex: 1; padding: 10px; }\n",
       "    </style>\n",
       "<div class=\"wandb-row\"><div class=\"wandb-col\">\n",
       "<h3>Run history:</h3><br/><table class=\"wandb\"><tr><td>epoch</td><td>▁▁▁▁▂▂▂▂▂▂▃▃▃▃▄▄▄▄▄▄▅▅▅▅▅▅▆▆▆▆▇▇▇▇▇▇████</td></tr><tr><td>loss</td><td>█▆▅▄▄▅▂▄▄▄▃▂▅▃▁▂▂▃▄▃▂▃▂▄▂▁▃▃▄▁▂▁▃▁▂▃▁▃▂▁</td></tr><tr><td>test</td><td>▁</td></tr><tr><td>train</td><td>▁</td></tr><tr><td>valid</td><td>▁</td></tr></table><br/></div><div class=\"wandb-col\">\n",
       "<h3>Run summary:</h3><br/><table class=\"wandb\"><tr><td>epoch</td><td>19</td></tr><tr><td>loss</td><td>0.07724</td></tr><tr><td>test</td><td>0.8833</td></tr><tr><td>train</td><td>0.93623</td></tr><tr><td>valid</td><td>0.89092</td></tr></table>\n",
       "</div></div>\n",
       "Synced 5 W&B file(s), 0 media file(s), 0 artifact file(s) and 1 other file(s)\n",
       "<br/>Synced <strong style=\"color:#cdcd00\">vague-lion-36</strong>: <a href=\"https://wandb.ai/maoli131/cs294-082-final/runs/3usazsiz\" target=\"_blank\">https://wandb.ai/maoli131/cs294-082-final/runs/3usazsiz</a><br/>\n",
       "Find logs at: <code>./wandb/run-20211216_140828-3usazsiz/logs</code><br/>\n"
      ],
      "text/plain": [
       "<IPython.core.display.HTML object>"
      ]
     },
     "metadata": {},
     "output_type": "display_data"
    },
    {
     "data": {
      "text/html": [
       "\n",
       "                    Syncing run <strong><a href=\"https://wandb.ai/maoli131/cs294-082-final/runs/37br1tg5\" target=\"_blank\">pious-jazz-37</a></strong> to <a href=\"https://wandb.ai/maoli131/cs294-082-final\" target=\"_blank\">Weights & Biases</a> (<a href=\"https://docs.wandb.com/integrations/jupyter.html\" target=\"_blank\">docs</a>).<br/>\n",
       "\n",
       "                "
      ],
      "text/plain": [
       "<IPython.core.display.HTML object>"
      ]
     },
     "metadata": {},
     "output_type": "display_data"
    },
    {
     "name": "stdout",
     "output_type": "stream",
     "text": [
      "Accuracy of the model on the 48000 images: 95.775%\n",
      "Accuracy of the model on the 12000 images: 89.99166666666666%\n",
      "Accuracy of the model on the 10000 images: 89.0%\n"
     ]
    },
    {
     "data": {
      "text/html": [
       "<br/>Waiting for W&B process to finish, PID 5404... <strong style=\"color:green\">(success).</strong>"
      ],
      "text/plain": [
       "<IPython.core.display.HTML object>"
      ]
     },
     "metadata": {},
     "output_type": "display_data"
    },
    {
     "data": {
      "application/vnd.jupyter.widget-view+json": {
       "model_id": "",
       "version_major": 2,
       "version_minor": 0
      },
      "text/plain": [
       "VBox(children=(Label(value=' 0.08MB of 0.96MB uploaded (0.00MB deduped)\\r'), FloatProgress(value=0.08210979701…"
      ]
     },
     "metadata": {},
     "output_type": "display_data"
    },
    {
     "data": {
      "text/html": [
       "<style>\n",
       "    table.wandb td:nth-child(1) { padding: 0 10px; text-align: right }\n",
       "    .wandb-row { display: flex; flex-direction: row; flex-wrap: wrap; width: 100% }\n",
       "    .wandb-col { display: flex; flex-direction: column; flex-basis: 100%; flex: 1; padding: 10px; }\n",
       "    </style>\n",
       "<div class=\"wandb-row\"><div class=\"wandb-col\">\n",
       "<h3>Run history:</h3><br/><table class=\"wandb\"><tr><td>epoch</td><td>▁▁▁▁▂▂▂▂▂▂▃▃▃▃▃▄▄▄▄▄▅▅▅▅▅▆▆▆▆▆▆▇▇▇▇▇████</td></tr><tr><td>loss</td><td>█▄▅▂▄▃▃▃▃▃▃▂▂▂▂▂▂▃▂▂▁▂▂▁▁▂▂▁▂▁▁▁▂▂▄▁▂▂▁▁</td></tr><tr><td>test</td><td>▁</td></tr><tr><td>train</td><td>▁</td></tr><tr><td>valid</td><td>▁</td></tr></table><br/></div><div class=\"wandb-col\">\n",
       "<h3>Run summary:</h3><br/><table class=\"wandb\"><tr><td>epoch</td><td>29</td></tr><tr><td>loss</td><td>0.06933</td></tr><tr><td>test</td><td>0.89</td></tr><tr><td>train</td><td>0.95775</td></tr><tr><td>valid</td><td>0.89992</td></tr></table>\n",
       "</div></div>\n",
       "Synced 5 W&B file(s), 0 media file(s), 0 artifact file(s) and 1 other file(s)\n",
       "<br/>Synced <strong style=\"color:#cdcd00\">pious-jazz-37</strong>: <a href=\"https://wandb.ai/maoli131/cs294-082-final/runs/37br1tg5\" target=\"_blank\">https://wandb.ai/maoli131/cs294-082-final/runs/37br1tg5</a><br/>\n",
       "Find logs at: <code>./wandb/run-20211216_141146-37br1tg5/logs</code><br/>\n"
      ],
      "text/plain": [
       "<IPython.core.display.HTML object>"
      ]
     },
     "metadata": {},
     "output_type": "display_data"
    },
    {
     "data": {
      "text/html": [
       "\n",
       "                    Syncing run <strong><a href=\"https://wandb.ai/maoli131/cs294-082-final/runs/zlicsycp\" target=\"_blank\">balmy-snow-38</a></strong> to <a href=\"https://wandb.ai/maoli131/cs294-082-final\" target=\"_blank\">Weights & Biases</a> (<a href=\"https://docs.wandb.com/integrations/jupyter.html\" target=\"_blank\">docs</a>).<br/>\n",
       "\n",
       "                "
      ],
      "text/plain": [
       "<IPython.core.display.HTML object>"
      ]
     },
     "metadata": {},
     "output_type": "display_data"
    },
    {
     "name": "stdout",
     "output_type": "stream",
     "text": [
      "Accuracy of the model on the 48000 images: 97.50208333333333%\n",
      "Accuracy of the model on the 12000 images: 89.25%\n",
      "Accuracy of the model on the 10000 images: 88.78%\n"
     ]
    },
    {
     "data": {
      "text/html": [
       "<br/>Waiting for W&B process to finish, PID 19701... <strong style=\"color:green\">(success).</strong>"
      ],
      "text/plain": [
       "<IPython.core.display.HTML object>"
      ]
     },
     "metadata": {},
     "output_type": "display_data"
    },
    {
     "data": {
      "application/vnd.jupyter.widget-view+json": {
       "model_id": "",
       "version_major": 2,
       "version_minor": 0
      },
      "text/plain": [
       "VBox(children=(Label(value=' 0.96MB of 0.96MB uploaded (0.00MB deduped)\\r'), FloatProgress(value=1.0, max=1.0)…"
      ]
     },
     "metadata": {},
     "output_type": "display_data"
    },
    {
     "data": {
      "text/html": [
       "<style>\n",
       "    table.wandb td:nth-child(1) { padding: 0 10px; text-align: right }\n",
       "    .wandb-row { display: flex; flex-direction: row; flex-wrap: wrap; width: 100% }\n",
       "    .wandb-col { display: flex; flex-direction: column; flex-basis: 100%; flex: 1; padding: 10px; }\n",
       "    </style>\n",
       "<div class=\"wandb-row\"><div class=\"wandb-col\">\n",
       "<h3>Run history:</h3><br/><table class=\"wandb\"><tr><td>epoch</td><td>▁▁▁▂▂▂▂▂▂▃▃▃▃▃▄▄▄▄▄▄▅▅▅▅▅▅▆▆▆▆▆▇▇▇▇▇▇███</td></tr><tr><td>loss</td><td>▇▆█▄▅▅▅▂▃▃▃▅▃▃▂▃▅▃▃▅▄▄▃▂▁▃▂▁▂▃▂▃▃▂▂▃▂▂▁▁</td></tr><tr><td>test</td><td>▁</td></tr><tr><td>train</td><td>▁</td></tr><tr><td>valid</td><td>▁</td></tr></table><br/></div><div class=\"wandb-col\">\n",
       "<h3>Run summary:</h3><br/><table class=\"wandb\"><tr><td>epoch</td><td>49</td></tr><tr><td>loss</td><td>0.05316</td></tr><tr><td>test</td><td>0.8878</td></tr><tr><td>train</td><td>0.97502</td></tr><tr><td>valid</td><td>0.8925</td></tr></table>\n",
       "</div></div>\n",
       "Synced 5 W&B file(s), 0 media file(s), 0 artifact file(s) and 1 other file(s)\n",
       "<br/>Synced <strong style=\"color:#cdcd00\">balmy-snow-38</strong>: <a href=\"https://wandb.ai/maoli131/cs294-082-final/runs/zlicsycp\" target=\"_blank\">https://wandb.ai/maoli131/cs294-082-final/runs/zlicsycp</a><br/>\n",
       "Find logs at: <code>./wandb/run-20211216_141633-zlicsycp/logs</code><br/>\n"
      ],
      "text/plain": [
       "<IPython.core.display.HTML object>"
      ]
     },
     "metadata": {},
     "output_type": "display_data"
    },
    {
     "data": {
      "text/html": [
       "\n",
       "                    Syncing run <strong><a href=\"https://wandb.ai/maoli131/cs294-082-final/runs/1kuwojt1\" target=\"_blank\">fresh-sponge-39</a></strong> to <a href=\"https://wandb.ai/maoli131/cs294-082-final\" target=\"_blank\">Weights & Biases</a> (<a href=\"https://docs.wandb.com/integrations/jupyter.html\" target=\"_blank\">docs</a>).<br/>\n",
       "\n",
       "                "
      ],
      "text/plain": [
       "<IPython.core.display.HTML object>"
      ]
     },
     "metadata": {},
     "output_type": "display_data"
    },
    {
     "name": "stdout",
     "output_type": "stream",
     "text": [
      "Accuracy of the model on the 48000 images: 98.03333333333333%\n",
      "Accuracy of the model on the 12000 images: 89.40833333333333%\n",
      "Accuracy of the model on the 10000 images: 88.59%\n"
     ]
    },
    {
     "data": {
      "text/html": [
       "<br/>Waiting for W&B process to finish, PID 22810... <strong style=\"color:green\">(success).</strong>"
      ],
      "text/plain": [
       "<IPython.core.display.HTML object>"
      ]
     },
     "metadata": {},
     "output_type": "display_data"
    },
    {
     "data": {
      "application/vnd.jupyter.widget-view+json": {
       "model_id": "",
       "version_major": 2,
       "version_minor": 0
      },
      "text/plain": [
       "VBox(children=(Label(value=' 0.96MB of 0.96MB uploaded (0.00MB deduped)\\r'), FloatProgress(value=1.0, max=1.0)…"
      ]
     },
     "metadata": {},
     "output_type": "display_data"
    },
    {
     "data": {
      "text/html": [
       "<style>\n",
       "    table.wandb td:nth-child(1) { padding: 0 10px; text-align: right }\n",
       "    .wandb-row { display: flex; flex-direction: row; flex-wrap: wrap; width: 100% }\n",
       "    .wandb-col { display: flex; flex-direction: column; flex-basis: 100%; flex: 1; padding: 10px; }\n",
       "    </style>\n",
       "<div class=\"wandb-row\"><div class=\"wandb-col\">\n",
       "<h3>Run history:</h3><br/><table class=\"wandb\"><tr><td>epoch</td><td>▁▁▁▁▂▂▂▂▂▃▃▃▃▃▃▄▄▄▄▄▅▅▅▅▅▅▆▆▆▆▆▆▇▇▇▇▇███</td></tr><tr><td>loss</td><td>██▆▅▇▄▃▄▃▃▂▄▄▃▄▃▂▂▃▁▂▃▂▂▁▂▂▂▁▁▂▄▃▁▃▁▁▂▄▂</td></tr><tr><td>test</td><td>▁</td></tr><tr><td>train</td><td>▁</td></tr><tr><td>valid</td><td>▁</td></tr></table><br/></div><div class=\"wandb-col\">\n",
       "<h3>Run summary:</h3><br/><table class=\"wandb\"><tr><td>epoch</td><td>79</td></tr><tr><td>loss</td><td>0.08274</td></tr><tr><td>test</td><td>0.8859</td></tr><tr><td>train</td><td>0.98033</td></tr><tr><td>valid</td><td>0.89408</td></tr></table>\n",
       "</div></div>\n",
       "Synced 5 W&B file(s), 0 media file(s), 0 artifact file(s) and 1 other file(s)\n",
       "<br/>Synced <strong style=\"color:#cdcd00\">fresh-sponge-39</strong>: <a href=\"https://wandb.ai/maoli131/cs294-082-final/runs/1kuwojt1\" target=\"_blank\">https://wandb.ai/maoli131/cs294-082-final/runs/1kuwojt1</a><br/>\n",
       "Find logs at: <code>./wandb/run-20211216_142418-1kuwojt1/logs</code><br/>\n"
      ],
      "text/plain": [
       "<IPython.core.display.HTML object>"
      ]
     },
     "metadata": {},
     "output_type": "display_data"
    },
    {
     "data": {
      "image/png": "[encoded data removed]",
      "text/plain": [
       "<Figure size 432x288 with 1 Axes>"
      ]
     },
     "metadata": {
      "needs_background": "light"
     },
     "output_type": "display_data"
    }
   ],
   "source": [
    "# configurations\n",
    "config = dict(\n",
    "    epochs=1,\n",
    "    classes=10,\n",
    "    kernels=[256, 128, 128],\n",
    "    batch_size=64,\n",
    "    learning_rate=0.001,\n",
    "    sls = 1,\n",
    "    dataset=\"Fashion-MNIST\",\n",
    "    architecture=\"MLP\"\n",
    ")\n",
    "\n",
    "# Memory Equivalent Capacity\n",
    "print(\"\\nTraining our model at MEC = \", compute_mec(config['kernels']), \"\\n\")\n",
    "\n",
    "# Build, train and analyze the model with the pipeline\n",
    "epoch_list = [1, 10, 20, 30, 50, 80]\n",
    "train_acc_list = []\n",
    "valid_acc_list = []\n",
    "test_acc_list = []\n",
    "for e in epoch_list:\n",
    "    config['epochs'] = e\n",
    "    model, acc = model_pipeline(config)\n",
    "    train_acc_list.append(acc['train'])\n",
    "    valid_acc_list.append(acc['valid'])\n",
    "    test_acc_list.append(acc['test'])\n",
    "\n",
    "# Visualize the results\n",
    "plt.title(\"Accuracy Curve\")\n",
    "plt.xlabel(\"Epochs\")\n",
    "plt.ylabel(\"Accuracy\")\n",
    "sns.scatterplot(x=epoch_list, y=train_acc_list)\n",
    "sns.lineplot(x=epoch_list, y=train_acc_list, label=\"train accuracy\")\n",
    "sns.scatterplot(x=epoch_list, y=valid_acc_list)\n",
    "sns.lineplot(x=epoch_list, y=valid_acc_list, label=\"valid accuracy\")\n",
    "sns.scatterplot(x=epoch_list, y=test_acc_list)\n",
    "sns.lineplot(x=epoch_list, y=test_acc_list, label=\"test accuracy\");"
   ]
  },
  {
   "cell_type": "markdown",
   "id": "540a83be-9e02-47a6-88af-14e992aba697",
   "metadata": {
    "tags": []
   },
   "source": [
    "### Model Accuracy vs. Model MEC\n",
    "\n",
    "In this section, we train our machine learner for generalization and plot the capacity / accuracy plot. We vary the `kernels` in `config` to modify the MEC of our model and observe the change in accuracy. The generalization score is also computed. "
   ]
  },
  {
   "cell_type": "code",
   "execution_count": 26,
   "id": "4d3dec84-ee23-442b-9958-be678208ccba",
   "metadata": {},
   "outputs": [
    {
     "data": {
      "text/html": [
       "\n",
       "                    Syncing run <strong><a href=\"https://wandb.ai/maoli131/cs294-082-final/runs/3j2r7oqn\" target=\"_blank\">happy-deluge-27</a></strong> to <a href=\"https://wandb.ai/maoli131/cs294-082-final\" target=\"_blank\">Weights & Biases</a> (<a href=\"https://docs.wandb.com/integrations/jupyter.html\" target=\"_blank\">docs</a>).<br/>\n",
       "\n",
       "                "
      ],
      "text/plain": [
       "<IPython.core.display.HTML object>"
      ]
     },
     "metadata": {},
     "output_type": "display_data"
    },
    {
     "name": "stdout",
     "output_type": "stream",
     "text": [
      "Accuracy of the model on the 48000 images: 98.20833333333333%\n",
      "Accuracy of the model on the 12000 images: 89.08333333333333%\n",
      "Accuracy of the model on the 10000 images: 88.79%\n"
     ]
    },
    {
     "data": {
      "text/html": [
       "<br/>Waiting for W&B process to finish, PID 38264... <strong style=\"color:green\">(success).</strong>"
      ],
      "text/plain": [
       "<IPython.core.display.HTML object>"
      ]
     },
     "metadata": {},
     "output_type": "display_data"
    },
    {
     "data": {
      "application/vnd.jupyter.widget-view+json": {
       "model_id": "",
       "version_major": 2,
       "version_minor": 0
      },
      "text/plain": [
       "VBox(children=(Label(value=' 0.96MB of 0.96MB uploaded (0.00MB deduped)\\r'), FloatProgress(value=1.0, max=1.0)…"
      ]
     },
     "metadata": {},
     "output_type": "display_data"
    },
    {
     "data": {
      "text/html": [
       "<style>\n",
       "    table.wandb td:nth-child(1) { padding: 0 10px; text-align: right }\n",
       "    .wandb-row { display: flex; flex-direction: row; flex-wrap: wrap; width: 100% }\n",
       "    .wandb-col { display: flex; flex-direction: column; flex-basis: 100%; flex: 1; padding: 10px; }\n",
       "    </style>\n",
       "<div class=\"wandb-row\"><div class=\"wandb-col\">\n",
       "<h3>Run history:</h3><br/><table class=\"wandb\"><tr><td>epoch</td><td>▁▁▁▁▂▂▂▂▂▃▃▃▃▃▃▄▄▄▄▄▅▅▅▅▅▅▆▆▆▆▆▆▇▇▇▇▇███</td></tr><tr><td>loss</td><td>▆▅▃▆▄█▃▃▃▄▃▂▃▂▃▃▃▄▄▂▂▄▂▃▁▂▃▂▃▂▂▁▂▂▁▃▃▁▁▁</td></tr><tr><td>test</td><td>▁</td></tr><tr><td>train</td><td>▁</td></tr><tr><td>valid</td><td>▁</td></tr></table><br/></div><div class=\"wandb-col\">\n",
       "<h3>Run summary:</h3><br/><table class=\"wandb\"><tr><td>epoch</td><td>79</td></tr><tr><td>loss</td><td>0.02314</td></tr><tr><td>test</td><td>0.8879</td></tr><tr><td>train</td><td>0.98208</td></tr><tr><td>valid</td><td>0.89083</td></tr></table>\n",
       "</div></div>\n",
       "Synced 5 W&B file(s), 0 media file(s), 0 artifact file(s) and 1 other file(s)\n",
       "<br/>Synced <strong style=\"color:#cdcd00\">happy-deluge-27</strong>: <a href=\"https://wandb.ai/maoli131/cs294-082-final/runs/3j2r7oqn\" target=\"_blank\">https://wandb.ai/maoli131/cs294-082-final/runs/3j2r7oqn</a><br/>\n",
       "Find logs at: <code>./wandb/run-20211216_120459-3j2r7oqn/logs</code><br/>\n"
      ],
      "text/plain": [
       "<IPython.core.display.HTML object>"
      ]
     },
     "metadata": {},
     "output_type": "display_data"
    },
    {
     "data": {
      "text/html": [
       "\n",
       "                    Syncing run <strong><a href=\"https://wandb.ai/maoli131/cs294-082-final/runs/11bq1f7u\" target=\"_blank\">snowy-forest-28</a></strong> to <a href=\"https://wandb.ai/maoli131/cs294-082-final\" target=\"_blank\">Weights & Biases</a> (<a href=\"https://docs.wandb.com/integrations/jupyter.html\" target=\"_blank\">docs</a>).<br/>\n",
       "\n",
       "                "
      ],
      "text/plain": [
       "<IPython.core.display.HTML object>"
      ]
     },
     "metadata": {},
     "output_type": "display_data"
    },
    {
     "name": "stdout",
     "output_type": "stream",
     "text": [
      "Accuracy of the model on the 48000 images: 97.04375%\n",
      "Accuracy of the model on the 12000 images: 88.48333333333333%\n",
      "Accuracy of the model on the 10000 images: 88.19%\n"
     ]
    },
    {
     "data": {
      "text/html": [
       "<br/>Waiting for W&B process to finish, PID 81319... <strong style=\"color:green\">(success).</strong>"
      ],
      "text/plain": [
       "<IPython.core.display.HTML object>"
      ]
     },
     "metadata": {},
     "output_type": "display_data"
    },
    {
     "data": {
      "application/vnd.jupyter.widget-view+json": {
       "model_id": "",
       "version_major": 2,
       "version_minor": 0
      },
      "text/plain": [
       "VBox(children=(Label(value=' 0.43MB of 0.43MB uploaded (0.00MB deduped)\\r'), FloatProgress(value=1.0, max=1.0)…"
      ]
     },
     "metadata": {},
     "output_type": "display_data"
    },
    {
     "data": {
      "text/html": [
       "<style>\n",
       "    table.wandb td:nth-child(1) { padding: 0 10px; text-align: right }\n",
       "    .wandb-row { display: flex; flex-direction: row; flex-wrap: wrap; width: 100% }\n",
       "    .wandb-col { display: flex; flex-direction: column; flex-basis: 100%; flex: 1; padding: 10px; }\n",
       "    </style>\n",
       "<div class=\"wandb-row\"><div class=\"wandb-col\">\n",
       "<h3>Run history:</h3><br/><table class=\"wandb\"><tr><td>epoch</td><td>▁▁▁▁▂▂▂▂▂▃▃▃▃▃▃▄▄▄▄▄▅▅▅▅▅▅▆▆▆▆▆▆▇▇▇▇▇███</td></tr><tr><td>loss</td><td>█▅▆▄▃▄▃▂▂▃▃▃▁▃▃▂▂▂▂▂▃▃▂▁▂▁▁▂▂▂▁▂▂▁▁▂▁▁▁▁</td></tr><tr><td>test</td><td>▁</td></tr><tr><td>train</td><td>▁</td></tr><tr><td>valid</td><td>▁</td></tr></table><br/></div><div class=\"wandb-col\">\n",
       "<h3>Run summary:</h3><br/><table class=\"wandb\"><tr><td>epoch</td><td>79</td></tr><tr><td>loss</td><td>0.04386</td></tr><tr><td>test</td><td>0.8819</td></tr><tr><td>train</td><td>0.97044</td></tr><tr><td>valid</td><td>0.88483</td></tr></table>\n",
       "</div></div>\n",
       "Synced 5 W&B file(s), 0 media file(s), 0 artifact file(s) and 1 other file(s)\n",
       "<br/>Synced <strong style=\"color:#cdcd00\">snowy-forest-28</strong>: <a href=\"https://wandb.ai/maoli131/cs294-082-final/runs/11bq1f7u\" target=\"_blank\">https://wandb.ai/maoli131/cs294-082-final/runs/11bq1f7u</a><br/>\n",
       "Find logs at: <code>./wandb/run-20211216_121721-11bq1f7u/logs</code><br/>\n"
      ],
      "text/plain": [
       "<IPython.core.display.HTML object>"
      ]
     },
     "metadata": {},
     "output_type": "display_data"
    },
    {
     "data": {
      "text/html": [
       "\n",
       "                    Syncing run <strong><a href=\"https://wandb.ai/maoli131/cs294-082-final/runs/2roccrx8\" target=\"_blank\">swift-silence-29</a></strong> to <a href=\"https://wandb.ai/maoli131/cs294-082-final\" target=\"_blank\">Weights & Biases</a> (<a href=\"https://docs.wandb.com/integrations/jupyter.html\" target=\"_blank\">docs</a>).<br/>\n",
       "\n",
       "                "
      ],
      "text/plain": [
       "<IPython.core.display.HTML object>"
      ]
     },
     "metadata": {},
     "output_type": "display_data"
    },
    {
     "name": "stdout",
     "output_type": "stream",
     "text": [
      "Accuracy of the model on the 48000 images: 96.56458333333333%\n",
      "Accuracy of the model on the 12000 images: 88.16666666666667%\n",
      "Accuracy of the model on the 10000 images: 87.81%\n"
     ]
    },
    {
     "data": {
      "text/html": [
       "<br/>Waiting for W&B process to finish, PID 42886... <strong style=\"color:green\">(success).</strong>"
      ],
      "text/plain": [
       "<IPython.core.display.HTML object>"
      ]
     },
     "metadata": {},
     "output_type": "display_data"
    },
    {
     "data": {
      "application/vnd.jupyter.widget-view+json": {
       "model_id": "",
       "version_major": 2,
       "version_minor": 0
      },
      "text/plain": [
       "VBox(children=(Label(value=' 0.21MB of 0.21MB uploaded (0.00MB deduped)\\r'), FloatProgress(value=1.0, max=1.0)…"
      ]
     },
     "metadata": {},
     "output_type": "display_data"
    },
    {
     "data": {
      "text/html": [
       "<style>\n",
       "    table.wandb td:nth-child(1) { padding: 0 10px; text-align: right }\n",
       "    .wandb-row { display: flex; flex-direction: row; flex-wrap: wrap; width: 100% }\n",
       "    .wandb-col { display: flex; flex-direction: column; flex-basis: 100%; flex: 1; padding: 10px; }\n",
       "    </style>\n",
       "<div class=\"wandb-row\"><div class=\"wandb-col\">\n",
       "<h3>Run history:</h3><br/><table class=\"wandb\"><tr><td>epoch</td><td>▁▁▁▁▂▂▂▂▂▃▃▃▃▃▃▄▄▄▄▄▅▅▅▅▅▅▆▆▆▆▆▆▇▇▇▇▇███</td></tr><tr><td>loss</td><td>██▆█▅▇▄█▅▆▅▆▃▄▂▄▄▃▅▃▄▃▄▃▃▃▁▃▃▂▂▃▃▃▂▄▄▁▂▂</td></tr><tr><td>test</td><td>▁</td></tr><tr><td>train</td><td>▁</td></tr><tr><td>valid</td><td>▁</td></tr></table><br/></div><div class=\"wandb-col\">\n",
       "<h3>Run summary:</h3><br/><table class=\"wandb\"><tr><td>epoch</td><td>79</td></tr><tr><td>loss</td><td>0.07312</td></tr><tr><td>test</td><td>0.8781</td></tr><tr><td>train</td><td>0.96565</td></tr><tr><td>valid</td><td>0.88167</td></tr></table>\n",
       "</div></div>\n",
       "Synced 5 W&B file(s), 0 media file(s), 0 artifact file(s) and 1 other file(s)\n",
       "<br/>Synced <strong style=\"color:#cdcd00\">swift-silence-29</strong>: <a href=\"https://wandb.ai/maoli131/cs294-082-final/runs/2roccrx8\" target=\"_blank\">https://wandb.ai/maoli131/cs294-082-final/runs/2roccrx8</a><br/>\n",
       "Find logs at: <code>./wandb/run-20211216_122936-2roccrx8/logs</code><br/>\n"
      ],
      "text/plain": [
       "<IPython.core.display.HTML object>"
      ]
     },
     "metadata": {},
     "output_type": "display_data"
    },
    {
     "data": {
      "text/html": [
       "\n",
       "                    Syncing run <strong><a href=\"https://wandb.ai/maoli131/cs294-082-final/runs/343gd3yr\" target=\"_blank\">likely-oath-30</a></strong> to <a href=\"https://wandb.ai/maoli131/cs294-082-final\" target=\"_blank\">Weights & Biases</a> (<a href=\"https://docs.wandb.com/integrations/jupyter.html\" target=\"_blank\">docs</a>).<br/>\n",
       "\n",
       "                "
      ],
      "text/plain": [
       "<IPython.core.display.HTML object>"
      ]
     },
     "metadata": {},
     "output_type": "display_data"
    },
    {
     "name": "stdout",
     "output_type": "stream",
     "text": [
      "Accuracy of the model on the 48000 images: 93.65833333333333%\n",
      "Accuracy of the model on the 12000 images: 87.85833333333333%\n",
      "Accuracy of the model on the 10000 images: 86.57%\n"
     ]
    },
    {
     "data": {
      "text/html": [
       "<br/>Waiting for W&B process to finish, PID 3818... <strong style=\"color:green\">(success).</strong>"
      ],
      "text/plain": [
       "<IPython.core.display.HTML object>"
      ]
     },
     "metadata": {},
     "output_type": "display_data"
    },
    {
     "data": {
      "application/vnd.jupyter.widget-view+json": {
       "model_id": "",
       "version_major": 2,
       "version_minor": 0
      },
      "text/plain": [
       "VBox(children=(Label(value=' 0.00MB of 0.10MB uploaded (0.00MB deduped)\\r'), FloatProgress(value=0.00839426705…"
      ]
     },
     "metadata": {},
     "output_type": "display_data"
    },
    {
     "data": {
      "text/html": [
       "<style>\n",
       "    table.wandb td:nth-child(1) { padding: 0 10px; text-align: right }\n",
       "    .wandb-row { display: flex; flex-direction: row; flex-wrap: wrap; width: 100% }\n",
       "    .wandb-col { display: flex; flex-direction: column; flex-basis: 100%; flex: 1; padding: 10px; }\n",
       "    </style>\n",
       "<div class=\"wandb-row\"><div class=\"wandb-col\">\n",
       "<h3>Run history:</h3><br/><table class=\"wandb\"><tr><td>epoch</td><td>▁▁▁▁▂▂▂▂▂▃▃▃▃▃▃▄▄▄▄▄▅▅▅▅▅▅▆▆▆▆▆▆▇▇▇▇▇███</td></tr><tr><td>loss</td><td>▅▄▄█▄▃▃▂▂▃▃▃▂▆▃▁▂▂▂▃▂▁▃▃▂▂▂▃▄▁▃▂▂▁▂▁▂▂▂▁</td></tr><tr><td>test</td><td>▁</td></tr><tr><td>train</td><td>▁</td></tr><tr><td>valid</td><td>▁</td></tr></table><br/></div><div class=\"wandb-col\">\n",
       "<h3>Run summary:</h3><br/><table class=\"wandb\"><tr><td>epoch</td><td>79</td></tr><tr><td>loss</td><td>0.12173</td></tr><tr><td>test</td><td>0.8657</td></tr><tr><td>train</td><td>0.93658</td></tr><tr><td>valid</td><td>0.87858</td></tr></table>\n",
       "</div></div>\n",
       "Synced 5 W&B file(s), 0 media file(s), 0 artifact file(s) and 1 other file(s)\n",
       "<br/>Synced <strong style=\"color:#cdcd00\">likely-oath-30</strong>: <a href=\"https://wandb.ai/maoli131/cs294-082-final/runs/343gd3yr\" target=\"_blank\">https://wandb.ai/maoli131/cs294-082-final/runs/343gd3yr</a><br/>\n",
       "Find logs at: <code>./wandb/run-20211216_124153-343gd3yr/logs</code><br/>\n"
      ],
      "text/plain": [
       "<IPython.core.display.HTML object>"
      ]
     },
     "metadata": {},
     "output_type": "display_data"
    },
    {
     "data": {
      "text/html": [
       "\n",
       "                    Syncing run <strong><a href=\"https://wandb.ai/maoli131/cs294-082-final/runs/2waywn61\" target=\"_blank\">dashing-flower-31</a></strong> to <a href=\"https://wandb.ai/maoli131/cs294-082-final\" target=\"_blank\">Weights & Biases</a> (<a href=\"https://docs.wandb.com/integrations/jupyter.html\" target=\"_blank\">docs</a>).<br/>\n",
       "\n",
       "                "
      ],
      "text/plain": [
       "<IPython.core.display.HTML object>"
      ]
     },
     "metadata": {},
     "output_type": "display_data"
    },
    {
     "name": "stdout",
     "output_type": "stream",
     "text": [
      "Accuracy of the model on the 48000 images: 90.07291666666667%\n",
      "Accuracy of the model on the 12000 images: 86.38333333333334%\n",
      "Accuracy of the model on the 10000 images: 85.36%\n"
     ]
    },
    {
     "data": {
      "text/html": [
       "<br/>Waiting for W&B process to finish, PID 8585... <strong style=\"color:green\">(success).</strong>"
      ],
      "text/plain": [
       "<IPython.core.display.HTML object>"
      ]
     },
     "metadata": {},
     "output_type": "display_data"
    },
    {
     "data": {
      "application/vnd.jupyter.widget-view+json": {
       "model_id": "",
       "version_major": 2,
       "version_minor": 0
      },
      "text/plain": [
       "VBox(children=(Label(value=' 0.05MB of 0.05MB uploaded (0.00MB deduped)\\r'), FloatProgress(value=1.0, max=1.0)…"
      ]
     },
     "metadata": {},
     "output_type": "display_data"
    },
    {
     "data": {
      "text/html": [
       "<style>\n",
       "    table.wandb td:nth-child(1) { padding: 0 10px; text-align: right }\n",
       "    .wandb-row { display: flex; flex-direction: row; flex-wrap: wrap; width: 100% }\n",
       "    .wandb-col { display: flex; flex-direction: column; flex-basis: 100%; flex: 1; padding: 10px; }\n",
       "    </style>\n",
       "<div class=\"wandb-row\"><div class=\"wandb-col\">\n",
       "<h3>Run history:</h3><br/><table class=\"wandb\"><tr><td>epoch</td><td>▁▁▁▁▂▂▂▂▂▃▃▃▃▃▃▄▄▄▄▄▅▅▅▅▅▅▆▆▆▆▆▆▇▇▇▇▇███</td></tr><tr><td>loss</td><td>▇█▇▅▃▆▃▅▆▃▅▃▃▁▆▅▅▂▆▁▄▆▂▃▃▂▅▄▅▂▅▄▄▃▃▂▁▄▄▃</td></tr><tr><td>test</td><td>▁</td></tr><tr><td>train</td><td>▁</td></tr><tr><td>valid</td><td>▁</td></tr></table><br/></div><div class=\"wandb-col\">\n",
       "<h3>Run summary:</h3><br/><table class=\"wandb\"><tr><td>epoch</td><td>79</td></tr><tr><td>loss</td><td>0.23929</td></tr><tr><td>test</td><td>0.8536</td></tr><tr><td>train</td><td>0.90073</td></tr><tr><td>valid</td><td>0.86383</td></tr></table>\n",
       "</div></div>\n",
       "Synced 5 W&B file(s), 0 media file(s), 0 artifact file(s) and 1 other file(s)\n",
       "<br/>Synced <strong style=\"color:#cdcd00\">dashing-flower-31</strong>: <a href=\"https://wandb.ai/maoli131/cs294-082-final/runs/2waywn61\" target=\"_blank\">https://wandb.ai/maoli131/cs294-082-final/runs/2waywn61</a><br/>\n",
       "Find logs at: <code>./wandb/run-20211216_125341-2waywn61/logs</code><br/>\n"
      ],
      "text/plain": [
       "<IPython.core.display.HTML object>"
      ]
     },
     "metadata": {},
     "output_type": "display_data"
    },
    {
     "data": {
      "text/html": [
       "\n",
       "                    Syncing run <strong><a href=\"https://wandb.ai/maoli131/cs294-082-final/runs/3njv9nr6\" target=\"_blank\">woven-brook-32</a></strong> to <a href=\"https://wandb.ai/maoli131/cs294-082-final\" target=\"_blank\">Weights & Biases</a> (<a href=\"https://docs.wandb.com/integrations/jupyter.html\" target=\"_blank\">docs</a>).<br/>\n",
       "\n",
       "                "
      ],
      "text/plain": [
       "<IPython.core.display.HTML object>"
      ]
     },
     "metadata": {},
     "output_type": "display_data"
    },
    {
     "name": "stdout",
     "output_type": "stream",
     "text": [
      "Accuracy of the model on the 48000 images: 87.32708333333333%\n",
      "Accuracy of the model on the 12000 images: 84.075%\n",
      "Accuracy of the model on the 10000 images: 83.81%\n"
     ]
    },
    {
     "data": {
      "text/html": [
       "<br/>Waiting for W&B process to finish, PID 50356... <strong style=\"color:green\">(success).</strong>"
      ],
      "text/plain": [
       "<IPython.core.display.HTML object>"
      ]
     },
     "metadata": {},
     "output_type": "display_data"
    },
    {
     "data": {
      "application/vnd.jupyter.widget-view+json": {
       "model_id": "",
       "version_major": 2,
       "version_minor": 0
      },
      "text/plain": [
       "VBox(children=(Label(value=' 0.03MB of 0.03MB uploaded (0.00MB deduped)\\r'), FloatProgress(value=1.0, max=1.0)…"
      ]
     },
     "metadata": {},
     "output_type": "display_data"
    },
    {
     "data": {
      "text/html": [
       "<style>\n",
       "    table.wandb td:nth-child(1) { padding: 0 10px; text-align: right }\n",
       "    .wandb-row { display: flex; flex-direction: row; flex-wrap: wrap; width: 100% }\n",
       "    .wandb-col { display: flex; flex-direction: column; flex-basis: 100%; flex: 1; padding: 10px; }\n",
       "    </style>\n",
       "<div class=\"wandb-row\"><div class=\"wandb-col\">\n",
       "<h3>Run history:</h3><br/><table class=\"wandb\"><tr><td>epoch</td><td>▁▁▁▁▂▂▂▂▂▃▃▃▃▃▃▄▄▄▄▄▅▅▅▅▅▅▆▆▆▆▆▆▇▇▇▇▇███</td></tr><tr><td>loss</td><td>█▅▅▇▅▄▃▄▄▄▆▅▅▄▆▃▆▃▅▄█▅▄▃▃▅▂▂▅▂▄▄▃▂▂▃▁▂▁▄</td></tr><tr><td>test</td><td>▁</td></tr><tr><td>train</td><td>▁</td></tr><tr><td>valid</td><td>▁</td></tr></table><br/></div><div class=\"wandb-col\">\n",
       "<h3>Run summary:</h3><br/><table class=\"wandb\"><tr><td>epoch</td><td>79</td></tr><tr><td>loss</td><td>0.42826</td></tr><tr><td>test</td><td>0.8381</td></tr><tr><td>train</td><td>0.87327</td></tr><tr><td>valid</td><td>0.84075</td></tr></table>\n",
       "</div></div>\n",
       "Synced 5 W&B file(s), 0 media file(s), 0 artifact file(s) and 1 other file(s)\n",
       "<br/>Synced <strong style=\"color:#cdcd00\">woven-brook-32</strong>: <a href=\"https://wandb.ai/maoli131/cs294-082-final/runs/3njv9nr6\" target=\"_blank\">https://wandb.ai/maoli131/cs294-082-final/runs/3njv9nr6</a><br/>\n",
       "Find logs at: <code>./wandb/run-20211216_130522-3njv9nr6/logs</code><br/>\n"
      ],
      "text/plain": [
       "<IPython.core.display.HTML object>"
      ]
     },
     "metadata": {},
     "output_type": "display_data"
    },
    {
     "data": {
      "text/html": [
       "\n",
       "                    Syncing run <strong><a href=\"https://wandb.ai/maoli131/cs294-082-final/runs/12rafnfh\" target=\"_blank\">swift-night-33</a></strong> to <a href=\"https://wandb.ai/maoli131/cs294-082-final\" target=\"_blank\">Weights & Biases</a> (<a href=\"https://docs.wandb.com/integrations/jupyter.html\" target=\"_blank\">docs</a>).<br/>\n",
       "\n",
       "                "
      ],
      "text/plain": [
       "<IPython.core.display.HTML object>"
      ]
     },
     "metadata": {},
     "output_type": "display_data"
    },
    {
     "name": "stdout",
     "output_type": "stream",
     "text": [
      "Accuracy of the model on the 48000 images: 10.09375%\n",
      "Accuracy of the model on the 12000 images: 9.625%\n",
      "Accuracy of the model on the 10000 images: 10.0%\n"
     ]
    },
    {
     "data": {
      "text/html": [
       "<br/>Waiting for W&B process to finish, PID 9781... <strong style=\"color:green\">(success).</strong>"
      ],
      "text/plain": [
       "<IPython.core.display.HTML object>"
      ]
     },
     "metadata": {},
     "output_type": "display_data"
    },
    {
     "data": {
      "application/vnd.jupyter.widget-view+json": {
       "model_id": "",
       "version_major": 2,
       "version_minor": 0
      },
      "text/plain": [
       "VBox(children=(Label(value=' 0.01MB of 0.01MB uploaded (0.00MB deduped)\\r'), FloatProgress(value=1.0, max=1.0)…"
      ]
     },
     "metadata": {},
     "output_type": "display_data"
    },
    {
     "data": {
      "text/html": [
       "<style>\n",
       "    table.wandb td:nth-child(1) { padding: 0 10px; text-align: right }\n",
       "    .wandb-row { display: flex; flex-direction: row; flex-wrap: wrap; width: 100% }\n",
       "    .wandb-col { display: flex; flex-direction: column; flex-basis: 100%; flex: 1; padding: 10px; }\n",
       "    </style>\n",
       "<div class=\"wandb-row\"><div class=\"wandb-col\">\n",
       "<h3>Run history:</h3><br/><table class=\"wandb\"><tr><td>epoch</td><td>▁▁▁▁▂▂▂▂▂▃▃▃▃▃▃▄▄▄▄▄▅▅▅▅▅▅▆▆▆▆▆▆▇▇▇▇▇███</td></tr><tr><td>loss</td><td>█▄▂▂▂▃▃▃▃▂▄▄▃▃▃▂▃▃▂▃▂▁▂▄▂▃▃▂▂▂▃▃▃▃▃▃▄▃▄▂</td></tr><tr><td>test</td><td>▁</td></tr><tr><td>train</td><td>▁</td></tr><tr><td>valid</td><td>▁</td></tr></table><br/></div><div class=\"wandb-col\">\n",
       "<h3>Run summary:</h3><br/><table class=\"wandb\"><tr><td>epoch</td><td>79</td></tr><tr><td>loss</td><td>2.30091</td></tr><tr><td>test</td><td>0.1</td></tr><tr><td>train</td><td>0.10094</td></tr><tr><td>valid</td><td>0.09625</td></tr></table>\n",
       "</div></div>\n",
       "Synced 5 W&B file(s), 0 media file(s), 0 artifact file(s) and 1 other file(s)\n",
       "<br/>Synced <strong style=\"color:#cdcd00\">swift-night-33</strong>: <a href=\"https://wandb.ai/maoli131/cs294-082-final/runs/12rafnfh\" target=\"_blank\">https://wandb.ai/maoli131/cs294-082-final/runs/12rafnfh</a><br/>\n",
       "Find logs at: <code>./wandb/run-20211216_131706-12rafnfh/logs</code><br/>\n"
      ],
      "text/plain": [
       "<IPython.core.display.HTML object>"
      ]
     },
     "metadata": {},
     "output_type": "display_data"
    },
    {
     "data": {
      "image/png": "[encoded data removed]",
      "text/plain": [
       "<Figure size 432x288 with 1 Axes>"
      ]
     },
     "metadata": {
      "needs_background": "light"
     },
     "output_type": "display_data"
    }
   ],
   "source": [
    "# configurations\n",
    "config = dict(\n",
    "    epochs=80,\n",
    "    classes=10,\n",
    "    kernels=[256, 128, 128],\n",
    "    batch_size=64,\n",
    "    learning_rate=0.001,\n",
    "    sls = 1,\n",
    "    dataset=\"Fashion-MNIST\",\n",
    "    architecture=\"MLP\"\n",
    ")\n",
    "\n",
    "# Build, train and analyze the model with the pipeline\n",
    "k_list = [\n",
    "    [256, 128, 128],\n",
    "    [128, 64, 64],\n",
    "    [64, 32, 32],\n",
    "    [32, 16, 16],\n",
    "    [16, 8, 8],\n",
    "    [8, 4, 4],\n",
    "    [4, 4, 2]\n",
    "]\n",
    "mec_list = [compute_mec(k) for k in k_list] # computes mec for each model\n",
    "train_acc_list = []\n",
    "valid_acc_list = []\n",
    "test_acc_list = []\n",
    "for k in k_list:\n",
    "    config['kernels'] = k\n",
    "    model, acc = model_pipeline(config)\n",
    "    train_acc_list.append(acc['train'])\n",
    "    valid_acc_list.append(acc['valid'])\n",
    "    test_acc_list.append(acc['test'])\n",
    "\n",
    "# Visualize the results\n",
    "plt.title(\"Accuracy vs. Model MEC\")\n",
    "plt.xlabel(\"Model MEC\")\n",
    "plt.ylabel(\"Accuracy\")\n",
    "sns.scatterplot(x=mec_list, y=train_acc_list)\n",
    "sns.lineplot(x=mec_list, y=train_acc_list, label=\"train accuracy\")\n",
    "sns.scatterplot(x=mec_list, y=valid_acc_list)\n",
    "sns.lineplot(x=mec_list, y=valid_acc_list, label=\"valid accuracy\")\n",
    "sns.scatterplot(x=mec_list, y=test_acc_list)\n",
    "sns.lineplot(x=mec_list, y=test_acc_list, label=\"test accuracy\");\n",
    "plt.xlim(max(mec_list) + 10000, 0); # invert the x-axis"
   ]
  },
  {
   "cell_type": "code",
   "execution_count": 28,
   "id": "d6d7e162-bdc0-43c7-94f7-77effcf854df",
   "metadata": {},
   "outputs": [
    {
     "data": {
      "text/html": [
       "<div>\n",
       "<style scoped>\n",
       "    .dataframe tbody tr th:only-of-type {\n",
       "        vertical-align: middle;\n",
       "    }\n",
       "\n",
       "    .dataframe tbody tr th {\n",
       "        vertical-align: top;\n",
       "    }\n",
       "\n",
       "    .dataframe thead th {\n",
       "        text-align: right;\n",
       "    }\n",
       "</style>\n",
       "<table border=\"1\" class=\"dataframe\">\n",
       "  <thead>\n",
       "    <tr style=\"text-align: right;\">\n",
       "      <th></th>\n",
       "      <th># Neurons in Four Layers</th>\n",
       "      <th>Model MEC (bits)</th>\n",
       "      <th>Train Accuracy</th>\n",
       "      <th>Validation Accuracy</th>\n",
       "      <th>Test Accuracy</th>\n",
       "      <th>Generalization</th>\n",
       "    </tr>\n",
       "  </thead>\n",
       "  <tbody>\n",
       "    <tr>\n",
       "      <th>0</th>\n",
       "      <td>[256, 128, 128, 10, 10]</td>\n",
       "      <td>201482</td>\n",
       "      <td>0.982083</td>\n",
       "      <td>0.890833</td>\n",
       "      <td>0.8879</td>\n",
       "      <td>0.292458</td>\n",
       "    </tr>\n",
       "    <tr>\n",
       "      <th>1</th>\n",
       "      <td>[128, 64, 64, 10, 10]</td>\n",
       "      <td>100746</td>\n",
       "      <td>0.970437</td>\n",
       "      <td>0.884833</td>\n",
       "      <td>0.8819</td>\n",
       "      <td>0.577951</td>\n",
       "    </tr>\n",
       "    <tr>\n",
       "      <th>2</th>\n",
       "      <td>[64, 32, 32, 10, 10]</td>\n",
       "      <td>50378</td>\n",
       "      <td>0.965646</td>\n",
       "      <td>0.881667</td>\n",
       "      <td>0.8781</td>\n",
       "      <td>1.150080</td>\n",
       "    </tr>\n",
       "    <tr>\n",
       "      <th>3</th>\n",
       "      <td>[32, 16, 16, 10, 10]</td>\n",
       "      <td>25194</td>\n",
       "      <td>0.936583</td>\n",
       "      <td>0.878583</td>\n",
       "      <td>0.8657</td>\n",
       "      <td>2.230491</td>\n",
       "    </tr>\n",
       "    <tr>\n",
       "      <th>4</th>\n",
       "      <td>[16, 8, 8, 10, 10]</td>\n",
       "      <td>12602</td>\n",
       "      <td>0.900729</td>\n",
       "      <td>0.863833</td>\n",
       "      <td>0.8536</td>\n",
       "      <td>4.288506</td>\n",
       "    </tr>\n",
       "    <tr>\n",
       "      <th>5</th>\n",
       "      <td>[8, 4, 4, 10, 10]</td>\n",
       "      <td>6306</td>\n",
       "      <td>0.873271</td>\n",
       "      <td>0.840750</td>\n",
       "      <td>0.8381</td>\n",
       "      <td>8.308952</td>\n",
       "    </tr>\n",
       "    <tr>\n",
       "      <th>6</th>\n",
       "      <td>[4, 4, 2, 10, 10]</td>\n",
       "      <td>3160</td>\n",
       "      <td>0.100937</td>\n",
       "      <td>0.096250</td>\n",
       "      <td>0.1000</td>\n",
       "      <td>1.916535</td>\n",
       "    </tr>\n",
       "  </tbody>\n",
       "</table>\n",
       "</div>"
      ],
      "text/plain": [
       "  # Neurons in Four Layers  Model MEC (bits)  Train Accuracy  \\\n",
       "0  [256, 128, 128, 10, 10]            201482        0.982083   \n",
       "1    [128, 64, 64, 10, 10]            100746        0.970437   \n",
       "2     [64, 32, 32, 10, 10]             50378        0.965646   \n",
       "3     [32, 16, 16, 10, 10]             25194        0.936583   \n",
       "4       [16, 8, 8, 10, 10]             12602        0.900729   \n",
       "5        [8, 4, 4, 10, 10]              6306        0.873271   \n",
       "6        [4, 4, 2, 10, 10]              3160        0.100937   \n",
       "\n",
       "   Validation Accuracy  Test Accuracy  Generalization  \n",
       "0             0.890833         0.8879        0.292458  \n",
       "1             0.884833         0.8819        0.577951  \n",
       "2             0.881667         0.8781        1.150080  \n",
       "3             0.878583         0.8657        2.230491  \n",
       "4             0.863833         0.8536        4.288506  \n",
       "5             0.840750         0.8381        8.308952  \n",
       "6             0.096250         0.1000        1.916535  "
      ]
     },
     "execution_count": 28,
     "metadata": {},
     "output_type": "execute_result"
    }
   ],
   "source": [
    "num_nodes = k_list.copy()\n",
    "[n.append(10) for n in num_nodes] # include the last output layer\n",
    "table = pd.DataFrame({\n",
    "    \"# Neurons in Four Layers\": num_nodes,\n",
    "    \"Model MEC (bits)\": mec_list, \n",
    "    \"Train Accuracy\": train_acc_list, \n",
    "    \"Validation Accuracy\": valid_acc_list,\n",
    "    \"Test Accuracy\": test_acc_list\n",
    "})\n",
    "table['Generalization'] = table['Train Accuracy'] * 60000 / table['Model MEC (bits)']\n",
    "table"
   ]
  }
 ],
 "metadata": {
  "kernelspec": {
   "display_name": "Tutorial",
   "language": "python",
   "name": "tutorial"
  },
  "language_info": {
   "codemirror_mode": {
    "name": "ipython",
    "version": 3
   },
   "file_extension": ".py",
   "mimetype": "text/x-python",
   "name": "python",
   "nbconvert_exporter": "python",
   "pygments_lexer": "ipython3",
   "version": "3.8.12"
  }
 },
 "nbformat": 4,
 "nbformat_minor": 5
}
